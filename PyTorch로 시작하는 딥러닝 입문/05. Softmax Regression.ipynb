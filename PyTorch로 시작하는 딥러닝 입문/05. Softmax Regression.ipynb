{
 "cells": [
  {
   "attachments": {
    "1e01b952-89e3-46f9-b9c3-36daca4ed450.png": {
     "image/png": "[encoded data removed]"
    },
    "379ed0eb-1e4b-49fd-8db3-f098c5d8b757.png": {
     "image/png": "[encoded data removed]"
    },
    "cb9b3757-e659-40d2-b2e1-a5d8152e309f.png": {
     "image/png": "[encoded data removed]"
    }
   },
   "cell_type": "markdown",
   "id": "e020847e-fed1-45b6-953d-3a900507121a",
   "metadata": {},
   "source": [
    "# 01. One-Hot encoding\n",
    "\n",
    "## 1. One-hot encoding\n",
    "---\n",
    "\n",
    "# 02. Softmax Regression\n",
    "\n",
    "## 1. Multi-class Classification\n",
    "\n",
    "### 1. logistic regression\n",
    "\n",
    "![image.png](attachment:1e01b952-89e3-46f9-b9c3-36daca4ed450.png)\n",
    "\n",
    "- Sigmoid 함수 : 예측값을 0, 1 사이의 값으로 변환\n",
    "\n",
    "- 가설: $H(X) = sigmoid(WX + B)$\n",
    "\n",
    "\n",
    "### 2. Softmax regression\n",
    "\n",
    "![image.png](attachment:cb9b3757-e659-40d2-b2e1-a5d8152e309f.png)\n",
    "\n",
    "- Softmax 함수 : 확률의 총 합이 1이 되도록 각 클래스에 소수 확률을 활당  \n",
    "\n",
    "- 가설 : $H(X) = softmax(WX + B)$\n",
    "\n",
    "    - 선택지의 개수 만큼의 차원을 가지는 벡터를 생성\n",
    "    - 각 벡터의 모든 원소의 합은 1\n",
    "\n",
    "---\n",
    "\n",
    "## 2. Softmax function\n",
    "\n",
    "- 정답지(클래스)의 총 개수를 k라고 할 때, k차원의 벡터를 입력받아 각 클래스에 대한 확률을 추정\n",
    "\n",
    "\n",
    "### 1) Softmax function\n",
    "\n",
    "- $k$차원의 백터, $i$번째 원소를 $z$, $i$번째 클래스가 정답일 확률을 $P_i$\n",
    "\n",
    "    - $p_{i}=\\frac{e^{z_{i}}}{\\sum_{j=1}^{k} e^{z_{j}}}\\ \\ for\\ i=1, 2, ... k$\n",
    "\n",
    "- 만약 $k=3$, $z=[z_{1}\\ z_{2}\\ z_{3}]$ \n",
    "\n",
    "    - $ softmax(z)=[\\frac{e^{z_{1}}}{\\sum_{j=1}^{3} e^{z_{j}}}\\ \\frac{e^{z_{2}}}{\\sum_{j=1}^{3} e^{z_{j}}}\\ \\frac{e^{z_{3}}}{\\sum_{j=1}^{3} e^{z_{j}}}] = [p_{1}, p_{2}, p_{3}] = \\hat{y} = \\text{예측값} $\n",
    "    \n",
    "    - $p_{1}, p_{2}, p_{3}$의 총합은 1\n",
    "    \n",
    "    - $softmax(z)=[\\frac{e^{z_{1}}}{\\sum_{j=1}^{3} e^{z_{j}}}\\ \\frac{e^{z_{2}}}{\\sum_{j=1}^{3} e^{z_{j}}}\\ \\frac{e^{z_{3}}}{\\sum_{j=1}^{3} e^{z_{j}}}] = [p_{1}, p_{2}, p_{3}] = [p_{virginica}, p_{setosa}, p_{versicolor}]$\n",
    "\n",
    "\n",
    "### 2) 그림을 통한 이해\n",
    "\n",
    "![image.png](attachment:379ed0eb-1e4b-49fd-8db3-f098c5d8b757.png)\n",
    "\n",
    "- f: feacture #\n",
    "- c: class # (One Hot encoding)\n",
    "\n",
    "---\n",
    "\n",
    "## 3. 행렬 연산으로 이해 (붓꽃 품종 분류)\n",
    "\n",
    "$$ \\hat{Y} = softmax(XW + B) $$\n",
    "\n",
    "$$ \\left(\n",
    "    \\begin{array}{c}\n",
    "      y_{11}\\ y_{12}\\ y_{13}\\ \\\\\n",
    "      y_{21}\\ y_{22}\\ y_{23}\\ \\\\\n",
    "      y_{31}\\ y_{32}\\ y_{33}\\ \\\\\n",
    "      y_{41}\\ y_{42}\\ y_{43}\\ \\\\\n",
    "      y_{51}\\ y_{52}\\ y_{53}\\ \\\\\n",
    "    \\end{array}\n",
    "  \\right)\n",
    "=\n",
    "softmax\\left(\n",
    "\\left(\n",
    "    \\begin{array}{c}\n",
    "      x_{11}\\ x_{12}\\ x_{13}\\ x_{14}\\ \\\\\n",
    "      x_{21}\\ x_{22}\\ x_{23}\\ x_{24}\\ \\\\\n",
    "      x_{31}\\ x_{32}\\ x_{33}\\ x_{34}\\ \\\\\n",
    "      x_{41}\\ x_{42}\\ x_{43}\\ x_{44}\\ \\\\\n",
    "      x_{51}\\ x_{52}\\ x_{53}\\ x_{54}\\ \\\\\n",
    "    \\end{array}\n",
    "  \\right)\n",
    "\\left(\n",
    "    \\begin{array}{c}\n",
    "      w_{11}\\ w_{12}\\ w_{13}\\ \\\\\n",
    "      w_{21}\\ w_{22}\\ w_{23}\\ \\\\\n",
    "      w_{31}\\ w_{32}\\ w_{33}\\ \\\\\n",
    "      w_{41}\\ w_{42}\\ w_{43}\\ \\\\\n",
    "    \\end{array}\n",
    "  \\right)\n",
    "+\n",
    "\\left(\n",
    "    \\begin{array}{c}\n",
    "      b_{1}\\ b_{2}\\ b_{3}\\\\\n",
    "      b_{1}\\ b_{2}\\ b_{3}\\\\\n",
    "      b_{1}\\ b_{2}\\ b_{3}\\\\\n",
    "      b_{1}\\ b_{2}\\ b_{3}\\\\\n",
    "      b_{1}\\ b_{2}\\ b_{3}\\\\\n",
    "    \\end{array}\n",
    "  \\right)\n",
    "\\right)$$\n",
    "\n",
    "\n",
    "\n",
    "## 4. Cost function\n",
    "\n",
    "### 1) 크로스 엔트로피 함수\n",
    "\n",
    "- $y$ 실제값, $k$ 클래스의 개수, $y_j$ 실제값 원-핫 벡터의 $j$번째 인덱스, $p_j$ 샘플 데이터가 $j$번쨰 클래스읠 확률 $\\hat{y}_{j}$\n",
    "\n",
    "    - $cost(W) = -\\sum_{j=1}^{k}y_{j}\\ log(p_{j})$\n",
    "    \n",
    "    - $cost(W) = -\\frac{1}{n} \\sum_{i=1}^{n} \\sum_{j=1}^{k}y_{j}^{(i)}\\ log(p_{j}^{(i)})$\n",
    "\n",
    "\n",
    "### 2) 이진 분류에서의 크로스 엔트로피 함수\n",
    "\n",
    "- $cost(W) = -(y\\ logH(X) + (1-y)\\ log(1-H(X)))$\n",
    "\n",
    "- k2 -> 로지스틱 회귀의 비용함수와 같아짐\n",
    "\n",
    "- 소프트맥스 최종 비용함수\n",
    "$$cost(W) = -\\frac{1}{n} \\sum_{i=1}^{n} \\sum_{j=1}^{k}y_{j}^{(i)}\\ log(p_{j}^{(i)}) = -\\frac{1}{n} \\sum_{i=1}^{n} [y^{(i)}log(p^{(i)}) + (1-y^{(i)})log(1-p^{(i)})]$$\n",
    "\n",
    "---\n",
    "\n",
    "# 03. 소프트맥스 회귀의 비용 함수 구현\n",
    "\n",
    "## 1. PyTorch (low - level)"
   ]
  },
  {
   "cell_type": "code",
   "execution_count": 2,
   "id": "cdfe4cd6-527f-4be0-a0bd-1bb76650c131",
   "metadata": {},
   "outputs": [
    {
     "data": {
      "text/plain": [
       "<torch._C.Generator at 0x7fa0f0287f50>"
      ]
     },
     "execution_count": 2,
     "metadata": {},
     "output_type": "execute_result"
    }
   ],
   "source": [
    "import torch\n",
    "import torch.nn.functional as F\n",
    "\n",
    "torch.manual_seed(1)"
   ]
  },
  {
   "cell_type": "code",
   "execution_count": 7,
   "id": "05bb4d3a-98d3-485e-9586-19fa95c181cf",
   "metadata": {},
   "outputs": [
    {
     "name": "stdout",
     "output_type": "stream",
     "text": [
      "tensor([1., 2., 3.])\n",
      "tensor([0.0900, 0.2447, 0.6652])\n",
      "tensor(1.)\n"
     ]
    }
   ],
   "source": [
    "z = torch.FloatTensor([1, 2, 3])\n",
    "hypothesis = F.softmax(z, dim=0)\n",
    "\n",
    "print(z)\n",
    "print(hypothesis)\n",
    "print(hypothesis.sum())"
   ]
  },
  {
   "cell_type": "code",
   "execution_count": 15,
   "id": "3c3b9dbe-7bcd-4815-9c31-2dabd50c4ea8",
   "metadata": {},
   "outputs": [
    {
     "name": "stdout",
     "output_type": "stream",
     "text": [
      "tensor([[0.8553, 0.8163, 0.6291, 0.1581, 0.0801],\n",
      "        [0.2709, 0.4418, 0.1935, 0.6829, 0.6547],\n",
      "        [0.3868, 0.6922, 0.6616, 0.8053, 0.8367]], requires_grad=True)\n",
      "tensor([[0.2690, 0.2587, 0.2145, 0.1339, 0.1239],\n",
      "        [0.1642, 0.1948, 0.1520, 0.2479, 0.2411],\n",
      "        [0.1479, 0.2007, 0.1947, 0.2248, 0.2319]], grad_fn=<SoftmaxBackward>)\n",
      "tensor(3., grad_fn=<SumBackward0>)\n"
     ]
    }
   ],
   "source": [
    "z = torch.rand(3, 5, requires_grad=True)\n",
    "hypothesis = F.softmax(z, dim=1) # dim = 1 두번쨰 차원, 차원에 따라 hypothesis.sum이 달라짐\n",
    "\n",
    "print(z)\n",
    "print(hypothesis)\n",
    "print(hypothesis.sum())"
   ]
  },
  {
   "cell_type": "code",
   "execution_count": 25,
   "id": "162bed82-2faf-4d80-8e73-9c66f063ca5e",
   "metadata": {},
   "outputs": [
    {
     "name": "stdout",
     "output_type": "stream",
     "text": [
      "tensor([3, 0, 4])\n",
      "tensor([[3],\n",
      "        [0],\n",
      "        [4]])\n"
     ]
    },
    {
     "data": {
      "text/plain": [
       "tensor([[0., 0., 0., 1., 0.],\n",
       "        [1., 0., 0., 0., 0.],\n",
       "        [0., 0., 0., 0., 1.]])"
      ]
     },
     "execution_count": 25,
     "metadata": {},
     "output_type": "execute_result"
    }
   ],
   "source": [
    "y = torch.randint(5, (3,)).long()\n",
    "print(y)\n",
    "print(y.unsqueeze(1))\n",
    "\n",
    "# One hot 생성\n",
    "# 모든 원소가 0의 값을 가진 3 × 5 텐서 생성\n",
    "y_one_hot = torch.zeros_like(hypothesis)\n",
    "y_one_hot.scatter_(1, y.unsqueeze(1), 1) # scatter (dimension, 2번쨰 위치에 1)"
   ]
  },
  {
   "cell_type": "markdown",
   "id": "746bfd89-9ce7-498f-8ecb-7915fe7ed983",
   "metadata": {},
   "source": [
    "- Softmax 비용 함수\n",
    "\n",
    "$$ cost(W) = -\\frac{1}{n} \\sum_{i=1}^{n} \\sum_{j=1}^{k}y_{j}^{(i)}\\ log(p_{j}^{(i)}) = \\frac{1}{n} \\sum_{i=1}^{n} \\sum_{j=1}^{k}y_{j}^{(i)}\\ × (-log(p_{j}^{(i)})) $$"
   ]
  },
  {
   "cell_type": "code",
   "execution_count": 26,
   "id": "7b7d4959-78e4-4bfb-aa13-a25677632d5c",
   "metadata": {},
   "outputs": [
    {
     "name": "stdout",
     "output_type": "stream",
     "text": [
      "tensor(1.7594, grad_fn=<MeanBackward0>)\n"
     ]
    }
   ],
   "source": [
    "cost = (y_one_hot * -torch.log(hypothesis)).sum(dim=1).mean()\n",
    "print(cost)"
   ]
  },
  {
   "cell_type": "markdown",
   "id": "f5130462-6d14-472a-84c1-bbaed47a75a9",
   "metadata": {},
   "source": [
    "## 2. PyTorch (high - level)\n",
    "\n",
    "### 1. F.softmax() + torch.log() = F.log_softmax()"
   ]
  },
  {
   "cell_type": "code",
   "execution_count": 27,
   "id": "2601a88c-1a75-46e0-89a5-313e9de355b9",
   "metadata": {},
   "outputs": [
    {
     "data": {
      "text/plain": [
       "tensor([[-1.3131, -1.3522, -1.5393, -2.0104, -2.0883],\n",
       "        [-1.8066, -1.6357, -1.8840, -1.3946, -1.4227],\n",
       "        [-1.9112, -1.6058, -1.6364, -1.4927, -1.4613]], grad_fn=<LogBackward>)"
      ]
     },
     "execution_count": 27,
     "metadata": {},
     "output_type": "execute_result"
    }
   ],
   "source": [
    "torch.log(F.softmax(z, dim=1))"
   ]
  },
  {
   "cell_type": "code",
   "execution_count": 28,
   "id": "2c4a9e92-f805-431f-957c-615e89b9ad8e",
   "metadata": {},
   "outputs": [
    {
     "data": {
      "text/plain": [
       "tensor([[-1.3131, -1.3522, -1.5393, -2.0104, -2.0883],\n",
       "        [-1.8066, -1.6357, -1.8840, -1.3946, -1.4227],\n",
       "        [-1.9112, -1.6058, -1.6364, -1.4927, -1.4613]],\n",
       "       grad_fn=<LogSoftmaxBackward>)"
      ]
     },
     "execution_count": 28,
     "metadata": {},
     "output_type": "execute_result"
    }
   ],
   "source": [
    "F.log_softmax(z, dim=1)"
   ]
  },
  {
   "cell_type": "markdown",
   "id": "b8b0d6c2-9f0b-4620-821d-4f2f0df7f765",
   "metadata": {},
   "source": [
    "### 2. F.log_softmax() + f.nll_log() = F.cross_entropy()"
   ]
  },
  {
   "cell_type": "code",
   "execution_count": 31,
   "id": "f0168639-5697-4f5e-899d-648263acd08d",
   "metadata": {},
   "outputs": [
    {
     "data": {
      "text/plain": [
       "tensor(1.7594, grad_fn=<MeanBackward0>)"
      ]
     },
     "execution_count": 31,
     "metadata": {},
     "output_type": "execute_result"
    }
   ],
   "source": [
    "(y_one_hot * -torch.log(hypothesis)).sum(dim=1).mean()"
   ]
  },
  {
   "cell_type": "code",
   "execution_count": 32,
   "id": "e94abbf0-99b6-442d-ba88-74c1823cd39a",
   "metadata": {},
   "outputs": [
    {
     "data": {
      "text/plain": [
       "tensor(1.7594, grad_fn=<MeanBackward0>)"
      ]
     },
     "execution_count": 32,
     "metadata": {},
     "output_type": "execute_result"
    }
   ],
   "source": [
    "(y_one_hot * - F.log_softmax(z, dim=1)).sum(dim=1).mean()"
   ]
  },
  {
   "cell_type": "code",
   "execution_count": 33,
   "id": "660eaa35-91df-4533-aec7-4ba6550108e5",
   "metadata": {},
   "outputs": [
    {
     "data": {
      "text/plain": [
       "tensor(1.7594, grad_fn=<NllLossBackward>)"
      ]
     },
     "execution_count": 33,
     "metadata": {},
     "output_type": "execute_result"
    }
   ],
   "source": [
    "F.nll_loss(F.log_softmax(z, dim=1), y)"
   ]
  },
  {
   "cell_type": "code",
   "execution_count": 35,
   "id": "50ba42f2-c7b5-4800-86cd-3a998807b116",
   "metadata": {},
   "outputs": [
    {
     "data": {
      "text/plain": [
       "tensor(1.7594, grad_fn=<NllLossBackward>)"
      ]
     },
     "execution_count": 35,
     "metadata": {},
     "output_type": "execute_result"
    }
   ],
   "source": [
    "F.cross_entropy(z, y)"
   ]
  },
  {
   "cell_type": "markdown",
   "id": "abdd5ebb-0423-4d20-b7df-5ef59207d7dc",
   "metadata": {},
   "source": [
    "# 04. 소프트맥스 회귀 구현하기"
   ]
  },
  {
   "cell_type": "code",
   "execution_count": 38,
   "id": "2a7a6117-b668-4bf3-ba43-670d954e40e7",
   "metadata": {
    "tags": []
   },
   "outputs": [],
   "source": [
    "import torch\n",
    "import torch.nn as nn\n",
    "import torch.nn.functional as F\n",
    "import torch.optim as optim\n",
    "\n",
    "torch.manual_seed(1)\n",
    "\n",
    "x_train = [[1, 2, 1, 1],\n",
    "           [2, 1, 3, 2],\n",
    "           [3, 1, 3, 4],\n",
    "           [4, 1, 5, 5],\n",
    "           [1, 7, 5, 5],\n",
    "           [1, 2, 5, 6],\n",
    "           [1, 6, 6, 6],\n",
    "           [1, 7, 7, 7]]\n",
    "y_train = [2, 2, 2, 1, 1, 1, 0, 0]\n",
    "x_train = torch.FloatTensor(x_train)\n",
    "y_train = torch.LongTensor(y_train)"
   ]
  },
  {
   "cell_type": "markdown",
   "id": "c0c82619-3f46-4366-9bbd-a18087bd2d59",
   "metadata": {},
   "source": [
    "## 1. 소프트맥스 회귀 구현하기 (로우-레벨)"
   ]
  },
  {
   "cell_type": "code",
   "execution_count": 39,
   "id": "ee44ed30-c3a5-4cde-831d-ca638e8336c9",
   "metadata": {},
   "outputs": [
    {
     "name": "stdout",
     "output_type": "stream",
     "text": [
      "torch.Size([8, 4])\n",
      "torch.Size([8])\n"
     ]
    }
   ],
   "source": [
    "print(x_train.shape)\n",
    "print(y_train.shape)"
   ]
  },
  {
   "cell_type": "code",
   "execution_count": 40,
   "id": "72e038d8-301f-44f1-a8e0-ce20d54796d3",
   "metadata": {},
   "outputs": [
    {
     "name": "stdout",
     "output_type": "stream",
     "text": [
      "torch.Size([8, 3])\n"
     ]
    }
   ],
   "source": [
    "y_one_hot = torch.zeros(8, 3)\n",
    "y_one_hot.scatter_(1, y_train.unsqueeze(1), 1)\n",
    "print(y_one_hot.shape)"
   ]
  },
  {
   "cell_type": "code",
   "execution_count": 47,
   "id": "a899606a-4e4e-4ed6-9f3a-61addb929fa2",
   "metadata": {},
   "outputs": [],
   "source": [
    "# 모델 초기화\n",
    "W = torch.zeros((4, 3), requires_grad=True)\n",
    "b = torch.zeros(1, requires_grad=True)\n",
    "\n",
    "# optimizer 설정\n",
    "optimizer = optim.SGD([W, b], lr=0.1)"
   ]
  },
  {
   "cell_type": "code",
   "execution_count": 48,
   "id": "59593f4a-650d-439e-8497-b94b541dcdcf",
   "metadata": {},
   "outputs": [
    {
     "name": "stdout",
     "output_type": "stream",
     "text": [
      "Epoch    0/1000 Cost: 1.098612\n",
      "Epoch  100/1000 Cost: 0.761050\n",
      "Epoch  200/1000 Cost: 0.689991\n",
      "Epoch  300/1000 Cost: 0.643229\n",
      "Epoch  400/1000 Cost: 0.604117\n",
      "Epoch  500/1000 Cost: 0.568255\n",
      "Epoch  600/1000 Cost: 0.533922\n",
      "Epoch  700/1000 Cost: 0.500291\n",
      "Epoch  800/1000 Cost: 0.466908\n",
      "Epoch  900/1000 Cost: 0.433507\n",
      "Epoch 1000/1000 Cost: 0.399962\n"
     ]
    }
   ],
   "source": [
    "nb_epochs = 1000\n",
    "for epoch in range(nb_epochs + 1):\n",
    "\n",
    "    # 가설\n",
    "    hypothesis = F.softmax(x_train.matmul(W) + b, dim=1) \n",
    "\n",
    "    # 비용 함수\n",
    "    cost = (y_one_hot * -torch.log(hypothesis)).sum(dim=1).mean()\n",
    "\n",
    "    # cost로 H(x) 개선\n",
    "    optimizer.zero_grad()\n",
    "    cost.backward()\n",
    "    optimizer.step()\n",
    "\n",
    "    # 100번마다 로그 출력\n",
    "    if epoch % 100 == 0:\n",
    "        print('Epoch {:4d}/{} Cost: {:.6f}'.format(\n",
    "            epoch, nb_epochs, cost.item()\n",
    "        ))"
   ]
  },
  {
   "cell_type": "markdown",
   "id": "341d49fd-9b26-41ea-a19d-82625cdcab9a",
   "metadata": {},
   "source": [
    "## 2. 소프트맥스 회귀 구현하기 (하이-레벨)"
   ]
  },
  {
   "cell_type": "code",
   "execution_count": 44,
   "id": "14f636ef-d059-4327-baf9-8535e8f02a9b",
   "metadata": {},
   "outputs": [
    {
     "name": "stdout",
     "output_type": "stream",
     "text": [
      "Epoch    0/1000 Cost: 1.098612\n",
      "Epoch  100/1000 Cost: 0.761050\n",
      "Epoch  200/1000 Cost: 0.689991\n",
      "Epoch  300/1000 Cost: 0.643229\n",
      "Epoch  400/1000 Cost: 0.604117\n",
      "Epoch  500/1000 Cost: 0.568255\n",
      "Epoch  600/1000 Cost: 0.533922\n",
      "Epoch  700/1000 Cost: 0.500291\n",
      "Epoch  800/1000 Cost: 0.466908\n",
      "Epoch  900/1000 Cost: 0.433507\n",
      "Epoch 1000/1000 Cost: 0.399962\n"
     ]
    }
   ],
   "source": [
    "# 모델 초기화\n",
    "W = torch.zeros((4, 3), requires_grad=True)\n",
    "b = torch.zeros(1, requires_grad=True)\n",
    "\n",
    "# optimizer 설정\n",
    "optimizer = optim.SGD([W, b], lr=0.1)\n",
    "\n",
    "nb_epochs = 1000\n",
    "for epoch in range(nb_epochs + 1):\n",
    "\n",
    "    # Cost 계산\n",
    "    z = x_train.matmul(W) + b\n",
    "    cost = F.cross_entropy(z, y_train)\n",
    "\n",
    "    # cost로 H(x) 개선\n",
    "    optimizer.zero_grad()\n",
    "    cost.backward()\n",
    "    optimizer.step()\n",
    "\n",
    "    # 100번마다 로그 출력\n",
    "    if epoch % 100 == 0:\n",
    "        print('Epoch {:4d}/{} Cost: {:.6f}'.format(\n",
    "            epoch, nb_epochs, cost.item()\n",
    "        ))"
   ]
  },
  {
   "cell_type": "markdown",
   "id": "2dc73a75-f7a2-4c02-a66f-31f18b33bba7",
   "metadata": {},
   "source": [
    "## 3. 소프트맥스 회귀 nn.Module로 구현하기"
   ]
  },
  {
   "cell_type": "code",
   "execution_count": 45,
   "id": "2a201632-4307-47d1-aa7b-6c6e4f2937ea",
   "metadata": {},
   "outputs": [
    {
     "name": "stdout",
     "output_type": "stream",
     "text": [
      "Epoch    0/1000 Cost: 1.616785\n",
      "Epoch  100/1000 Cost: 0.658891\n",
      "Epoch  200/1000 Cost: 0.573443\n",
      "Epoch  300/1000 Cost: 0.518151\n",
      "Epoch  400/1000 Cost: 0.473265\n",
      "Epoch  500/1000 Cost: 0.433516\n",
      "Epoch  600/1000 Cost: 0.396563\n",
      "Epoch  700/1000 Cost: 0.360914\n",
      "Epoch  800/1000 Cost: 0.325392\n",
      "Epoch  900/1000 Cost: 0.289178\n",
      "Epoch 1000/1000 Cost: 0.254148\n"
     ]
    }
   ],
   "source": [
    "# 모델을 선언 및 초기화. 4개의 특성을 가지고 3개의 클래스로 분류. input_dim=4, output_dim=3.\n",
    "model = nn.Linear(4, 3)\n",
    "\n",
    "# optimizer 설정\n",
    "optimizer = optim.SGD(model.parameters(), lr=0.1)\n",
    "\n",
    "nb_epochs = 1000\n",
    "for epoch in range(nb_epochs + 1):\n",
    "\n",
    "    # H(x) 계산\n",
    "    prediction = model(x_train)\n",
    "\n",
    "    # cost 계산\n",
    "    cost = F.cross_entropy(prediction, y_train)\n",
    "\n",
    "    # cost로 H(x) 개선\n",
    "    optimizer.zero_grad()\n",
    "    cost.backward()\n",
    "    optimizer.step()\n",
    "\n",
    "    # 20번마다 로그 출력\n",
    "    if epoch % 100 == 0:\n",
    "        print('Epoch {:4d}/{} Cost: {:.6f}'.format(\n",
    "            epoch, nb_epochs, cost.item()\n",
    "        ))"
   ]
  },
  {
   "cell_type": "markdown",
   "id": "9f023fac-8023-478f-9378-5afaa5acdf41",
   "metadata": {},
   "source": [
    "## 4. 소프트맥스 회귀 클래스로 구현하기"
   ]
  },
  {
   "cell_type": "code",
   "execution_count": 46,
   "id": "164e6e16-6397-45a2-a73b-c99a679c1547",
   "metadata": {},
   "outputs": [
    {
     "name": "stdout",
     "output_type": "stream",
     "text": [
      "Epoch    0/1000 Cost: 2.637636\n",
      "Epoch  100/1000 Cost: 0.647903\n",
      "Epoch  200/1000 Cost: 0.564643\n",
      "Epoch  300/1000 Cost: 0.511043\n",
      "Epoch  400/1000 Cost: 0.467249\n",
      "Epoch  500/1000 Cost: 0.428281\n",
      "Epoch  600/1000 Cost: 0.391924\n",
      "Epoch  700/1000 Cost: 0.356742\n",
      "Epoch  800/1000 Cost: 0.321577\n",
      "Epoch  900/1000 Cost: 0.285617\n",
      "Epoch 1000/1000 Cost: 0.250818\n"
     ]
    }
   ],
   "source": [
    "class SoftmaxClassifierModel(nn.Module):\n",
    "    def __init__(self):\n",
    "        super().__init__()\n",
    "        self.linear = nn.Linear(4, 3) # Output이 3!\n",
    "\n",
    "    def forward(self, x):\n",
    "        return self.linear(x)\n",
    "\n",
    "    \n",
    "model = SoftmaxClassifierModel()\n",
    "\n",
    "# optimizer 설정\n",
    "optimizer = optim.SGD(model.parameters(), lr=0.1)\n",
    "\n",
    "nb_epochs = 1000\n",
    "for epoch in range(nb_epochs + 1):\n",
    "\n",
    "    # H(x) 계산\n",
    "    prediction = model(x_train)\n",
    "\n",
    "    # cost 계산\n",
    "    cost = F.cross_entropy(prediction, y_train)\n",
    "\n",
    "    # cost로 H(x) 개선\n",
    "    optimizer.zero_grad()\n",
    "    cost.backward()\n",
    "    optimizer.step()\n",
    "\n",
    "    # 20번마다 로그 출력\n",
    "    if epoch % 100 == 0:\n",
    "        print('Epoch {:4d}/{} Cost: {:.6f}'.format(\n",
    "            epoch, nb_epochs, cost.item()\n",
    "        ))"
   ]
  },
  {
   "cell_type": "code",
   "execution_count": null,
   "id": "8e757950-06b4-4ff6-996d-f9912b04554b",
   "metadata": {},
   "outputs": [],
   "source": []
  }
 ],
 "metadata": {
  "kernelspec": {
   "display_name": "Python 3 (ipykernel)",
   "language": "python",
   "name": "python3"
  },
  "language_info": {
   "codemirror_mode": {
    "name": "ipython",
    "version": 3
   },
   "file_extension": ".py",
   "mimetype": "text/x-python",
   "name": "python",
   "nbconvert_exporter": "python",
   "pygments_lexer": "ipython3",
   "version": "3.9.7"
  }
 },
 "nbformat": 4,
 "nbformat_minor": 5
}
