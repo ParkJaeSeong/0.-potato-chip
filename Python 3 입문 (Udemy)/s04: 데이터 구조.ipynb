{
 "cells": [
  {
   "cell_type": "markdown",
   "metadata": {},
   "source": [
    "# 16. 리스트 (21.08.16)"
   ]
  },
  {
   "cell_type": "code",
   "execution_count": 5,
   "metadata": {},
   "outputs": [
    {
     "name": "stdout",
     "output_type": "stream",
     "text": [
      "[1, 20, 4, 50, 2, 1, 2]\n",
      "7\n",
      "<class 'list'>\n"
     ]
    }
   ],
   "source": [
    "l = [1, 20, 4, 50, 2, 1, 2]\n",
    "print(l[:])\n",
    "print(len(l))\n",
    "print(type(l))"
   ]
  },
  {
   "cell_type": "code",
   "execution_count": 8,
   "metadata": {},
   "outputs": [
    {
     "name": "stdout",
     "output_type": "stream",
     "text": [
      "[1, 3, 5, 7, 9]\n",
      "[10, 9, 8, 7, 6, 5, 4, 3, 2, 1]\n"
     ]
    }
   ],
   "source": [
    "n = [1, 2, 3, 4, 5, 6, 7, 8, 9, 10]\n",
    "print(n[::2])\n",
    "print(n[::-1])"
   ]
  },
  {
   "cell_type": "code",
   "execution_count": 19,
   "metadata": {},
   "outputs": [
    {
     "name": "stdout",
     "output_type": "stream",
     "text": [
      "['a', 'b', 'C', 'D', 'E', 'f', 'g']\n",
      "[0, 1, 2, 3, 4, 5, 6, 7, 8, 9, 10, 100]\n",
      "100 [0, 1, 2, 3, 4, 5, 6, 7, 8, 9, 10]\n",
      "0 [1, 2, 3, 4, 5, 6, 7, 8, 9, 10]\n",
      "[2, 3, 4, 5, 6, 7, 8, 9, 10]\n"
     ]
    }
   ],
   "source": [
    "s = ['a', 'b', 'c', 'd', 'e', 'f', 'g']\n",
    "s[2:5] = ['C', 'D', 'E']\n",
    "print(s)\n",
    "\n",
    "n = [1, 2, 3, 4, 5, 6, 7, 8, 9, 10]\n",
    "n.append(100)\n",
    "n.insert(0, 0)\n",
    "print(n)\n",
    "print(n.pop(), n)\n",
    "print(n.pop(0), n)\n",
    "\n",
    "del n[0]\n",
    "print(n)"
   ]
  },
  {
   "cell_type": "code",
   "execution_count": 24,
   "metadata": {},
   "outputs": [
    {
     "name": "stdout",
     "output_type": "stream",
     "text": [
      "[1, 2, 2, 3]\n",
      "[1, 2, 3, 4, 5, 6, 7, 8, 9, 10]\n",
      "[1, 2, 3, 4, 5, 6, 7, 8, 9, 10]\n",
      "[1, 2, 3, 4, 5, 6, 7, 8, 9, 10]\n"
     ]
    }
   ],
   "source": [
    "n = [1, 2, 2, 2, 3]\n",
    "n.remove(2)\n",
    "print(n)\n",
    "\n",
    "a = [1, 2, 3, 4, 5]\n",
    "b = [6, 7, 8, 9, 10]\n",
    "print(a + b)\n",
    "\n",
    "a += b\n",
    "print(a)\n",
    "\n",
    "a = [1, 2, 3, 4, 5]\n",
    "b = [6, 7, 8, 9, 10]\n",
    "a.extend(b)\n",
    "print(a)"
   ]
  },
  {
   "cell_type": "code",
   "execution_count": 33,
   "metadata": {},
   "outputs": [
    {
     "name": "stdout",
     "output_type": "stream",
     "text": [
      "2\n",
      "7\n",
      "2\n",
      "exist\n",
      "[1, 1, 2, 2, 3, 3, 4, 5]\n",
      "[5, 4, 3, 3, 2, 2, 1, 1]\n",
      "[1, 1, 2, 2, 3, 3, 4, 5]\n"
     ]
    }
   ],
   "source": [
    "r = [1, 2, 3, 4, 5, 1, 2, 3]\n",
    "print(r.index(3))\n",
    "print(r.index(3, 3))\n",
    "print(r.count(3))\n",
    "\n",
    "if 5 in r:\n",
    "    print('exist')\n",
    "\n",
    "r.sort()\n",
    "print(r)\n",
    "\n",
    "r.sort(reverse=True)\n",
    "print(r)\n",
    "\n",
    "r.reverse()\n",
    "print(r)"
   ]
  },
  {
   "cell_type": "code",
   "execution_count": 37,
   "metadata": {},
   "outputs": [
    {
     "name": "stdout",
     "output_type": "stream",
     "text": [
      "['My', 'name', 'is', 'Mike.']\n",
      "My name is Mike.\n"
     ]
    }
   ],
   "source": [
    "\n",
    "s = \"My name is Mike.\"\n",
    "split = s.split(' ')\n",
    "print(split)\n",
    "\n",
    "print(' '.join(split))"
   ]
  },
  {
   "cell_type": "code",
   "execution_count": 46,
   "metadata": {},
   "outputs": [
    {
     "name": "stdout",
     "output_type": "stream",
     "text": [
      "[1, 2, 3, 4, 5]\n",
      "[100, 2, 3, 4, 5]\n",
      "[1, 2, 3, 4, 5]\n",
      "[100, 2, 3, 4, 5]\n",
      "4337712064 20\n",
      "4337711744 10\n",
      "140656576844864 ['p', 'b']\n",
      "140656576844864 ['p', 'b']\n"
     ]
    }
   ],
   "source": [
    "x = [1, 2, 3, 4, 5]\n",
    "y = x.copy()\n",
    "y[0] = 100\n",
    "print(x)\n",
    "print(y)\n",
    "\n",
    "x = [1, 2, 3, 4, 5]\n",
    "y = x[:]\n",
    "y[0] = 100\n",
    "print(x)\n",
    "print(y)\n",
    "\n",
    "#수치전달, 참조전달\n",
    "\n",
    "X = 20\n",
    "Y = X\n",
    "Y = 10\n",
    "print(id(X), X)\n",
    "print(id(Y), Y)\n",
    "\n",
    "X = ['a', 'b']\n",
    "Y = X\n",
    "Y[0] = 'p'\n",
    "print(id(X), X)\n",
    "print(id(Y), Y)\n"
   ]
  },
  {
   "cell_type": "markdown",
   "metadata": {},
   "source": [
    "# 21. 튜플 (21.08.16)"
   ]
  },
  {
   "cell_type": "code",
   "execution_count": 2,
   "metadata": {},
   "outputs": [
    {
     "name": "stdout",
     "output_type": "stream",
     "text": [
      "<class 'tuple'>\n"
     ]
    }
   ],
   "source": [
    "t = (1, 2, 3, 4, 1, 2)\n",
    "\n",
    "print (type(t))"
   ]
  },
  {
   "cell_type": "code",
   "execution_count": 4,
   "metadata": {},
   "outputs": [
    {
     "name": "stdout",
     "output_type": "stream",
     "text": [
      "10 20\n"
     ]
    }
   ],
   "source": [
    "num_tuple = (10, 20)\n",
    "x, y = num_tuple\n",
    "print(x, y)"
   ]
  },
  {
   "cell_type": "markdown",
   "metadata": {
    "tags": []
   },
   "source": [
    "# 24. 사전 (21.08.16)"
   ]
  },
  {
   "cell_type": "code",
   "execution_count": 11,
   "metadata": {},
   "outputs": [
    {
     "name": "stdout",
     "output_type": "stream",
     "text": [
      "{'x': 10, 'y': 20}\n",
      "<class 'dict'>\n",
      "10\n",
      "{'x': 100, 'y': 20}\n"
     ]
    },
    {
     "data": {
      "text/plain": [
       "{'a': 10, 'b': 20}"
      ]
     },
     "execution_count": 11,
     "metadata": {},
     "output_type": "execute_result"
    }
   ],
   "source": [
    "d = {'x':10, 'y':20}\n",
    "\n",
    "print(d)\n",
    "print(type(d))\n",
    "print(d['x'])\n",
    "\n",
    "d['x'] = 100\n",
    "print(d)\n",
    "\n",
    "dict(a=10, b=20)\n",
    "dict([('a', 10), ('b', 20)])"
   ]
  },
  {
   "cell_type": "code",
   "execution_count": 19,
   "metadata": {},
   "outputs": [
    {
     "name": "stdout",
     "output_type": "stream",
     "text": [
      "dict_keys(['x', 'y'])\n",
      "{'x': 1000, 'y': 20, 'i': 500}\n",
      "1000\n",
      "1000\n",
      "{'y': 20, 'i': 500}\n",
      "{'i': 500}\n",
      "{}\n",
      "True\n"
     ]
    }
   ],
   "source": [
    "d = {'x':10, 'y':20}\n",
    "\n",
    "print(d.keys())\n",
    "\n",
    "d2 = {'x':1000, 'i':500}\n",
    "d.update(d2)\n",
    "print(d)\n",
    "\n",
    "print(d.get('x'))\n",
    "print(d['x'])\n",
    "d.pop('x')\n",
    "print(d)\n",
    "\n",
    "del d['y']\n",
    "print(d)\n",
    "d.clear()\n",
    "print(d)\n",
    "\n",
    "d = {'a':10, 'b':20}\n",
    "print('a' in d)"
   ]
  },
  {
   "cell_type": "code",
   "execution_count": 20,
   "metadata": {},
   "outputs": [
    {
     "name": "stdout",
     "output_type": "stream",
     "text": [
      "{'a': 10000}\n",
      "{'a': 10000}\n",
      "{'a': 1}\n",
      "{'a': 10000}\n"
     ]
    }
   ],
   "source": [
    "x = {'a': 1}\n",
    "y = x\n",
    "y['a'] = 10000\n",
    "print(x)\n",
    "print(y)\n",
    "\n",
    "\n",
    "x = {'a':1}\n",
    "y = x.copy()\n",
    "y['a'] = 10000\n",
    "print(x)\n",
    "print(y)"
   ]
  },
  {
   "cell_type": "markdown",
   "metadata": {
    "tags": []
   },
   "source": [
    "# 28. 집합 (21.08.16)"
   ]
  },
  {
   "cell_type": "code",
   "execution_count": 24,
   "metadata": {},
   "outputs": [
    {
     "name": "stdout",
     "output_type": "stream",
     "text": [
      "{1, 2, 3, 4, 5, 6}\n",
      "<class 'set'>\n",
      "{1, 4, 5}\n",
      "{7}\n",
      "{2, 3, 6}\n",
      "{1, 2, 3, 4, 5, 6, 7}\n",
      "{1, 4, 5, 7}\n"
     ]
    }
   ],
   "source": [
    "a = {1, 2, 2, 3, 4, 4, 4, 5, 6}\n",
    "\n",
    "print(a)\n",
    "print(type(a))\n",
    "\n",
    "b = {2, 3, 3, 6, 7}\n",
    "\n",
    "print(a - b)\n",
    "print(b - a)\n",
    "print(a & b)\n",
    "print(a | b)\n",
    "print(a ^ b)"
   ]
  },
  {
   "cell_type": "code",
   "execution_count": 29,
   "metadata": {},
   "outputs": [
    {
     "name": "stdout",
     "output_type": "stream",
     "text": [
      "{1, 2, 3, 4, 5, 6}\n",
      "{1, 2, 3, 4, 5}\n",
      "set()\n",
      "<class 'set'>\n"
     ]
    }
   ],
   "source": [
    "s = {1, 2, 3, 4, 5}\n",
    "s.add(6)\n",
    "print(s)\n",
    "s.remove(6)\n",
    "print(s)\n",
    "s.clear()\n",
    "print(s)\n",
    "print(type(s))"
   ]
  }
 ],
 "metadata": {
  "interpreter": {
   "hash": "b2e304472910653ceea340d22e71aa5647984c7a74be0761814051791a14682a"
  },
  "kernelspec": {
   "display_name": "Python 3",
   "language": "python",
   "name": "python3"
  },
  "language_info": {
   "codemirror_mode": {
    "name": "ipython",
    "version": 3
   },
   "file_extension": ".py",
   "mimetype": "text/x-python",
   "name": "python",
   "nbconvert_exporter": "python",
   "pygments_lexer": "ipython3",
   "version": "3.8.8"
  }
 },
 "nbformat": 4,
 "nbformat_minor": 4
}
