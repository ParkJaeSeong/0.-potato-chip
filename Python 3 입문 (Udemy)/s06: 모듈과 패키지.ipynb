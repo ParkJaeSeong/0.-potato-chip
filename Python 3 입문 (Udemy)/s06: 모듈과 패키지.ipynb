{
 "cells": [
  {
   "cell_type": "code",
   "execution_count": 3,
   "id": "fd40ed43-480e-46bb-b279-5e9c343595c8",
   "metadata": {},
   "outputs": [
    {
     "name": "stdout",
     "output_type": "stream",
     "text": [
      "['/Users/jspark/opt/anaconda3/lib/python3.8/site-packages/ipykernel_launcher.py', '-f', '/Users/jspark/Library/Jupyter/runtime/kernel-e07e9cfc-742c-44b4-8a92-3e3f4002b544.json']\n"
     ]
    }
   ],
   "source": [
    "# 67. 커맨드라인 인수\n",
    "import sys\n",
    "\n",
    "print (sys.argv)"
   ]
  },
  {
   "cell_type": "code",
   "execution_count": 18,
   "id": "e17f4a0c-11a8-41e4-82cd-f32ad1e10043",
   "metadata": {},
   "outputs": [
    {
     "ename": "SyntaxError",
     "evalue": "invalid syntax (<ipython-input-18-965979325f53>, line 9)",
     "output_type": "error",
     "traceback": [
      "\u001b[0;36m  File \u001b[0;32m\"<ipython-input-18-965979325f53>\"\u001b[0;36m, line \u001b[0;32m9\u001b[0m\n\u001b[0;31m    except ImportError\u001b[0m\n\u001b[0m                      ^\u001b[0m\n\u001b[0;31mSyntaxError\u001b[0m\u001b[0;31m:\u001b[0m invalid syntax\n"
     ]
    }
   ],
   "source": [
    "# 68 Import as\n",
    "\n",
    "#\n",
    "# __init__.py  <- 반드시 있어야 함\n",
    "# __all__ = ['', ''] import * 불러오는 패키지\n",
    "\n",
    "try:\n",
    "    from xxx import yyy\n",
    "except ImportError\n",
    "    from xxx.zzz import yyy\n",
    "\n",
    "# setup.py  --> 패키지 만들기 python setup.py sdist\n",
    "setup(\n",
    "    name = '',\n",
    "    version = '',\n",
    "    packages = ['','',],\n",
    "    url = '',\n",
    "    license = '',\n",
    "    author = '',\n",
    "    author_email = '',\n",
    "    description = ''\n",
    ")\n",
    "\n",
    "#dist로 묶기 (Pycharm)\n",
    "# MANIFEST 생성\n",
    "\n"
   ]
  },
  {
   "cell_type": "code",
   "execution_count": 11,
   "id": "d42808e0-e4c5-4695-bc41-7fac7a92e9fe",
   "metadata": {},
   "outputs": [
    {
     "name": "stdout",
     "output_type": "stream",
     "text": [
      "['A', 'C', 'B']\n"
     ]
    }
   ],
   "source": [
    "# 내장함수\n",
    "\n",
    "#print(globals()) # import builtins\n",
    "\n",
    "# https://docs.python.org/ko/3.10/library/functions.html\n",
    "\n",
    "ranking = {\n",
    "    'A' : 100,\n",
    "    'B' : 85,\n",
    "    'C' : 95\n",
    "}\n",
    "\n",
    "print(sorted(ranking, key=ranking.get, reverse = True))"
   ]
  },
  {
   "cell_type": "code",
   "execution_count": 17,
   "id": "6d2a0b32-42e8-4060-8409-dea04f41816e",
   "metadata": {},
   "outputs": [
    {
     "data": {
      "text/plain": [
       "[('blue', [2, 4]), ('red', [1]), ('yellow', [1, 3])]"
      ]
     },
     "execution_count": 17,
     "metadata": {},
     "output_type": "execute_result"
    }
   ],
   "source": [
    "# 표준라이브러리 # https://docs.python.org/ko/3.10/library/index.html\n",
    "\n",
    "from collections import defaultdict\n",
    "# dict.setdefault()를 사용하는 동등한 기법보다 간단하고 빠fma\n",
    "s = [('yellow', 1), ('blue', 2), ('yellow', 3), ('blue', 4), ('red', 1)]\n",
    "d = defaultdict(list)\n",
    "for k, v in s:\n",
    "    d[k].append(v)\n",
    "\n",
    "sorted(d.items())"
   ]
  },
  {
   "cell_type": "code",
   "execution_count": 14,
   "id": "da152856-da80-4a6d-bf71-7bce845a6d91",
   "metadata": {},
   "outputs": [],
   "source": [
    "# 75. 서드파티의 라이브러리\n",
    "# PyPI https://pypi.org/\n",
    "\n",
    "# pip "
   ]
  },
  {
   "cell_type": "code",
   "execution_count": 20,
   "id": "9561d3c9-c56f-4628-8b96-568a73063ee8",
   "metadata": {},
   "outputs": [
    {
     "name": "stdout",
     "output_type": "stream",
     "text": [
      "/Users/jspark/opt/anaconda3/lib/python3.8/collections/__init__.py\n",
      "['/Users/jspark/Documents/git/0.-potato-chip/Python 3 입문 (Udemy)', '/Users/jspark/opt/anaconda3/lib/python38.zip', '/Users/jspark/opt/anaconda3/lib/python3.8', '/Users/jspark/opt/anaconda3/lib/python3.8/lib-dynload', '', '/Users/jspark/opt/anaconda3/lib/python3.8/site-packages', '/Users/jspark/opt/anaconda3/lib/python3.8/site-packages/aeosa', '/Users/jspark/opt/anaconda3/lib/python3.8/site-packages/locket-0.2.1-py3.8.egg', '/Users/jspark/opt/anaconda3/lib/python3.8/site-packages/IPython/extensions', '/Users/jspark/.ipython']\n"
     ]
    }
   ],
   "source": [
    "# 76. Import 적는법\n",
    "\n",
    "# 한개씩 알파벳 순, 표준라이브러리(python) - 서드파티(site-packages) - 자기 만든것 - 로컬 패키지 순서\n",
    "import collections\n",
    "import os\n",
    "import sys\n",
    "\n",
    "print(collections.__file__) # 저장 위치 표시\n",
    "\n",
    "print(sys.path) # 불러오는 곳"
   ]
  },
  {
   "cell_type": "code",
   "execution_count": 24,
   "id": "8298c56e-6782-4926-b82c-fe8e2b4b8687",
   "metadata": {},
   "outputs": [
    {
     "name": "stdout",
     "output_type": "stream",
     "text": [
      "__main__\n",
      "config: __main__\n",
      "lessen: __main__\n",
      "test\n"
     ]
    }
   ],
   "source": [
    "# 77 __name__, __main__\n",
    "\n",
    "print(__name__)\n",
    "\n",
    "print('config:', __name__)\n",
    "print('lessen:', __name__)\n",
    "\n",
    "# 패키지 안의 print는 실행이 되기 때문에 실행 안되게 막을 경우\n",
    "def main():\n",
    "    print('test')\n",
    "    \n",
    "if __name__ == '__main__':\n",
    "    main()"
   ]
  },
  {
   "cell_type": "code",
   "execution_count": null,
   "id": "5f853f48-29df-47b4-85f5-fc123c2b39a6",
   "metadata": {},
   "outputs": [],
   "source": []
  }
 ],
 "metadata": {
  "kernelspec": {
   "display_name": "Python 3 (ipykernel)",
   "language": "python",
   "name": "python3"
  },
  "language_info": {
   "codemirror_mode": {
    "name": "ipython",
    "version": 3
   },
   "file_extension": ".py",
   "mimetype": "text/x-python",
   "name": "python",
   "nbconvert_exporter": "python",
   "pygments_lexer": "ipython3",
   "version": "3.9.6"
  }
 },
 "nbformat": 4,
 "nbformat_minor": 5
}
