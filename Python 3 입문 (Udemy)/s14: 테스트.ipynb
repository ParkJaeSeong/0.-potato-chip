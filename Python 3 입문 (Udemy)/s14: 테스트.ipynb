{
 "cells": [
  {
   "cell_type": "code",
   "execution_count": 2,
   "id": "61a106b3-efb6-4393-b50c-4c8413ca306a",
   "metadata": {},
   "outputs": [],
   "source": [
    "#176 tox\n",
    "\n",
    "# https://tox.readthedocs.io/en/latest/\n",
    "# pip install tox\n",
    "# 가상환경 virtualenv에서 테스트\n",
    "\n",
    "# tox.ini\n",
    "# >>> tox\n"
   ]
  },
  {
   "cell_type": "code",
   "execution_count": 1,
   "id": "468c6b81-ec60-4013-9ec5-4338742f3d96",
   "metadata": {},
   "outputs": [],
   "source": [
    "# 177 Selenium UI 자동 테스트\n",
    "\n",
    "# https://selenium-python.readthedocs.io/\n",
    "\n",
    "# PIP install selenium\n",
    "\n",
    "# brew install chromedriver\n",
    "# /opt/homebrew/Caskroom/chromedriver/...... 설치장소로 이동\n",
    "# xattr -d com.apple.quarantine chromedriver 실행 권한 부여\n",
    "\n"
   ]
  },
  {
   "cell_type": "markdown",
   "id": "e66df211-1bbb-40ba-a0c0-1273937feadb",
   "metadata": {},
   "source": [
    "# driver\n",
    "Chrome:\thttps://sites.google.com/a/chromium.org/chromedriver/downloads\n",
    "\n",
    "Edge:\thttps://developer.microsoft.com/en-us/microsoft-edge/tools/webdriver/\n",
    "\n",
    "Firefox:\thttps://github.com/mozilla/geckodriver/releases\n",
    "\n",
    "Safari:\thttps://webkit.org/blog/6900/webdriver-support-in-safari-10/"
   ]
  },
  {
   "cell_type": "code",
   "execution_count": 2,
   "id": "a9d9ce2f-8d0d-4314-a759-252f6659d1d2",
   "metadata": {},
   "outputs": [],
   "source": [
    "# 178 mock\n",
    "\n",
    "# https://docs.python.org/ko/3/library/unittest.mock-examples.html"
   ]
  },
  {
   "cell_type": "code",
   "execution_count": null,
   "id": "fab898e5-b7fc-49d2-a5b2-4f221f6004ba",
   "metadata": {},
   "outputs": [],
   "source": []
  }
 ],
 "metadata": {
  "kernelspec": {
   "display_name": "Python 3 (ipykernel)",
   "language": "python",
   "name": "python3"
  },
  "language_info": {
   "codemirror_mode": {
    "name": "ipython",
    "version": 3
   },
   "file_extension": ".py",
   "mimetype": "text/x-python",
   "name": "python",
   "nbconvert_exporter": "python",
   "pygments_lexer": "ipython3",
   "version": "3.9.6"
  }
 },
 "nbformat": 4,
 "nbformat_minor": 5
}
