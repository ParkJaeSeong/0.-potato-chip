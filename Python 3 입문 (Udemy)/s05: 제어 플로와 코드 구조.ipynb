{
 "cells": [
  {
   "cell_type": "code",
   "execution_count": 3,
   "id": "2e9e663b-2a44-4f15-99aa-1a7de90bc4f3",
   "metadata": {},
   "outputs": [
    {
     "name": "stdout",
     "output_type": "stream",
     "text": [
      "(10, 'a')\n",
      "(20, 'b')\n",
      "(30, 'c')\n"
     ]
    },
    {
     "data": {
      "text/plain": [
       "[(10, 'a'), (20, 'b'), (30, 'c')]"
      ]
     },
     "execution_count": 3,
     "metadata": {},
     "output_type": "execute_result"
    }
   ],
   "source": [
    "x = [10,20,30]\n",
    "y = [\"a\",\"b\",\"c\"]\n",
    "\n",
    "for i in zip(x,y):\n",
    "\tprint(i)\n",
    "    \n",
    "list(zip(x,y))"
   ]
  },
  {
   "cell_type": "code",
   "execution_count": 4,
   "id": "7dcb2420-3109-43b3-8676-9aecffe2e4aa",
   "metadata": {},
   "outputs": [
    {
     "data": {
      "text/plain": [
       "[1, 3, 5, 7, 9]"
      ]
     },
     "execution_count": 4,
     "metadata": {},
     "output_type": "execute_result"
    }
   ],
   "source": [
    "list(range(1, 10, 2))"
   ]
  },
  {
   "cell_type": "code",
   "execution_count": 6,
   "id": "debb902b-53c8-4620-a82d-4078dbc426c0",
   "metadata": {},
   "outputs": [
    {
     "name": "stdout",
     "output_type": "stream",
     "text": [
      "(0, 'apple')\n",
      "(1, 'see')\n"
     ]
    }
   ],
   "source": [
    "li = ['apple', 'see']\n",
    "\n",
    "for i in enumerate(li):\n",
    "    print(i)"
   ]
  },
  {
   "cell_type": "code",
   "execution_count": 9,
   "id": "691b4c79-0266-4cac-86ed-ca3ff9016ca1",
   "metadata": {},
   "outputs": [
    {
     "name": "stdout",
     "output_type": "stream",
     "text": [
      "[30]\n"
     ]
    }
   ],
   "source": [
    "li = [10,20,30]\n",
    "NewL = list(filter(lambda i: i >20, li))\n",
    "\n",
    "print(NewL)"
   ]
  },
  {
   "cell_type": "code",
   "execution_count": 14,
   "id": "9b7bd68a-4414-4d6b-8574-5cf513397875",
   "metadata": {},
   "outputs": [
    {
     "name": "stdout",
     "output_type": "stream",
     "text": [
      "[11, 12, 13]\n"
     ]
    }
   ],
   "source": [
    "li = [1,2,3]\n",
    "\n",
    "LI = list(map(lambda i: i+10, li))\n",
    "print(LI)"
   ]
  },
  {
   "cell_type": "code",
   "execution_count": 20,
   "id": "fc6a9912-caa4-4145-8c48-e7f20ffd575b",
   "metadata": {},
   "outputs": [
    {
     "name": "stdout",
     "output_type": "stream",
     "text": [
      "Hi\n",
      "Mike\n",
      "Nance\n"
     ]
    }
   ],
   "source": [
    "#함수 인수 튜플화\n",
    "def say_something(*args):\n",
    "    for arg in args:\n",
    "        print(arg)\n",
    "        \n",
    "say_something('Hi', 'Mike', 'Nance')"
   ]
  },
  {
   "cell_type": "code",
   "execution_count": 19,
   "id": "9af453fb-2373-4a41-91c1-3ca16508dcb1",
   "metadata": {},
   "outputs": [
    {
     "name": "stdout",
     "output_type": "stream",
     "text": [
      "entree beef\n",
      "drink ice coffee\n",
      "dessert ice\n"
     ]
    }
   ],
   "source": [
    "# 키워드 인수 사전화\n",
    "def menu(**kwargs):\n",
    "    for k, v in kwargs.items():\n",
    "        print(k,v)\n",
    "\n",
    "        \n",
    "d = {\n",
    "    'entree': 'beef',\n",
    "    'drink' : 'ice coffee',\n",
    "    'dessert': 'ice'\n",
    "}\n",
    "\n",
    "menu(**d)"
   ]
  },
  {
   "cell_type": "code",
   "execution_count": 21,
   "id": "6bc5fe09-cfd6-4820-8ecf-8703f451776c",
   "metadata": {},
   "outputs": [],
   "source": [
    "# Docstrings - 함수 설명 주석\n"
   ]
  },
  {
   "cell_type": "code",
   "execution_count": 24,
   "id": "8a111adc-52ae-4515-8a39-36f09e1b878b",
   "metadata": {},
   "outputs": [
    {
     "name": "stdout",
     "output_type": "stream",
     "text": [
      "3 3\n"
     ]
    }
   ],
   "source": [
    "# 함수 내 함수\n",
    "\n",
    "def outer (a,b):\n",
    "\n",
    "    def plus (c,d):\n",
    "        return c+d\n",
    "\n",
    "    r1 = plus(a,b)\n",
    "    r2 = plus(b,a)\n",
    "    print(r1, r2)\n",
    "    \n",
    "\n",
    "outer(1,2)"
   ]
  },
  {
   "cell_type": "code",
   "execution_count": 28,
   "id": "19c58ef7-8fc0-4b88-9ee2-3fbda0afa88a",
   "metadata": {},
   "outputs": [
    {
     "name": "stdout",
     "output_type": "stream",
     "text": [
      "3\n",
      "314.0\n",
      "314.1592\n"
     ]
    }
   ],
   "source": [
    "# 클로저 \n",
    "\n",
    "def outer(a,b):\n",
    "\n",
    "    def inner():\n",
    "        return a + b\n",
    "    \n",
    "    return inner\n",
    "\n",
    "\n",
    "f = outer(1,2)\n",
    "r = f()\n",
    "print(r)\n",
    "\n",
    "\n",
    "def circle_area_func(pi):\n",
    "    def circle_area(radius):\n",
    "        return pi * radius * radius\n",
    "    \n",
    "    return circle_area\n",
    "\n",
    "cal1 = circle_area_func(3.14)\n",
    "cal2 = circle_area_func(3.141592)\n",
    "\n",
    "print(cal1(10))\n",
    "print(cal2(10))"
   ]
  },
  {
   "cell_type": "code",
   "execution_count": 34,
   "id": "bd1bbfff-1de1-4a23-bfec-1a48abb18091",
   "metadata": {},
   "outputs": [
    {
     "name": "stdout",
     "output_type": "stream",
     "text": [
      "start\n",
      "end\n",
      "30\n"
     ]
    }
   ],
   "source": [
    "# 데코레이터\n",
    "\n",
    "def print_info(func):\n",
    "    def wrapper(*args, **kwargs):\n",
    "        print('start')\n",
    "        result = func(*args, **kwargs)\n",
    "        print('end')\n",
    "        return result\n",
    "    return wrapper\n",
    "\n",
    "def add_num(a, b):\n",
    "    return a + b\n",
    "\n",
    "f = print_info(add_num)\n",
    "r = f(10, 20)\n",
    "print(r)"
   ]
  },
  {
   "cell_type": "code",
   "execution_count": 36,
   "id": "58b2bed0-5ac8-4f23-8fb9-2f8fb730772b",
   "metadata": {},
   "outputs": [
    {
     "name": "stdout",
     "output_type": "stream",
     "text": [
      "start\n",
      "end\n",
      "30\n"
     ]
    }
   ],
   "source": [
    "def print_info(func):\n",
    "    def wrapper(*args, **kwargs):\n",
    "        print('start')\n",
    "        result = func(*args, **kwargs)\n",
    "        print('end')\n",
    "        return result\n",
    "    return wrapper\n",
    "\n",
    "# 실행시 데코레이터 함수로 이동\n",
    "@print_info\n",
    "def add_num(a, b):\n",
    "    return a + b\n",
    "\n",
    "r = add_num(10, 20)\n",
    "print(r)"
   ]
  },
  {
   "cell_type": "code",
   "execution_count": 39,
   "id": "76063f3d-036e-4897-81cd-3cbc5cadbeb8",
   "metadata": {},
   "outputs": [
    {
     "name": "stdout",
     "output_type": "stream",
     "text": [
      "start\n",
      "func: add_num\n",
      "args: (10, 20)\n",
      "kwargs: {}\n",
      "result: 30\n",
      "end\n",
      "30\n"
     ]
    }
   ],
   "source": [
    "def print_more(func):\n",
    "    def wrapper(*args, **kwargs):\n",
    "        print('func:', func.__name__)\n",
    "        print('args:', args)\n",
    "        print('kwargs:', kwargs)\n",
    "        result = func(*args, **kwargs)\n",
    "        print('result:', result)\n",
    "        return result\n",
    "    return wrapper\n",
    "\n",
    "@print_info\n",
    "@print_more\n",
    "def add_num(a, b):\n",
    "    return a + b\n",
    "\n",
    "r = add_num(10, 20)\n",
    "print(r)"
   ]
  },
  {
   "cell_type": "code",
   "execution_count": 44,
   "id": "0f6711ed-5521-4b07-9bbd-499c7cb214d1",
   "metadata": {},
   "outputs": [
    {
     "name": "stdout",
     "output_type": "stream",
     "text": [
      "Mon\n",
      "Tue\n",
      "Wed\n",
      "Thu\n",
      "Fri\n",
      "Sat\n",
      "Sun\n"
     ]
    }
   ],
   "source": [
    "# 람다\n",
    "l = ['Mon', 'tue', 'Wed', 'Thu', 'fri', 'sat', 'Sun']\n",
    "\n",
    "def change_words(words, func):\n",
    "    for word in words:\n",
    "        print(func(word))\n",
    "\n",
    "# def sample_func(word):\n",
    "#     return word.capitalize()\n",
    "\n",
    "#sample_func = lambda word: word.capitalize()\n",
    "\n",
    "change_words(l, lambda word: word.capitalize())"
   ]
  },
  {
   "cell_type": "code",
   "execution_count": 47,
   "id": "85e12c29-6561-483e-89b6-e927cc80fd51",
   "metadata": {},
   "outputs": [
    {
     "name": "stdout",
     "output_type": "stream",
     "text": [
      "Good morning\n",
      "Good afternoon\n",
      "Good night\n",
      "#################################\n",
      "Good morning\n",
      "Good afternoon\n",
      "Good night\n"
     ]
    }
   ],
   "source": [
    "# 제너레이터\n",
    "\n",
    "l = ['Good morning', 'Good afternoon', 'Good night']\n",
    "\n",
    "for i in l:\n",
    "    print(i)\n",
    "    \n",
    "print(\"#################################\")\n",
    "\n",
    "def greeting():\n",
    "    yield 'Good morning'\n",
    "    yield 'Good afternoon'\n",
    "    yield 'Good night'\n",
    "    \n",
    "for g in greeting():\n",
    "    print(g)"
   ]
  },
  {
   "cell_type": "code",
   "execution_count": 54,
   "id": "b9de8814-c6ff-41c7-90b8-b37b44829f42",
   "metadata": {},
   "outputs": [
    {
     "name": "stdout",
     "output_type": "stream",
     "text": [
      "Good morning\n",
      "@@@@@@@@\n",
      "Good afternoon\n",
      "@@@@@@@@\n",
      "Good night\n",
      "@@@@@@@@\n"
     ]
    },
    {
     "ename": "StopIteration",
     "evalue": "",
     "output_type": "error",
     "traceback": [
      "\u001b[0;31m---------------------------------------------------------------------------\u001b[0m",
      "\u001b[0;31mStopIteration\u001b[0m                             Traceback (most recent call last)",
      "\u001b[0;32m<ipython-input-54-40c2ceb611ff>\u001b[0m in \u001b[0;36m<module>\u001b[0;34m\u001b[0m\n\u001b[1;32m     11\u001b[0m \u001b[0mprint\u001b[0m\u001b[0;34m(\u001b[0m\u001b[0mnext\u001b[0m\u001b[0;34m(\u001b[0m\u001b[0mg\u001b[0m\u001b[0;34m)\u001b[0m\u001b[0;34m)\u001b[0m\u001b[0;34m\u001b[0m\u001b[0;34m\u001b[0m\u001b[0m\n\u001b[1;32m     12\u001b[0m \u001b[0mprint\u001b[0m\u001b[0;34m(\u001b[0m\u001b[0;34m\"@@@@@@@@\"\u001b[0m\u001b[0;34m)\u001b[0m\u001b[0;34m\u001b[0m\u001b[0;34m\u001b[0m\u001b[0m\n\u001b[0;32m---> 13\u001b[0;31m \u001b[0mprint\u001b[0m\u001b[0;34m(\u001b[0m\u001b[0mnext\u001b[0m\u001b[0;34m(\u001b[0m\u001b[0mg\u001b[0m\u001b[0;34m)\u001b[0m\u001b[0;34m)\u001b[0m\u001b[0;34m\u001b[0m\u001b[0;34m\u001b[0m\u001b[0m\n\u001b[0m",
      "\u001b[0;31mStopIteration\u001b[0m: "
     ]
    }
   ],
   "source": [
    "def greeting():\n",
    "    yield 'Good morning'\n",
    "    yield 'Good afternoon'\n",
    "    yield 'Good night'\n",
    "\n",
    "g = greeting()\n",
    "print(next(g))\n",
    "print(\"@@@@@@@@\")\n",
    "print(next(g))\n",
    "print(\"@@@@@@@@\")\n",
    "print(next(g))\n",
    "print(\"@@@@@@@@\")\n",
    "print(next(g))\n"
   ]
  },
  {
   "cell_type": "code",
   "execution_count": 57,
   "id": "912ab90a-50c9-480c-9f9b-25554e935cec",
   "metadata": {},
   "outputs": [
    {
     "name": "stdout",
     "output_type": "stream",
     "text": [
      "Good morning\n",
      "run\n",
      "run\n",
      "run\n",
      "run\n",
      "run\n",
      "Good afternoon\n",
      "run\n",
      "run\n",
      "run\n",
      "run\n",
      "run\n"
     ]
    }
   ],
   "source": [
    "def counter(num=10):\n",
    "    for _ in range(num):\n",
    "        yield 'run'\n",
    "\n",
    "g = greeting()\n",
    "c = counter()\n",
    "\n",
    "print(next(g))\n",
    "print(next(c))\n",
    "print(next(c))\n",
    "print(next(c))\n",
    "print(next(c))\n",
    "print(next(c))\n",
    "\n",
    "print(next(g))\n",
    "print(next(c))\n",
    "print(next(c))\n",
    "print(next(c))\n",
    "print(next(c))\n",
    "print(next(c))\n",
    "\n",
    "# 함수 내부에 특정 작업을 나눠서 진행하고자 할때 적용"
   ]
  },
  {
   "cell_type": "code",
   "execution_count": 59,
   "id": "6f2a4538-9b44-4490-a16c-7184d0342239",
   "metadata": {},
   "outputs": [
    {
     "name": "stdout",
     "output_type": "stream",
     "text": [
      "[2, 4]\n",
      "[2, 4]\n"
     ]
    }
   ],
   "source": [
    "# 리스트 내포 표기\n",
    "\n",
    "t = (1,2,3,4,5)\n",
    "\n",
    "r = []\n",
    "for i in t:\n",
    "    if i % 2 == 0:\n",
    "        r.append(i)\n",
    "    \n",
    "print(r)\n",
    "\n",
    "r = [i for i in t if i % 2 ==0] # good case\n",
    "print(r)"
   ]
  },
  {
   "cell_type": "code",
   "execution_count": 63,
   "id": "afb11d87-cef2-4922-b4c1-738800f382ef",
   "metadata": {},
   "outputs": [
    {
     "name": "stdout",
     "output_type": "stream",
     "text": [
      "[5, 6, 7, 8, 9, 10, 10, 12, 14, 16, 18, 20, 15, 18, 21, 24, 27, 30, 20, 24, 28, 32, 36, 40, 25, 30, 35, 40, 45, 50]\n",
      "[5, 6, 7, 8, 9, 10, 10, 12, 14, 16, 18, 20, 15, 18, 21, 24, 27, 30, 20, 24, 28, 32, 36, 40, 25, 30, 35, 40, 45, 50]\n"
     ]
    }
   ],
   "source": [
    "t = (1,2,3,4,5)\n",
    "t2 = (5, 6, 7, 8, 9, 10)\n",
    "r = []\n",
    "\n",
    "for i in t:\n",
    "    for j in t2:\n",
    "        r.append(i*j)\n",
    "print(r)\n",
    "\n",
    "r = [i * j for i in t for j in t2] # bad case 이해하기 어려움\n",
    "print(r)"
   ]
  },
  {
   "cell_type": "code",
   "execution_count": 66,
   "id": "09f2f180-4f94-417b-8f53-3db32e67eaf3",
   "metadata": {},
   "outputs": [
    {
     "name": "stdout",
     "output_type": "stream",
     "text": [
      "{'mon': 'coffee', 'tue': 'milk', 'wed': 'water'}\n",
      "{'mon': 'coffee', 'tue': 'milk', 'wed': 'water'}\n"
     ]
    }
   ],
   "source": [
    "# 사전 내포 표기\n",
    "w = ['mon', 'tue', 'wed']\n",
    "f = ['coffee', 'milk', 'water']\n",
    "\n",
    "d = {}\n",
    "for x, y in zip (w,f):\n",
    "    d[x] = y\n",
    "\n",
    "print(d)\n",
    "\n",
    "d = {x : y for x, y in zip(w,f)}\n",
    "print(d)"
   ]
  },
  {
   "cell_type": "code",
   "execution_count": 68,
   "id": "3b1ed3c6-72c4-499a-8b62-f5ec0ea9d01c",
   "metadata": {},
   "outputs": [
    {
     "name": "stdout",
     "output_type": "stream",
     "text": [
      "{0, 2, 4, 6, 8}\n",
      "{0, 2, 4, 6, 8}\n"
     ]
    }
   ],
   "source": [
    "# 집합 내포 표기\n",
    "\n",
    "s = set()\n",
    "\n",
    "for i in range(10):\n",
    "    if i%2 == 0:\n",
    "        s.add(i)\n",
    "    \n",
    "print(s)\n",
    "\n",
    "s = {i for i in range(10) if i %2 == 0}\n",
    "print(s)"
   ]
  },
  {
   "cell_type": "code",
   "execution_count": 73,
   "id": "1b7d39ef-fdd7-4428-837c-c4917eb1ee68",
   "metadata": {},
   "outputs": [
    {
     "name": "stdout",
     "output_type": "stream",
     "text": [
      "<class 'generator'>\n",
      "0\n",
      "1\n",
      "2\n",
      "3\n",
      "4\n",
      "<class 'generator'>\n",
      "0\n",
      "1\n",
      "2\n",
      "3\n",
      "4\n",
      "<class 'tuple'>\n"
     ]
    }
   ],
   "source": [
    "# 제너레이터 내포 표기\n",
    "def g():\n",
    "    for i in range(10):\n",
    "        yield i\n",
    "        \n",
    "g = g()\n",
    "print(type(g))\n",
    "\n",
    "print(next(g))\n",
    "print(next(g))\n",
    "print(next(g))\n",
    "print(next(g))\n",
    "print(next(g))\n",
    "\n",
    "\n",
    "g = (i for i in range(10))\n",
    "print(type(g))\n",
    "\n",
    "print(next(g))\n",
    "print(next(g))\n",
    "print(next(g))\n",
    "print(next(g))\n",
    "print(next(g))\n",
    "\n",
    "g = tuple(i for i in range(10))\n",
    "print(type(g))"
   ]
  },
  {
   "cell_type": "code",
   "execution_count": null,
   "id": "7ad3a27e-476d-4096-b9db-06cf05bd731e",
   "metadata": {},
   "outputs": [],
   "source": [
    "# 이름 공간과 스코프 (Name space, scope)\n",
    "\n",
    "animal = 'cat'\n",
    "\n",
    "def f():\n",
    "    animal = 'dog'\n",
    "    print('local: ', locals())\n",
    "\n",
    "f()\n",
    "print('global: ', globals())"
   ]
  },
  {
   "cell_type": "code",
   "execution_count": 82,
   "id": "888a76c9-dcb5-4ff7-80aa-71eac2b2c4d7",
   "metadata": {},
   "outputs": [
    {
     "name": "stdout",
     "output_type": "stream",
     "text": [
      "list index out of range\n",
      "clean up\n"
     ]
    }
   ],
   "source": [
    "# 예외 처리\n",
    "l = [1, 2, 3]\n",
    "\n",
    "try:\n",
    "    l[6]\n",
    "except IndexError as ex:\n",
    "    print(\"{}\".format(ex))\n",
    "finally:\n",
    "    print('clean up')"
   ]
  },
  {
   "cell_type": "code",
   "execution_count": 86,
   "id": "b236c56a-2f0a-445b-8830-f8b1850ce2de",
   "metadata": {},
   "outputs": [
    {
     "name": "stdout",
     "output_type": "stream",
     "text": [
      "This is my fault, Go next\n"
     ]
    }
   ],
   "source": [
    "# 독자 예외 만들기\n",
    "\n",
    "class UppercaseError(Exception):\n",
    "    pass\n",
    "\n",
    "def check():\n",
    "    words = ['APPLE', 'orange', 'banana']\n",
    "    for word in words:\n",
    "        if word.isupper():\n",
    "            raise UppercaseError(word)\n",
    "\n",
    "try:\n",
    "    check()\n",
    "except UppercaseError as exc:\n",
    "    print('This is my fault, Go next')"
   ]
  }
 ],
 "metadata": {
  "kernelspec": {
   "display_name": "Python 3",
   "language": "python",
   "name": "python3"
  },
  "language_info": {
   "codemirror_mode": {
    "name": "ipython",
    "version": 3
   },
   "file_extension": ".py",
   "mimetype": "text/x-python",
   "name": "python",
   "nbconvert_exporter": "python",
   "pygments_lexer": "ipython3",
   "version": "3.8.8"
  }
 },
 "nbformat": 4,
 "nbformat_minor": 5
}
