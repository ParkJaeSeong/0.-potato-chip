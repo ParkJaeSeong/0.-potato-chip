{
 "cells": [
  {
   "cell_type": "markdown",
   "id": "a7739b66-27e7-45bc-a5ef-b5172b146565",
   "metadata": {},
   "source": [
    "### 설명\n",
    "https://drive.google.com/open?id=1mae2uQQTeaQ1LPc8VVe9jd-bQh7sgRyI \n",
    "\n",
    "### 소스코드\n",
    "https://drive.google.com/open?id=13LlRkDT7557wMYwV2xqq_RLz3Mn40c1n "
   ]
  },
  {
   "cell_type": "code",
   "execution_count": null,
   "id": "d10d1765-4d71-4583-9f45-03576eddd30c",
   "metadata": {},
   "outputs": [],
   "source": []
  }
 ],
 "metadata": {
  "kernelspec": {
   "display_name": "Python 3",
   "language": "python",
   "name": "python3"
  },
  "language_info": {
   "codemirror_mode": {
    "name": "ipython",
    "version": 3
   },
   "file_extension": ".py",
   "mimetype": "text/x-python",
   "name": "python",
   "nbconvert_exporter": "python",
   "pygments_lexer": "ipython3",
   "version": "3.8.8"
  }
 },
 "nbformat": 4,
 "nbformat_minor": 5
}
