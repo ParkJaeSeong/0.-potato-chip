{
 "cells": [
  {
   "cell_type": "markdown",
   "id": "cf66b3f7-99f2-4d58-9e30-df03f5284371",
   "metadata": {},
   "source": [
    "# 206 문자코드\n",
    "## ASCII\n",
    "- 주로 영어권에서 사용되는 기초적인 문자 코드\n",
    "- 하나의 문자를 1 바이트로 표현"
   ]
  },
  {
   "cell_type": "code",
   "execution_count": 22,
   "id": "7fac19ae-a970-46c5-a296-16f9a28d2e04",
   "metadata": {},
   "outputs": [
    {
     "name": "stdout",
     "output_type": "stream",
     "text": [
      "97\n",
      "0x61\n",
      "0b1100001\n"
     ]
    }
   ],
   "source": [
    "a = 'a'\n",
    "\n",
    "print(ord(a))\n",
    "print(hex(ord(a)))\n",
    "print(bin(0x61)) "
   ]
  },
  {
   "cell_type": "markdown",
   "id": "debc9946-8e40-4dbc-85fb-3bc1a66b9feb",
   "metadata": {},
   "source": [
    "## EUC-KR\n",
    "- ASCII 코드에 한국어를 추가한 문자 코드"
   ]
  },
  {
   "cell_type": "code",
   "execution_count": 15,
   "id": "aa86c0f7-e778-4543-b5fb-041a97b08cdf",
   "metadata": {},
   "outputs": [
    {
     "data": {
      "text/plain": [
       "b'\\xb9\\xda'"
      ]
     },
     "execution_count": 15,
     "metadata": {},
     "output_type": "execute_result"
    }
   ],
   "source": [
    "'박'.encode('euc-kr')"
   ]
  },
  {
   "cell_type": "code",
   "execution_count": 17,
   "id": "5a35a482-8473-47d6-a8fd-5589dd16efb8",
   "metadata": {},
   "outputs": [
    {
     "data": {
      "text/plain": [
       "'0b1011100111011010'"
      ]
     },
     "execution_count": 17,
     "metadata": {},
     "output_type": "execute_result"
    }
   ],
   "source": [
    "bin(0xB9DA)"
   ]
  },
  {
   "cell_type": "markdown",
   "id": "81a83792-daf3-4452-871b-9e8013c2120c",
   "metadata": {},
   "source": [
    "## Unicode 부호화 문자 규격\n",
    "- 세계중의 문자를 단일 문자 집합으로 다루는 부호화 문자 집합 규격\n",
    "\n",
    "https://jrgraphix.net/r/Unicode/AC00-D7AF"
   ]
  },
  {
   "cell_type": "code",
   "execution_count": 24,
   "id": "d6aab4dc-6871-4108-b02b-07246eebd4c1",
   "metadata": {},
   "outputs": [
    {
     "name": "stdout",
     "output_type": "stream",
     "text": [
      "48149\n",
      "0xbc15\n",
      "0b1100001\n"
     ]
    }
   ],
   "source": [
    "a = '박'\n",
    "\n",
    "print(ord(a))\n",
    "print(hex(ord(a)))\n",
    "print(bin(0x61)) "
   ]
  },
  {
   "cell_type": "markdown",
   "id": "f803d77f-12ec-4f69-813a-b4a09a32ff79",
   "metadata": {},
   "source": [
    "## UTF-8\n",
    "\n",
    "- ASCII 코드에 여러가지 언어의 문자를 추가\n",
    "- ASCII 코드 만으로 표현할 수 없는 언어도 지원\n",
    "- 세계 표준 문자 코드"
   ]
  },
  {
   "cell_type": "code",
   "execution_count": 25,
   "id": "c5bdab3d-79af-43cc-ba53-1ed32761d94d",
   "metadata": {},
   "outputs": [
    {
     "data": {
      "text/plain": [
       "'utf-8'"
      ]
     },
     "execution_count": 25,
     "metadata": {},
     "output_type": "execute_result"
    }
   ],
   "source": [
    "import sys\n",
    "\n",
    "sys.stdin.encoding"
   ]
  },
  {
   "cell_type": "code",
   "execution_count": 27,
   "id": "6ef34d2e-9926-4402-9420-fccd7bc504c7",
   "metadata": {},
   "outputs": [
    {
     "name": "stdout",
     "output_type": "stream",
     "text": [
      "b'a'\n",
      "b'\\xeb\\xb0\\x95'\n",
      "0b111010111011000010010101\n"
     ]
    }
   ],
   "source": [
    "print('a'.encode())\n",
    "print('박'.encode('utf-8'))\n",
    "print(bin(0xebb095))"
   ]
  },
  {
   "cell_type": "markdown",
   "id": "7690d984-554e-449a-a3a4-cbc249882936",
   "metadata": {},
   "source": [
    "# 바이트열, 바이너리열\n",
    "- 바이트의 데이터의 묶음. 파일 입출력이나 데이터의 송수신, 암호화, 데이터의 압축 등 취급하는 데이터의 형태나 형식에 상관없이 모든 데이터를 단순한 비트 패턴의 나열로 범용적으로 처리하는 경우에 사용되는 데이터 형\n",
    "- 0과 1의 한개씩 '몇 비트'라는 단위로 생각할 때는 바이너리 열\n",
    "- 8개씩 '몇 바이트'로 생가가하는 바이트 열"
   ]
  },
  {
   "cell_type": "code",
   "execution_count": 28,
   "id": "b796b686-626d-44dd-be9a-9f67c61698ac",
   "metadata": {},
   "outputs": [
    {
     "name": "stdout",
     "output_type": "stream",
     "text": [
      "b'\\xeb\\xb0\\x95'\n",
      "b'\\xeb\\xb0\\x95'\n",
      "0b111010111011000010010101\n"
     ]
    },
    {
     "data": {
      "text/plain": [
       "'0b111010110b101100000b10010101'"
      ]
     },
     "execution_count": 28,
     "metadata": {},
     "output_type": "execute_result"
    }
   ],
   "source": [
    "print('박'.encode('utf-8'))\n",
    "print(bytes('박', 'utf-8'))\n",
    "print(bin(0xebb095))\n",
    "''.join(map(bin,bytearray('박','utf8')))"
   ]
  },
  {
   "cell_type": "markdown",
   "id": "26a21824-18d2-4f84-9ae3-770303792c1c",
   "metadata": {},
   "source": [
    "# Base64\n",
    "  - 데이터를 64 종류의 인쇄 가능한 알파벳과 숫자만을 사용하여, 그 외의 문자를 처리 할 수 없는 통신 환경에서 멀티 바이트 문자나 바이너리 데이터를 처리하기 위한 인코딩 방식\n",
    "  - 7비트 ACII문자 만의 사용을 전제로 하고 있는 이메일에서, 바이너리 데이터를 전송하기 위한 규약\n",
    "  - 데이터 변환 방식의 하나\n",
    "  - 첨부파일 -> 변환 -> 문자정보\n",
    "  - 문자정보 -> 반대로 변환 -> 첨부 파일"
   ]
  },
  {
   "cell_type": "code",
   "execution_count": 9,
   "id": "d1e7664f-db42-4a85-8fa9-d73e0aa4d185",
   "metadata": {},
   "outputs": [
    {
     "data": {
      "text/plain": [
       "b'XnLDfU/8oZh/PtfYiEzmsmisUHmjsmmJ5LcjvVA9TxI='"
      ]
     },
     "execution_count": 9,
     "metadata": {},
     "output_type": "execute_result"
    }
   ],
   "source": [
    "import os, base64\n",
    "base64.b64encode(os.urandom(32))"
   ]
  },
  {
   "cell_type": "markdown",
   "id": "1cc813ad-9738-4c74-95f4-2f243531872e",
   "metadata": {},
   "source": [
    "# 207 pycrypto 암호화와 해독"
   ]
  },
  {
   "cell_type": "code",
   "execution_count": 36,
   "id": "def270dc-0416-4896-8a71-6ac9b828b2c6",
   "metadata": {},
   "outputs": [
    {
     "name": "stdout",
     "output_type": "stream",
     "text": [
      "16\n",
      "abcdefghijklmnopqrstuvwxyzABCDEFGHIJKLMNOPQRSTUVWXYZ\n",
      "b'I\\x16\\x04:\\xc0\\x8f\\x8cA\\x12\\xc0\\xefE\\x9a\\x81\\xa6\\x9f\\x83\\xb0\\xbf\\xc7,\\x0b\\x1e\\xa5\\x15\\x10w3\\x18\\xc9g0'\n",
      "6\n",
      "b'This is python crypto test'\n"
     ]
    }
   ],
   "source": [
    "# pip install pycrypto\n",
    "\n",
    "import string\n",
    "import random\n",
    "\n",
    "from Crypto.Cipher import AES\n",
    "\n",
    "print(AES.block_size)\n",
    "print(string.ascii_letters)\n",
    "\n",
    "key = ''.join(\n",
    "    random.choice(string.ascii_letters) for _ in range(AES.block_size))\n",
    "\n",
    "iv = ''.join(\n",
    "    random.choice(string.ascii_letters) for _ in range(AES.block_size))\n",
    "\n",
    "plaintext = 'This is python crypto test'\n",
    "cipher = AES.new(key, AES.MODE_CBC, iv)\n",
    "\n",
    "# 마지막에 필요한 길이\n",
    "padding_length = AES.block_size - len(plaintext) % AES.block_size\n",
    "plaintext += chr(padding_length) * padding_length # AES.block_size 길이를 맞추기 위해 넣어주는 더미 문자\n",
    "cipher_text = cipher.encrypt(plaintext)\n",
    "print(cipher_text)\n",
    "\n",
    "cipher2 = AES.new(key, AES.MODE_CBC, iv)\n",
    "decrypted_text = cipher2.decrypt(cipher_text)\n",
    "print(decrypted_text[-1])\n",
    "print(decrypted_text[:-decrypted_text[-1]])"
   ]
  },
  {
   "cell_type": "code",
   "execution_count": 38,
   "id": "654c892b-68de-47b1-b937-002bd65ac9b8",
   "metadata": {},
   "outputs": [
    {
     "name": "stdout",
     "output_type": "stream",
     "text": [
      "16\n",
      "abcdefghijklmnopqrstuvwxyzABCDEFGHIJKLMNOPQRSTUVWXYZ\n",
      "[DEFAULT]\n",
      "debug = True\n",
      "\n",
      "[web_server]\n",
      "host = 127.0.0.1\n",
      "port = 80\n",
      "\n",
      "[db_server]\n",
      "host = 127.0.0.1\n",
      "port = 3306\n",
      "\n",
      "\n"
     ]
    }
   ],
   "source": [
    "# pip install pycrypto\n",
    "\n",
    "import string\n",
    "import random\n",
    "\n",
    "from Crypto.Cipher import AES\n",
    "\n",
    "print(AES.block_size)\n",
    "print(string.ascii_letters)\n",
    "\n",
    "key = ''.join(\n",
    "    random.choice(string.ascii_letters) for _ in range(AES.block_size))\n",
    "\n",
    "iv = ''.join(\n",
    "    random.choice(string.ascii_letters) for _ in range(AES.block_size))\n",
    "\n",
    "with open('config.ini', 'r') as f, open('enc.dat', 'wb') as e:\n",
    "    plaintext = f.read()\n",
    "    cipher = AES.new(key, AES.MODE_CBC, iv)\n",
    "    # 마지막에 필요한 길이\n",
    "    padding_length = AES.block_size - len(plaintext) % AES.block_size\n",
    "    plaintext += chr(padding_length) * padding_length # AES.block_size 길이를 맞추기 위해 넣어주는 더미 문자\n",
    "    cipher_text = cipher.encrypt(plaintext)\n",
    "    e.write(cipher_text)\n",
    "\n",
    "with open('enc.dat', 'rb') as f: \n",
    "    cipher2 = AES.new(key, AES.MODE_CBC, iv)\n",
    "    decrypted_text = cipher2.decrypt(f.read())\n",
    "    print(decrypted_text[:-decrypted_text[-1]].decode('utf-8'))"
   ]
  },
  {
   "cell_type": "markdown",
   "id": "d44342a2-7637-4830-8162-89f73de93954",
   "metadata": {},
   "source": [
    "# 208 hashlib의 해시"
   ]
  },
  {
   "cell_type": "code",
   "execution_count": 51,
   "id": "f8bf983a-41d4-44cc-97e0-0592ff382022",
   "metadata": {},
   "outputs": [
    {
     "name": "stdout",
     "output_type": "stream",
     "text": [
      "b\"^\\x88H\\x98\\xda(\\x04qQ\\xd0\\xe5o\\x8d\\xc6)'s`=\\rj\\xab\\xbd\\xd6*\\x11\\xefr\\x1d\\x15B\\xd8\"\n",
      "9f86d081884c7d659a2feaa0c55ad015a3bf4f1b2b0b822cd15d6c15b0f00a08\n",
      "b'Wp3UvNBvqvDWZ41Dqbj/PEWMCd0xbrYBHJGFJMcMrbU='\n",
      "True\n"
     ]
    }
   ],
   "source": [
    "import base64\n",
    "import os\n",
    "import hashlib\n",
    "\n",
    "print(hashlib.sha256(b'password').digest())\n",
    "print(hashlib.sha256(b'test').hexdigest())\n",
    "\n",
    "user_name = 'user1'\n",
    "user_pass = 'password'\n",
    "\n",
    "db = {}\n",
    "\n",
    "salt = base64.b64encode(os.urandom(32))\n",
    "print(salt)\n",
    "\n",
    "def get_digest(password):\n",
    "    password = bytes(password, 'utf-8')\n",
    "    digest = hashlib.sha256(salt + password).hexdigest()\n",
    "    for _ in range(10000):\n",
    "        digest = hashlib.sha256(bytes(digest, 'utf-8')).hexdigest()\n",
    "    print(digest)\n",
    "    return digest\n",
    "\n",
    "digest = hashlib.pbkdf2_hmac(\n",
    "    'sha256', bytes(user_pass, 'utf-8'), salt, 10000)\n",
    "\n",
    "db[user_name] = digest\n",
    "# db[user_name] = get_digest(user_pass)\n",
    "\n",
    "def is_login(user_name, password):\n",
    "    digest = hashlib.pbkdf2_hmac(\n",
    "        'sha256', bytes(password, 'utf-8'), salt, 10000)\n",
    "    return digest == db[user_name]\n",
    "#     return get_digest(password) == db[user_name]\n",
    "\n",
    "\n",
    "print(is_login(user_name, user_pass))"
   ]
  },
  {
   "cell_type": "code",
   "execution_count": null,
   "id": "385fcc86-4e9b-423c-8792-cf7632738c8b",
   "metadata": {},
   "outputs": [],
   "source": []
  },
  {
   "cell_type": "code",
   "execution_count": null,
   "id": "d93f479b-0dca-48d9-8bd6-8f4e88b20810",
   "metadata": {},
   "outputs": [],
   "source": []
  }
 ],
 "metadata": {
  "kernelspec": {
   "display_name": "Python 3",
   "language": "python",
   "name": "python3"
  },
  "language_info": {
   "codemirror_mode": {
    "name": "ipython",
    "version": 3
   },
   "file_extension": ".py",
   "mimetype": "text/x-python",
   "name": "python",
   "nbconvert_exporter": "python",
   "pygments_lexer": "ipython3",
   "version": "3.8.8"
  }
 },
 "nbformat": 4,
 "nbformat_minor": 5
}
