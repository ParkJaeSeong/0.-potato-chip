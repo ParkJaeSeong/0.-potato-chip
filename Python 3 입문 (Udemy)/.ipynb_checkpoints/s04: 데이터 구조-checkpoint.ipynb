{
 "metadata": {
  "language_info": {
   "codemirror_mode": {
    "name": "ipython",
    "version": 3
   },
   "file_extension": ".py",
   "mimetype": "text/x-python",
   "name": "python",
   "nbconvert_exporter": "python",
   "pygments_lexer": "ipython3",
   "version": "3.8.8"
  },
  "orig_nbformat": 4,
  "kernelspec": {
   "name": "python3",
   "display_name": "Python 3.8.8 64-bit ('base': conda)"
  },
  "interpreter": {
   "hash": "b2e304472910653ceea340d22e71aa5647984c7a74be0761814051791a14682a"
  }
 },
 "nbformat": 4,
 "nbformat_minor": 2,
 "cells": [
  {
   "source": [
    "# 16. 리스트 (21.08.16)"
   ],
   "cell_type": "markdown",
   "metadata": {}
  },
  {
   "cell_type": "code",
   "execution_count": 5,
   "metadata": {},
   "outputs": [
    {
     "output_type": "stream",
     "name": "stdout",
     "text": [
      "[1, 20, 4, 50, 2, 1, 2]\n7\n<class 'list'>\n"
     ]
    }
   ],
   "source": [
    "l = [1, 20, 4, 50, 2, 1, 2]\n",
    "print(l[:])\n",
    "print(len(l))\n",
    "print(type(l))"
   ]
  },
  {
   "cell_type": "code",
   "execution_count": 8,
   "metadata": {},
   "outputs": [
    {
     "output_type": "stream",
     "name": "stdout",
     "text": [
      "[1, 3, 5, 7, 9]\n[10, 9, 8, 7, 6, 5, 4, 3, 2, 1]\n"
     ]
    }
   ],
   "source": [
    "n = [1, 2, 3, 4, 5, 6, 7, 8, 9, 10]\n",
    "print(n[::2])\n",
    "print(n[::-1])"
   ]
  },
  {
   "cell_type": "code",
   "execution_count": 19,
   "metadata": {},
   "outputs": [
    {
     "output_type": "stream",
     "name": "stdout",
     "text": [
      "['a', 'b', 'C', 'D', 'E', 'f', 'g']\n[0, 1, 2, 3, 4, 5, 6, 7, 8, 9, 10, 100]\n100 [0, 1, 2, 3, 4, 5, 6, 7, 8, 9, 10]\n0 [1, 2, 3, 4, 5, 6, 7, 8, 9, 10]\n[2, 3, 4, 5, 6, 7, 8, 9, 10]\n"
     ]
    }
   ],
   "source": [
    "s = ['a', 'b', 'c', 'd', 'e', 'f', 'g']\n",
    "s[2:5] = ['C', 'D', 'E']\n",
    "print(s)\n",
    "\n",
    "n = [1, 2, 3, 4, 5, 6, 7, 8, 9, 10]\n",
    "n.append(100)\n",
    "n.insert(0, 0)\n",
    "print(n)\n",
    "print(n.pop(), n)\n",
    "print(n.pop(0), n)\n",
    "\n",
    "del n[0]\n",
    "print(n)"
   ]
  },
  {
   "cell_type": "code",
   "execution_count": 24,
   "metadata": {},
   "outputs": [
    {
     "output_type": "stream",
     "name": "stdout",
     "text": [
      "[1, 2, 2, 3]\n[1, 2, 3, 4, 5, 6, 7, 8, 9, 10]\n[1, 2, 3, 4, 5, 6, 7, 8, 9, 10]\n[1, 2, 3, 4, 5, 6, 7, 8, 9, 10]\n"
     ]
    }
   ],
   "source": [
    "n = [1, 2, 2, 2, 3]\n",
    "n.remove(2)\n",
    "print(n)\n",
    "\n",
    "a = [1, 2, 3, 4, 5]\n",
    "b = [6, 7, 8, 9, 10]\n",
    "print(a + b)\n",
    "\n",
    "a += b\n",
    "print(a)\n",
    "\n",
    "a = [1, 2, 3, 4, 5]\n",
    "b = [6, 7, 8, 9, 10]\n",
    "a.extend(b)\n",
    "print(a)"
   ]
  },
  {
   "cell_type": "code",
   "execution_count": 33,
   "metadata": {},
   "outputs": [
    {
     "output_type": "stream",
     "name": "stdout",
     "text": [
      "2\n7\n2\nexist\n[1, 1, 2, 2, 3, 3, 4, 5]\n[5, 4, 3, 3, 2, 2, 1, 1]\n[1, 1, 2, 2, 3, 3, 4, 5]\n"
     ]
    }
   ],
   "source": [
    "r = [1, 2, 3, 4, 5, 1, 2, 3]\n",
    "print(r.index(3))\n",
    "print(r.index(3, 3))\n",
    "print(r.count(3))\n",
    "\n",
    "if 5 in r:\n",
    "    print('exist')\n",
    "\n",
    "r.sort()\n",
    "print(r)\n",
    "\n",
    "r.sort(reverse=True)\n",
    "print(r)\n",
    "\n",
    "r.reverse()\n",
    "print(r)"
   ]
  },
  {
   "cell_type": "code",
   "execution_count": 37,
   "metadata": {},
   "outputs": [
    {
     "output_type": "stream",
     "name": "stdout",
     "text": [
      "['My', 'name', 'is', 'Mike.']\nMy name is Mike.\n"
     ]
    }
   ],
   "source": [
    "\n",
    "s = \"My name is Mike.\"\n",
    "split = s.split(' ')\n",
    "print(split)\n",
    "\n",
    "print(' '.join(split))"
   ]
  },
  {
   "cell_type": "code",
   "execution_count": 46,
   "metadata": {},
   "outputs": [
    {
     "output_type": "stream",
     "name": "stdout",
     "text": [
      "[1, 2, 3, 4, 5]\n[100, 2, 3, 4, 5]\n[1, 2, 3, 4, 5]\n[100, 2, 3, 4, 5]\n4337712064 20\n4337711744 10\n140656576844864 ['p', 'b']\n140656576844864 ['p', 'b']\n"
     ]
    }
   ],
   "source": [
    "x = [1, 2, 3, 4, 5]\n",
    "y = x.copy()\n",
    "y[0] = 100\n",
    "print(x)\n",
    "print(y)\n",
    "\n",
    "x = [1, 2, 3, 4, 5]\n",
    "y = x[:]\n",
    "y[0] = 100\n",
    "print(x)\n",
    "print(y)\n",
    "\n",
    "#수치전달, 참조전달\n",
    "\n",
    "X = 20\n",
    "Y = X\n",
    "Y = 10\n",
    "print(id(X), X)\n",
    "print(id(Y), Y)\n",
    "\n",
    "X = ['a', 'b']\n",
    "Y = X\n",
    "Y[0] = 'p'\n",
    "print(id(X), X)\n",
    "print(id(Y), Y)\n"
   ]
  },
  {
   "source": [
    "# 21. 튜플 (21.08.16)"
   ],
   "cell_type": "markdown",
   "metadata": {}
  },
  {
   "cell_type": "code",
   "execution_count": null,
   "metadata": {},
   "outputs": [],
   "source": []
  },
  {
   "cell_type": "code",
   "execution_count": null,
   "metadata": {},
   "outputs": [],
   "source": []
  },
  {
   "cell_type": "code",
   "execution_count": null,
   "metadata": {},
   "outputs": [],
   "source": []
  },
  {
   "cell_type": "code",
   "execution_count": null,
   "metadata": {},
   "outputs": [],
   "source": []
  },
  {
   "cell_type": "code",
   "execution_count": null,
   "metadata": {},
   "outputs": [],
   "source": []
  },
  {
   "cell_type": "code",
   "execution_count": null,
   "metadata": {},
   "outputs": [],
   "source": []
  },
  {
   "cell_type": "code",
   "execution_count": null,
   "metadata": {},
   "outputs": [],
   "source": []
  },
  {
   "source": [
    "# 24. 사전 (21.08.16)"
   ],
   "cell_type": "markdown",
   "metadata": {}
  },
  {
   "cell_type": "code",
   "execution_count": null,
   "metadata": {},
   "outputs": [],
   "source": []
  },
  {
   "cell_type": "code",
   "execution_count": null,
   "metadata": {},
   "outputs": [],
   "source": []
  },
  {
   "cell_type": "code",
   "execution_count": null,
   "metadata": {},
   "outputs": [],
   "source": []
  },
  {
   "cell_type": "code",
   "execution_count": null,
   "metadata": {},
   "outputs": [],
   "source": []
  },
  {
   "source": [
    "# 28. 집합 (21.08.16)"
   ],
   "cell_type": "markdown",
   "metadata": {}
  },
  {
   "cell_type": "code",
   "execution_count": null,
   "metadata": {},
   "outputs": [],
   "source": []
  },
  {
   "cell_type": "code",
   "execution_count": null,
   "metadata": {},
   "outputs": [],
   "source": []
  },
  {
   "cell_type": "code",
   "execution_count": null,
   "metadata": {},
   "outputs": [],
   "source": []
  },
  {
   "cell_type": "code",
   "execution_count": null,
   "metadata": {},
   "outputs": [],
   "source": []
  }
 ]
}