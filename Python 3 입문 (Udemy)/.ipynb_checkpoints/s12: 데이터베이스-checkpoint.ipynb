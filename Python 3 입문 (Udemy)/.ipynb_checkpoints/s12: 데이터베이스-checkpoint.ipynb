{
 "cells": [
  {
   "cell_type": "markdown",
   "id": "659bb8d9-305f-4b82-bd5a-e0a2bfd7c155",
   "metadata": {},
   "source": [
    "### 132 데이터베이스\n",
    "\n",
    "### 관계형데이터베이스\n",
    "- SQL Alchemy\n",
    "  - SQLote\n",
    "  - MySQL\n",
    "\n",
    "### NoSQL\n",
    "- DBM memcach \n",
    "  - Key-value\n",
    "- MonoDB \n",
    "  - Document\n",
    "- Hbase, 카산드라, 구글빅데이터 등 \n",
    "  - Wide Column\n",
    "- Neo4j \n",
    "  - Graph"
   ]
  },
  {
   "cell_type": "code",
   "execution_count": 1,
   "id": "6696f8d0-c41e-4bae-801e-e07a83ece047",
   "metadata": {},
   "outputs": [
    {
     "name": "stdout",
     "output_type": "stream",
     "text": [
      "[(2, 'Nancy'), (3, 'Jun')]\n"
     ]
    }
   ],
   "source": [
    "# 135 sqlite3\n",
    "\n",
    "# brew install sqlite3\n",
    "\n",
    "import sqlite3\n",
    "\n",
    "#conn = sqlite3.connect('test_sqlite.db')\n",
    "conn = sqlite3.connect(':memory:')  # memory db\n",
    "\n",
    "curs = conn.cursor()\n",
    "\n",
    "curs.execute('CREATE TABLE persons(id INTEGER PRIMARY KEY AUTOINCREMENT, name STRING)')\n",
    "conn.commit()\n",
    "\n",
    "curs.execute('INSERT INTO persons(name) values(\"Mike\")')\n",
    "curs.execute('INSERT INTO persons(name) values(\"Nancy\")')\n",
    "curs.execute('INSERT INTO persons(name) values(\"Jun\")')\n",
    "conn.commit()\n",
    "\n",
    "curs.execute('UPDATE persons set name = \"Michel\" WHERE name = \"Mike\"')\n",
    "conn.commit()\n",
    "\n",
    "curs.execute('DELETE FROM persons WHERE name = \"Michel\"')\n",
    "conn.commit()\n",
    "\n",
    "curs.execute('SELECT * FROM persons')\n",
    "print(curs.fetchall())\n",
    "\n",
    "curs.close()\n",
    "conn.close()\n"
   ]
  },
  {
   "cell_type": "code",
   "execution_count": 3,
   "id": "70476c53-de2f-4e2b-9282-50fcc248d776",
   "metadata": {},
   "outputs": [],
   "source": [
    "# 138 mysql\n",
    "\n",
    "# brew install mysql\n",
    "# brew services start mysql\n",
    "# mysql -uroot\n",
    "# brew services stop mysql\n",
    "\n",
    "import mysql.connector\n",
    "\n",
    "# user, password 설정할 것\n",
    "conn = mysql.connector.connect(host='127.0.0.1', user='root', password='')\n",
    "\n",
    "cursor = conn.cursor()\n",
    "\n",
    "# cursor.execute(\n",
    "#     'CREATE DATABASE test_mysql_database'\n",
    "# )\n",
    "\n",
    "cursor.close()\n",
    "conn.close()\n"
   ]
  },
  {
   "cell_type": "code",
   "execution_count": 32,
   "id": "425f09d5-b542-46f6-a0b4-6c50fc8a0b8f",
   "metadata": {},
   "outputs": [
    {
     "name": "stdout",
     "output_type": "stream",
     "text": [
      "(1, 'MIKE')\n",
      "(2, 'MIKE')\n"
     ]
    }
   ],
   "source": [
    "import mysql.connector\n",
    "\n",
    "# user, password 설정할 것\n",
    "conn = mysql.connector.connect(host='127.0.0.1', user='root', password='', database='test_mysql_database')\n",
    "\n",
    "cursor = conn.cursor()\n",
    "\n",
    "# cursor.execute(\n",
    "#     'CREATE TABLE persons('\n",
    "#     'id int NOT NULL AUTO_INCREMENT,'\n",
    "#     'name VARCHAR(14) NOT NULL,'\n",
    "#     'PRIMARY KEY(id))'\n",
    "# )\n",
    "\n",
    "# cursor.execute('INSERT INTO persons(name) values(\"MIKE\")')\n",
    "\n",
    "conn.commit()\n",
    "\n",
    "cursor.execute('SELECT * FROM persons')\n",
    "for row in cursor:\n",
    "    print(row)\n",
    "\n",
    "cursor.execute('UPDATE persons set name = \"Michel\" where name = \"MIKE\"')\n",
    "cursor.execute('DELETE FROM persons where name = \"Michel\"')\n",
    "    \n",
    "cursor.close()\n",
    "conn.close()"
   ]
  },
  {
   "cell_type": "code",
   "execution_count": 33,
   "id": "dd05666d-33a3-4b4c-a5c7-13e1c9bf7aeb",
   "metadata": {},
   "outputs": [
    {
     "name": "stdout",
     "output_type": "stream",
     "text": [
      "2021-08-23 12:13:36,337 INFO sqlalchemy.engine.Engine BEGIN (implicit)\n",
      "2021-08-23 12:13:36,338 INFO sqlalchemy.engine.Engine PRAGMA main.table_info(\"persons\")\n",
      "2021-08-23 12:13:36,339 INFO sqlalchemy.engine.Engine [raw sql] ()\n",
      "2021-08-23 12:13:36,340 INFO sqlalchemy.engine.Engine PRAGMA temp.table_info(\"persons\")\n",
      "2021-08-23 12:13:36,341 INFO sqlalchemy.engine.Engine [raw sql] ()\n",
      "2021-08-23 12:13:36,344 INFO sqlalchemy.engine.Engine \n",
      "CREATE TABLE persons (\n",
      "\tid INTEGER NOT NULL, \n",
      "\tname VARCHAR(14), \n",
      "\tPRIMARY KEY (id)\n",
      ")\n",
      "\n",
      "\n",
      "2021-08-23 12:13:36,345 INFO sqlalchemy.engine.Engine [no key 0.00101s] ()\n",
      "2021-08-23 12:13:36,347 INFO sqlalchemy.engine.Engine COMMIT\n",
      "2021-08-23 12:13:36,349 INFO sqlalchemy.engine.Engine BEGIN (implicit)\n",
      "2021-08-23 12:13:36,350 INFO sqlalchemy.engine.Engine INSERT INTO persons (name) VALUES (?)\n",
      "2021-08-23 12:13:36,351 INFO sqlalchemy.engine.Engine [generated in 0.00061s] ('Mike',)\n",
      "2021-08-23 12:13:36,352 INFO sqlalchemy.engine.Engine INSERT INTO persons (name) VALUES (?)\n",
      "2021-08-23 12:13:36,352 INFO sqlalchemy.engine.Engine [cached since 0.001718s ago] ('Nancy',)\n",
      "2021-08-23 12:13:36,353 INFO sqlalchemy.engine.Engine INSERT INTO persons (name) VALUES (?)\n",
      "2021-08-23 12:13:36,353 INFO sqlalchemy.engine.Engine [cached since 0.003002s ago] ('Jun',)\n",
      "2021-08-23 12:13:36,355 INFO sqlalchemy.engine.Engine COMMIT\n",
      "2021-08-23 12:13:36,356 INFO sqlalchemy.engine.Engine BEGIN (implicit)\n",
      "2021-08-23 12:13:36,357 INFO sqlalchemy.engine.Engine SELECT persons.id AS persons_id, persons.name AS persons_name \n",
      "FROM persons \n",
      "WHERE persons.name = ?\n",
      " LIMIT ? OFFSET ?\n",
      "2021-08-23 12:13:36,358 INFO sqlalchemy.engine.Engine [generated in 0.00049s] ('Mike', 1, 0)\n",
      "2021-08-23 12:13:36,359 INFO sqlalchemy.engine.Engine UPDATE persons SET name=? WHERE persons.id = ?\n",
      "2021-08-23 12:13:36,360 INFO sqlalchemy.engine.Engine [generated in 0.00046s] ('Michel', 1)\n",
      "2021-08-23 12:13:36,360 INFO sqlalchemy.engine.Engine COMMIT\n",
      "2021-08-23 12:13:36,361 INFO sqlalchemy.engine.Engine BEGIN (implicit)\n",
      "2021-08-23 12:13:36,362 INFO sqlalchemy.engine.Engine SELECT persons.id AS persons_id, persons.name AS persons_name \n",
      "FROM persons \n",
      "WHERE persons.name = ?\n",
      " LIMIT ? OFFSET ?\n",
      "2021-08-23 12:13:36,363 INFO sqlalchemy.engine.Engine [cached since 0.005395s ago] ('Nancy', 1, 0)\n",
      "2021-08-23 12:13:36,364 INFO sqlalchemy.engine.Engine DELETE FROM persons WHERE persons.id = ?\n",
      "2021-08-23 12:13:36,365 INFO sqlalchemy.engine.Engine [generated in 0.00066s] (2,)\n",
      "2021-08-23 12:13:36,366 INFO sqlalchemy.engine.Engine COMMIT\n",
      "2021-08-23 12:13:36,367 INFO sqlalchemy.engine.Engine BEGIN (implicit)\n",
      "2021-08-23 12:13:36,369 INFO sqlalchemy.engine.Engine SELECT persons.id AS persons_id, persons.name AS persons_name \n",
      "FROM persons\n",
      "2021-08-23 12:13:36,369 INFO sqlalchemy.engine.Engine [generated in 0.00053s] ()\n",
      "1 Michel\n",
      "3 Jun\n"
     ]
    }
   ],
   "source": [
    "# 139 SQLAlchemy ORM\n",
    "\n",
    "# pip install sqlalchemy\n",
    "# pip install pymysql # mysql 연결형\n",
    "\n",
    "import sqlalchemy\n",
    "import sqlalchemy.ext.declarative\n",
    "import sqlalchemy.orm\n",
    "\n",
    "engine = sqlalchemy.create_engine('sqlite:///:memory:', echo=True)\n",
    "#engine = sqlalchemy.create_engine('sqlite:///test_sqlite')\n",
    "#engine = sqlalchemy.create_engine('mysql+pymysql:///test_mysql_databases2')\n",
    "\n",
    "Base = sqlalchemy.ext.declarative.declarative_base()\n",
    "\n",
    "class Person(Base):\n",
    "    __tablename__ = 'persons'\n",
    "    id = sqlalchemy.Column(sqlalchemy.Integer, primary_key=True, autoincrement=True)\n",
    "    name = sqlalchemy.Column(sqlalchemy.String(14))\n",
    "    \n",
    "Base.metadata.create_all(engine)\n",
    "\n",
    "\n",
    "Session = sqlalchemy.orm.sessionmaker(bind=engine)\n",
    "session = Session()\n",
    "\n",
    "p1 = Person(name='Mike')\n",
    "session.add(p1)\n",
    "p2 = Person(name='Nancy')\n",
    "session.add(p2)\n",
    "p3 = Person(name='Jun')\n",
    "session.add(p3)\n",
    "\n",
    "session.commit()\n",
    "\n",
    "# ORM 선택\n",
    "p4 = session.query(Person).filter_by(name='Mike').first()\n",
    "p4.name = 'Michel'\n",
    "session.add(p4)\n",
    "session.commit()\n",
    "\n",
    "# ORM 삭제\n",
    "p5 = session.query(Person).filter_by(name='Nancy').first()\n",
    "session.delete(p5)\n",
    "session.commit()\n",
    "\n",
    "persons = session.query(Person).all()\n",
    "for person in persons:\n",
    "    print(person.id, person.name)"
   ]
  },
  {
   "cell_type": "code",
   "execution_count": 37,
   "id": "68a2922a-e226-484d-ba1d-cd269e6c33ee",
   "metadata": {},
   "outputs": [
    {
     "name": "stdout",
     "output_type": "stream",
     "text": [
      "b'value1'\n"
     ]
    }
   ],
   "source": [
    "# 140 DBM\n",
    "\n",
    "import dbm\n",
    "\n",
    "# with dbm.open('cache', 'c')as db:  # cache.db 파일 생성\n",
    "#     db['key1'] = 'value1'\n",
    "#     db['key2'] = 'value2' # byte, string만 작성 가능함\n",
    "\n",
    "with dbm.open('cache', 'r') as db:\n",
    "    print(db.get('key1'))\n"
   ]
  },
  {
   "cell_type": "code",
   "execution_count": 46,
   "id": "41e7ab0a-93fe-49d3-ba30-f98719c04fcd",
   "metadata": {},
   "outputs": [
    {
     "name": "stdout",
     "output_type": "stream",
     "text": [
      "value1\n",
      "None\n",
      "5\n"
     ]
    }
   ],
   "source": [
    "# 141 memcached\n",
    "\n",
    "# brew install memcached\n",
    "# memcached -vv (기동)\n",
    "# brew services start memcached\n",
    "\n",
    "# pip install python-memcached\n",
    "\n",
    "import time\n",
    "\n",
    "import memcache\n",
    "\n",
    "db = memcache.Client(['127.0.0.1:11211', ])\n",
    "\n",
    "db.set('web_page', 'value1', time=1) # 1초 후 사라짐\n",
    "\n",
    "# print(db.get('web_page'))\n",
    "# time.sleep(2)\n",
    "# print(db.get('web_page'))\n",
    "\n",
    "db.set('counter', 0)\n",
    "db.incr('counter', 1)\n",
    "db.incr('counter', 1)\n",
    "db.incr('counter', 1)\n",
    "db.incr('counter', 1)\n",
    "db.incr('counter', 1)\n",
    "print(db.get('counter'))"
   ]
  },
  {
   "cell_type": "code",
   "execution_count": null,
   "id": "41a70779-c990-44bf-8962-6c0918d25ce2",
   "metadata": {},
   "outputs": [],
   "source": []
  }
 ],
 "metadata": {
  "kernelspec": {
   "display_name": "Python 3 (ipykernel)",
   "language": "python",
   "name": "python3"
  },
  "language_info": {
   "codemirror_mode": {
    "name": "ipython",
    "version": 3
   },
   "file_extension": ".py",
   "mimetype": "text/x-python",
   "name": "python",
   "nbconvert_exporter": "python",
   "pygments_lexer": "ipython3",
   "version": "3.9.6"
  }
 },
 "nbformat": 4,
 "nbformat_minor": 5
}
