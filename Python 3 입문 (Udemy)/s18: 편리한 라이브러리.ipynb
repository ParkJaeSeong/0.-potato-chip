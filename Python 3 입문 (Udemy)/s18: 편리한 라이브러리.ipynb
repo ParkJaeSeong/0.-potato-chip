{
 "cells": [
  {
   "cell_type": "markdown",
   "id": "381adae4-f55b-4ad0-a54a-49986ab9400b",
   "metadata": {},
   "source": [
    "# 219 IPython\n",
    "\n",
    "https://ipython.org/"
   ]
  },
  {
   "cell_type": "code",
   "execution_count": 2,
   "id": "33bc8b22-7dd7-467e-b9a3-eb64d4a9f0bf",
   "metadata": {
    "collapsed": true,
    "jupyter": {
     "outputs_hidden": true
    },
    "tags": []
   },
   "outputs": [
    {
     "data": {
      "text/plain": [
       "\n",
       "IPython -- An enhanced Interactive Python - Quick Reference Card\n",
       "================================================================\n",
       "\n",
       "obj?, obj??      : Get help, or more help for object (also works as\n",
       "                   ?obj, ??obj).\n",
       "?foo.*abc*       : List names in 'foo' containing 'abc' in them.\n",
       "%magic           : Information about IPython's 'magic' % functions.\n",
       "\n",
       "Magic functions are prefixed by % or %%, and typically take their arguments\n",
       "without parentheses, quotes or even commas for convenience.  Line magics take a\n",
       "single % and cell magics are prefixed with two %%.\n",
       "\n",
       "Example magic function calls:\n",
       "\n",
       "%alias d ls -F   : 'd' is now an alias for 'ls -F'\n",
       "alias d ls -F    : Works if 'alias' not a python name\n",
       "alist = %alias   : Get list of aliases to 'alist'\n",
       "cd /usr/share    : Obvious. cd -<tab> to choose from visited dirs.\n",
       "%cd??            : See help AND source for magic %cd\n",
       "%timeit x=10     : time the 'x=10' statement with high precision.\n",
       "%%timeit x=2**100\n",
       "x**100           : time 'x**100' with a setup of 'x=2**100'; setup code is not\n",
       "                   counted.  This is an example of a cell magic.\n",
       "\n",
       "System commands:\n",
       "\n",
       "!cp a.txt b/     : System command escape, calls os.system()\n",
       "cp a.txt b/      : after %rehashx, most system commands work without !\n",
       "cp ${f}.txt $bar : Variable expansion in magics and system commands\n",
       "files = !ls /usr : Capture system command output\n",
       "files.s, files.l, files.n: \"a b c\", ['a','b','c'], 'a\\nb\\nc'\n",
       "\n",
       "History:\n",
       "\n",
       "_i, _ii, _iii    : Previous, next previous, next next previous input\n",
       "_i4, _ih[2:5]    : Input history line 4, lines 2-4\n",
       "exec _i81        : Execute input history line #81 again\n",
       "%rep 81          : Edit input history line #81\n",
       "_, __, ___       : previous, next previous, next next previous output\n",
       "_dh              : Directory history\n",
       "_oh              : Output history\n",
       "%hist            : Command history of current session.\n",
       "%hist -g foo     : Search command history of (almost) all sessions for 'foo'.\n",
       "%hist -g         : Command history of (almost) all sessions.\n",
       "%hist 1/2-8      : Command history containing lines 2-8 of session 1.\n",
       "%hist 1/ ~2/     : Command history of session 1 and 2 sessions before current.\n",
       "%hist ~8/1-~6/5  : Command history from line 1 of 8 sessions ago to\n",
       "                   line 5 of 6 sessions ago.\n",
       "%edit 0/         : Open editor to execute code with history of current session.\n",
       "\n",
       "Autocall:\n",
       "\n",
       "f 1,2            : f(1,2)  # Off by default, enable with %autocall magic.\n",
       "/f 1,2           : f(1,2) (forced autoparen)\n",
       ",f 1 2           : f(\"1\",\"2\")\n",
       ";f 1 2           : f(\"1 2\")\n",
       "\n",
       "Remember: TAB completion works in many contexts, not just file names\n",
       "or python names.\n",
       "\n",
       "The following magic functions are currently available:\n",
       "\n",
       "%alias:\n",
       "    Define an alias for a system command.\n",
       "%alias_magic:\n",
       "    ::\n",
       "%autoawait:\n",
       "    \n",
       "%autocall:\n",
       "    Make functions callable without having to type parentheses.\n",
       "%automagic:\n",
       "    Make magic functions callable without having to type the initial %.\n",
       "%autosave:\n",
       "    Set the autosave interval in the notebook (in seconds).\n",
       "%bookmark:\n",
       "    Manage IPython's bookmark system.\n",
       "%cat:\n",
       "    Alias for `!cat`\n",
       "%cd:\n",
       "    Change the current working directory.\n",
       "%clear:\n",
       "    Clear the terminal.\n",
       "%colors:\n",
       "    Switch color scheme for prompts, info system and exception handlers.\n",
       "%conda:\n",
       "    Run the conda package manager within the current kernel.\n",
       "%config:\n",
       "    configure IPython\n",
       "%connect_info:\n",
       "    Print information for connecting other clients to this kernel\n",
       "%cp:\n",
       "    Alias for `!cp`\n",
       "%debug:\n",
       "    ::\n",
       "%dhist:\n",
       "    Print your history of visited directories.\n",
       "%dirs:\n",
       "    Return the current directory stack.\n",
       "%doctest_mode:\n",
       "    Toggle doctest mode on and off.\n",
       "%ed:\n",
       "    Alias for `%edit`.\n",
       "%edit:\n",
       "    Bring up an editor and execute the resulting code.\n",
       "%env:\n",
       "    Get, set, or list environment variables.\n",
       "%gui:\n",
       "    Enable or disable IPython GUI event loop integration.\n",
       "%hist:\n",
       "    Alias for `%history`.\n",
       "%history:\n",
       "    ::\n",
       "%killbgscripts:\n",
       "    Kill all BG processes started by %%script and its family.\n",
       "%ldir:\n",
       "    Alias for `!ls -F -G -l %l | grep /$`\n",
       "%less:\n",
       "    Show a file through the pager.\n",
       "%lf:\n",
       "    Alias for `!ls -F -l -G %l | grep ^-`\n",
       "%lk:\n",
       "    Alias for `!ls -F -l -G %l | grep ^l`\n",
       "%ll:\n",
       "    Alias for `!ls -F -l -G`\n",
       "%load:\n",
       "    Load code into the current frontend.\n",
       "%load_ext:\n",
       "    Load an IPython extension by its module name.\n",
       "%loadpy:\n",
       "    Alias of `%load`\n",
       "%logoff:\n",
       "    Temporarily stop logging.\n",
       "%logon:\n",
       "    Restart logging.\n",
       "%logstart:\n",
       "    Start logging anywhere in a session.\n",
       "%logstate:\n",
       "    Print the status of the logging system.\n",
       "%logstop:\n",
       "    Fully stop logging and close log file.\n",
       "%ls:\n",
       "    Alias for `!ls -F -G`\n",
       "%lsmagic:\n",
       "    List currently available magic functions.\n",
       "%lx:\n",
       "    Alias for `!ls -F -l -G %l | grep ^-..x`\n",
       "%macro:\n",
       "    Define a macro for future re-execution. It accepts ranges of history,\n",
       "%magic:\n",
       "    Print information about the magic function system.\n",
       "%man:\n",
       "    Find the man page for the given command and display in pager.\n",
       "%matplotlib:\n",
       "    ::\n",
       "%mkdir:\n",
       "    Alias for `!mkdir`\n",
       "%more:\n",
       "    Show a file through the pager.\n",
       "%mv:\n",
       "    Alias for `!mv`\n",
       "%notebook:\n",
       "    ::\n",
       "%page:\n",
       "    Pretty print the object and display it through a pager.\n",
       "%pastebin:\n",
       "    Upload code to dpaste.com, returning the URL.\n",
       "%pdb:\n",
       "    Control the automatic calling of the pdb interactive debugger.\n",
       "%pdef:\n",
       "    Print the call signature for any callable object.\n",
       "%pdoc:\n",
       "    Print the docstring for an object.\n",
       "%pfile:\n",
       "    Print (or run through pager) the file where an object is defined.\n",
       "%pinfo:\n",
       "    Provide detailed information about an object.\n",
       "%pinfo2:\n",
       "    Provide extra detailed information about an object.\n",
       "%pip:\n",
       "    Run the pip package manager within the current kernel.\n",
       "%popd:\n",
       "    Change to directory popped off the top of the stack.\n",
       "%pprint:\n",
       "    Toggle pretty printing on/off.\n",
       "%precision:\n",
       "    Set floating point precision for pretty printing.\n",
       "%prun:\n",
       "    Run a statement through the python code profiler.\n",
       "%psearch:\n",
       "    Search for object in namespaces by wildcard.\n",
       "%psource:\n",
       "    Print (or run through pager) the source code for an object.\n",
       "%pushd:\n",
       "    Place the current dir on stack and change directory.\n",
       "%pwd:\n",
       "    Return the current working directory path.\n",
       "%pycat:\n",
       "    Show a syntax-highlighted file through a pager.\n",
       "%pylab:\n",
       "    ::\n",
       "%qtconsole:\n",
       "    Open a qtconsole connected to this kernel.\n",
       "%quickref:\n",
       "    Show a quick reference sheet \n",
       "%recall:\n",
       "    Repeat a command, or get command to input line for editing.\n",
       "%rehashx:\n",
       "    Update the alias table with all executable files in $PATH.\n",
       "%reload_ext:\n",
       "    Reload an IPython extension by its module name.\n",
       "%rep:\n",
       "    Alias for `%recall`.\n",
       "%rerun:\n",
       "    Re-run previous input\n",
       "%reset:\n",
       "    Resets the namespace by removing all names defined by the user, if\n",
       "%reset_selective:\n",
       "    Resets the namespace by removing names defined by the user.\n",
       "%rm:\n",
       "    Alias for `!rm`\n",
       "%rmdir:\n",
       "    Alias for `!rmdir`\n",
       "%run:\n",
       "    Run the named file inside IPython as a program.\n",
       "%save:\n",
       "    Save a set of lines or a macro to a given filename.\n",
       "%sc:\n",
       "    Shell capture - run shell command and capture output (DEPRECATED use !).\n",
       "%set_env:\n",
       "    Set environment variables.  Assumptions are that either \"val\" is a\n",
       "%store:\n",
       "    Lightweight persistence for python variables.\n",
       "%sx:\n",
       "    Shell execute - run shell command and capture output (!! is short-hand).\n",
       "%system:\n",
       "    Shell execute - run shell command and capture output (!! is short-hand).\n",
       "%tb:\n",
       "    Print the last traceback.\n",
       "%time:\n",
       "    Time execution of a Python statement or expression.\n",
       "%timeit:\n",
       "    Time execution of a Python statement or expression\n",
       "%unalias:\n",
       "    Remove an alias\n",
       "%unload_ext:\n",
       "    Unload an IPython extension by its module name.\n",
       "%who:\n",
       "    Print all interactive variables, with some minimal formatting.\n",
       "%who_ls:\n",
       "    Return a sorted list of all interactive variables.\n",
       "%whos:\n",
       "    Like %who, but gives some extra information about each variable.\n",
       "%xdel:\n",
       "    Delete a variable, trying to clear it from anywhere that\n",
       "%xmode:\n",
       "    Switch modes for the exception handlers.\n",
       "%%!:\n",
       "    Shell execute - run shell command and capture output (!! is short-hand).\n",
       "%%HTML:\n",
       "    Alias for `%%html`.\n",
       "%%SVG:\n",
       "    Alias for `%%svg`.\n",
       "%%bash:\n",
       "    %%bash script magic\n",
       "%%capture:\n",
       "    ::\n",
       "%%debug:\n",
       "    ::\n",
       "%%file:\n",
       "    Alias for `%%writefile`.\n",
       "%%html:\n",
       "    ::\n",
       "%%javascript:\n",
       "    Run the cell block of Javascript code\n",
       "%%js:\n",
       "    Run the cell block of Javascript code\n",
       "%%latex:\n",
       "    Render the cell as a block of latex\n",
       "%%markdown:\n",
       "    Render the cell as Markdown text block\n",
       "%%perl:\n",
       "    %%perl script magic\n",
       "%%prun:\n",
       "    Run a statement through the python code profiler.\n",
       "%%pypy:\n",
       "    %%pypy script magic\n",
       "%%python:\n",
       "    %%python script magic\n",
       "%%python2:\n",
       "    %%python2 script magic\n",
       "%%python3:\n",
       "    %%python3 script magic\n",
       "%%ruby:\n",
       "    %%ruby script magic\n",
       "%%script:\n",
       "    ::\n",
       "%%sh:\n",
       "    %%sh script magic\n",
       "%%svg:\n",
       "    Render the cell as an SVG literal\n",
       "%%sx:\n",
       "    Shell execute - run shell command and capture output (!! is short-hand).\n",
       "%%system:\n",
       "    Shell execute - run shell command and capture output (!! is short-hand).\n",
       "%%time:\n",
       "    Time execution of a Python statement or expression.\n",
       "%%timeit:\n",
       "    Time execution of a Python statement or expression\n",
       "%%writefile:\n",
       "    ::\n"
      ]
     },
     "metadata": {},
     "output_type": "display_data"
    }
   ],
   "source": [
    "# pip install ipython\n",
    "\n",
    "# magic keyword\n",
    "%quickref"
   ]
  },
  {
   "cell_type": "code",
   "execution_count": 4,
   "id": "4486032c-a4a7-47c0-8e84-c4867ed06111",
   "metadata": {
    "tags": []
   },
   "outputs": [
    {
     "data": {
      "text/plain": [
       "\u001b[0;31mSignature:\u001b[0m \u001b[0mos\u001b[0m\u001b[0;34m.\u001b[0m\u001b[0mpath\u001b[0m\u001b[0;34m.\u001b[0m\u001b[0mjoin\u001b[0m\u001b[0;34m(\u001b[0m\u001b[0ma\u001b[0m\u001b[0;34m,\u001b[0m \u001b[0;34m*\u001b[0m\u001b[0mp\u001b[0m\u001b[0;34m)\u001b[0m\u001b[0;34m\u001b[0m\u001b[0;34m\u001b[0m\u001b[0m\n",
       "\u001b[0;31mDocstring:\u001b[0m\n",
       "Join two or more pathname components, inserting '/' as needed.\n",
       "If any component is an absolute path, all previous path components\n",
       "will be discarded.  An empty last part will result in a path that\n",
       "ends with a separator.\n",
       "\u001b[0;31mFile:\u001b[0m      ~/opt/anaconda3/lib/python3.8/posixpath.py\n",
       "\u001b[0;31mType:\u001b[0m      function\n"
      ]
     },
     "metadata": {},
     "output_type": "display_data"
    }
   ],
   "source": [
    "import os\n",
    "\n",
    "os.path.join?"
   ]
  },
  {
   "cell_type": "markdown",
   "id": "7daa3204-86df-403f-86ef-6185dc8584d5",
   "metadata": {},
   "source": [
    "# 220 contextlib.contextamanager"
   ]
  },
  {
   "cell_type": "code",
   "execution_count": 9,
   "id": "63ec6ab1-654a-4fe8-af95-0a6b4f13560c",
   "metadata": {},
   "outputs": [
    {
     "name": "stdout",
     "output_type": "stream",
     "text": [
      "<h2>\n",
      "test\n",
      "</h2>\n"
     ]
    }
   ],
   "source": [
    "# 데코레이터 패턴\n",
    "def tag(f):\n",
    "    def _wrapper(content):\n",
    "        print('<h2>')\n",
    "        r = f(content)\n",
    "        print('</h2>')\n",
    "        return r\n",
    "    return _wrapper\n",
    "\n",
    "@tag\n",
    "def f(content):\n",
    "    print(content)\n",
    "    \n",
    "\n",
    "f('test')"
   ]
  },
  {
   "cell_type": "code",
   "execution_count": 11,
   "id": "14be0dc3-2890-4bc6-8779-540c4599a849",
   "metadata": {},
   "outputs": [
    {
     "name": "stdout",
     "output_type": "stream",
     "text": [
      "<h2>\n",
      "test\n",
      "</h2>\n"
     ]
    }
   ],
   "source": [
    "def tag(name):\n",
    "    def _tag(f):\n",
    "        def _wrapper(content):\n",
    "            print(f'<{name}>')\n",
    "            r = f(content)\n",
    "            print(f'</{name}>')\n",
    "            return r\n",
    "        return _wrapper\n",
    "    return _tag\n",
    "\n",
    "@tag('h2')\n",
    "def f(content):\n",
    "    print(content)\n",
    "    \n",
    "\n",
    "f('test')"
   ]
  },
  {
   "cell_type": "code",
   "execution_count": 12,
   "id": "8077fb12-3044-4a7e-af7e-1dbcd858ceab",
   "metadata": {},
   "outputs": [
    {
     "name": "stdout",
     "output_type": "stream",
     "text": [
      "<h2>\n",
      "test\n",
      "</h2>\n"
     ]
    }
   ],
   "source": [
    "import contextlib\n",
    "\n",
    "@contextlib.contextmanager\n",
    "def tag(name):\n",
    "    print(f'<{name}>')\n",
    "    yield\n",
    "    print(f'</{name}>')\n",
    "\n",
    "    \n",
    "@tag('h2')\n",
    "def f(context):\n",
    "    print(context)\n",
    "    \n",
    "f('test')"
   ]
  },
  {
   "cell_type": "code",
   "execution_count": 18,
   "id": "269dad6a-fca3-4f7e-a3de-ce5629f28a7e",
   "metadata": {},
   "outputs": [
    {
     "name": "stdout",
     "output_type": "stream",
     "text": [
      "<h2>\n",
      "test\n",
      "<h5>\n",
      "test2\n",
      "</h5>\n",
      "</h2>\n"
     ]
    }
   ],
   "source": [
    "import contextlib\n",
    "\n",
    "@contextlib.contextmanager\n",
    "def tag(name):\n",
    "    print(f'<{name}>')\n",
    "    yield\n",
    "    print(f'</{name}>')\n",
    "\n",
    "\n",
    "def f():\n",
    "    with tag('h2'):\n",
    "        print('test')\n",
    "        with tag('h5'):\n",
    "            print('test2')\n",
    "\n",
    "f()"
   ]
  },
  {
   "cell_type": "markdown",
   "id": "46848907-ffad-4541-8db2-dc3575c831c1",
   "metadata": {},
   "source": [
    "# 221 contextlib.ContextDecorator"
   ]
  },
  {
   "cell_type": "code",
   "execution_count": 22,
   "id": "7576ff03-0aa7-4e35-bf1a-65cd0139137e",
   "metadata": {},
   "outputs": [
    {
     "name": "stdout",
     "output_type": "stream",
     "text": [
      "<h2>\n",
      "test\n",
      "</h2>\n"
     ]
    }
   ],
   "source": [
    "import contextlib\n",
    "\n",
    "# @contextlib.contextmanager\n",
    "# def tag(name):\n",
    "#     print(f'<{name}>')\n",
    "#     yield\n",
    "#     print(f'</{name}>')\n",
    "\n",
    "class tag(contextlib.ContextDecorator):\n",
    "    def __init__(self, name):\n",
    "        self.name = name\n",
    "        self.start_tag = f'<{name}>'\n",
    "        self.end_tag = f'</{name}>'\n",
    "        \n",
    "    def __enter__(self):\n",
    "        print(self.start_tag)\n",
    "        \n",
    "    def __exit__(self, exc_type, exc_val, exc_tb):\n",
    "#         print(exc_type)\n",
    "#         print(exc_val)\n",
    "#         print(exc_tb)\n",
    "        \n",
    "        print(self.end_tag)\n",
    "\n",
    "with tag('h2'):\n",
    "#     raise Exception('error')\n",
    "    print('test')"
   ]
  },
  {
   "cell_type": "markdown",
   "id": "d6ce9986-7c9d-424d-ad44-e8d09a52faf6",
   "metadata": {},
   "source": [
    "# 222. contextlib.suppress"
   ]
  },
  {
   "cell_type": "code",
   "execution_count": 24,
   "id": "e54b27d6-e7b5-4514-a1fd-63b20cfc4b5f",
   "metadata": {},
   "outputs": [],
   "source": [
    "import contextlib\n",
    "import os\n",
    "\n",
    "try:\n",
    "    os.remove('somefile.tmp')\n",
    "except FileNotFoundError:\n",
    "    pass"
   ]
  },
  {
   "cell_type": "code",
   "execution_count": 25,
   "id": "a7dd0c4c-9208-4b26-8a1d-136c675c777d",
   "metadata": {},
   "outputs": [],
   "source": [
    "import contextlib\n",
    "import os\n",
    "\n",
    "with contextlib.suppress(FileNotFoundError):\n",
    "    os.remove('somefile.tmp')"
   ]
  },
  {
   "attachments": {
    "19e88bbe-dd96-4661-aa0a-21eed1b3559c.png": {
     "image/png": "[encoded data removed]"
    }
   },
   "cell_type": "markdown",
   "id": "1eee5373-2316-472e-94e3-743eaf24412a",
   "metadata": {},
   "source": [
    "# 223 contextlib.redirect_stdout, contextlib.redirect_sterr\n",
    "\n",
    "![스크린샷 2021-09-27 오후 5.42.58.png](attachment:19e88bbe-dd96-4661-aa0a-21eed1b3559c.png)"
   ]
  },
  {
   "cell_type": "code",
   "execution_count": 29,
   "id": "d2b64359-5437-41eb-8aef-703d5fd37f22",
   "metadata": {},
   "outputs": [
    {
     "name": "stdin",
     "output_type": "stream",
     "text": [
      "Enter: test\n"
     ]
    },
    {
     "name": "stdout",
     "output_type": "stream",
     "text": [
      "test\n"
     ]
    }
   ],
   "source": [
    "import sys\n",
    "\n",
    "x = input('Enter:')\n",
    "print(x)\n",
    "\n",
    "# for line in sys.stdin:\n",
    "#     print(line)\n",
    "    "
   ]
  },
  {
   "cell_type": "code",
   "execution_count": 30,
   "id": "0a716552-c847-4deb-ab78-9d0cbbf276b0",
   "metadata": {},
   "outputs": [
    {
     "name": "stdout",
     "output_type": "stream",
     "text": [
      "hello\n",
      "hello"
     ]
    }
   ],
   "source": [
    "print('hello')\n",
    "\n",
    "sys.stdout.write('hello')"
   ]
  },
  {
   "cell_type": "code",
   "execution_count": 31,
   "id": "3acbca1d-e1fd-49d7-8458-b495c910f28e",
   "metadata": {},
   "outputs": [
    {
     "name": "stderr",
     "output_type": "stream",
     "text": [
      "ERROR:root:Error!\n",
      "Error!"
     ]
    }
   ],
   "source": [
    "import logging\n",
    "import sys\n",
    "\n",
    "logging.error('Error!')\n",
    "sys.stderr.write('Error!')"
   ]
  },
  {
   "cell_type": "code",
   "execution_count": 33,
   "id": "5343f78e-db1a-41cb-affd-88d4368fd160",
   "metadata": {},
   "outputs": [],
   "source": [
    "import contextlib\n",
    "\n",
    "with open('stdout.log', 'w') as f:\n",
    "    with contextlib.redirect_stdout(f):\n",
    "        print('hello')"
   ]
  },
  {
   "cell_type": "code",
   "execution_count": 34,
   "id": "376ebf02-67b3-428b-899f-255e22398c8e",
   "metadata": {},
   "outputs": [],
   "source": [
    "import contextlib\n",
    "\n",
    "with open('stdout.log', 'w') as f:\n",
    "    with contextlib.redirect_stdout(f):\n",
    "        help(sys.stdout)"
   ]
  },
  {
   "cell_type": "code",
   "execution_count": 36,
   "id": "f7b3b695-3e54-450e-8a17-31f43ed85689",
   "metadata": {},
   "outputs": [
    {
     "name": "stderr",
     "output_type": "stream",
     "text": [
      "ERROR:root:Error!\n"
     ]
    }
   ],
   "source": [
    "import contextlib\n",
    "\n",
    "# jupyter 에서 작동 안함\n",
    "with open('stderr.log', 'w') as f:\n",
    "    with contextlib.redirect_stderr(f):\n",
    "        logging.error('Error!')"
   ]
  },
  {
   "cell_type": "markdown",
   "id": "ba73512a-3a9e-4315-9d59-ed810db9253c",
   "metadata": {},
   "source": [
    "# 224. contextlib.ExitStack"
   ]
  },
  {
   "cell_type": "code",
   "execution_count": 48,
   "id": "77c12715-4ef9-44a7-ba1f-905fcedcc545",
   "metadata": {},
   "outputs": [
    {
     "name": "stdout",
     "output_type": "stream",
     "text": [
      "do something\n",
      "more task\n",
      "clean up\n"
     ]
    }
   ],
   "source": [
    "def is_ok_job():\n",
    "    try:\n",
    "        print('do something')\n",
    "        raise Exception('error')\n",
    "        return True\n",
    "    except Exception:\n",
    "        return False\n",
    "    \n",
    "def cleanup():\n",
    "    print('clean up')\n",
    "\n",
    "try:\n",
    "    is_ok = is_ok_job()\n",
    "    print('more task')\n",
    "finally:\n",
    "    if not is_ok:\n",
    "        cleanup()"
   ]
  },
  {
   "cell_type": "code",
   "execution_count": 47,
   "id": "d8a76eda-7500-4076-8877-dc903a868bad",
   "metadata": {},
   "outputs": [
    {
     "name": "stdout",
     "output_type": "stream",
     "text": [
      "do something\n",
      "more task\n",
      "clean up3\n",
      "clean up2\n",
      "clean up\n"
     ]
    }
   ],
   "source": [
    "import contextlib\n",
    "\n",
    "def is_ok_job():\n",
    "    try:\n",
    "        print('do something')\n",
    "        raise Exception('error')\n",
    "        return True\n",
    "    except Exception:\n",
    "        return False\n",
    "    \n",
    "def cleanup():\n",
    "    print('clean up')\n",
    "\n",
    "def cleanup2():\n",
    "    print('clean up2')\n",
    "\n",
    "\n",
    "with contextlib.ExitStack() as stack:\n",
    "    stack.callback(cleanup)\n",
    "    stack.callback(cleanup2)\n",
    "    \n",
    "    @stack.callback\n",
    "    def cleanup3():\n",
    "        print('clean up3')\n",
    "\n",
    "    is_ok = is_ok_job()\n",
    "    print('more task')\n",
    "\n",
    "#     if is_ok:\n",
    "#         stack.pop_all()\n"
   ]
  },
  {
   "cell_type": "markdown",
   "id": "d7286555-e78f-4645-b441-4e2e6c00a397",
   "metadata": {},
   "source": [
    "# 225 io 스트림"
   ]
  },
  {
   "cell_type": "code",
   "execution_count": 49,
   "id": "acd1fb6c-ac3a-41df-87d1-0e1be0be2f33",
   "metadata": {},
   "outputs": [
    {
     "name": "stdout",
     "output_type": "stream",
     "text": [
      "test test\n"
     ]
    }
   ],
   "source": [
    "with open('/tmp/a.txt', 'w') as f:\n",
    "    f. write('test test')\n",
    "    \n",
    "with open('/tmp/a.txt', 'r') as f:\n",
    "    print(f.read())\n",
    "    "
   ]
  },
  {
   "cell_type": "code",
   "execution_count": 50,
   "id": "ee975e68-5cb0-48a2-9258-47ac48e69e19",
   "metadata": {},
   "outputs": [
    {
     "name": "stdout",
     "output_type": "stream",
     "text": [
      "string io test\n"
     ]
    }
   ],
   "source": [
    "import io\n",
    "\n",
    "f = io.StringIO()\n",
    "f.write('string io test')\n",
    "f.seek(0)\n",
    "print(f.read())"
   ]
  },
  {
   "cell_type": "code",
   "execution_count": 53,
   "id": "7c320735-d949-48fc-be02-aaba1848809b",
   "metadata": {},
   "outputs": [
    {
     "name": "stdout",
     "output_type": "stream",
     "text": [
      "b'string io test'\n"
     ]
    }
   ],
   "source": [
    "import io\n",
    "\n",
    "f = io.BytesIO()\n",
    "f.write(b'string io test')\n",
    "f.seek(0)\n",
    "print(f.read())"
   ]
  },
  {
   "cell_type": "code",
   "execution_count": 70,
   "id": "3965df9b-5171-4b7b-87b1-d02943202b84",
   "metadata": {
    "collapsed": true,
    "jupyter": {
     "outputs_hidden": true
    },
    "tags": []
   },
   "outputs": [
    {
     "ename": "ReadError",
     "evalue": "empty file",
     "output_type": "error",
     "traceback": [
      "\u001b[0;31m---------------------------------------------------------------------------\u001b[0m",
      "\u001b[0;31mEmptyHeaderError\u001b[0m                          Traceback (most recent call last)",
      "\u001b[0;32m~/opt/anaconda3/lib/python3.8/tarfile.py\u001b[0m in \u001b[0;36mnext\u001b[0;34m(self)\u001b[0m\n\u001b[1;32m   2317\u001b[0m             \u001b[0;32mtry\u001b[0m\u001b[0;34m:\u001b[0m\u001b[0;34m\u001b[0m\u001b[0;34m\u001b[0m\u001b[0m\n\u001b[0;32m-> 2318\u001b[0;31m                 \u001b[0mtarinfo\u001b[0m \u001b[0;34m=\u001b[0m \u001b[0mself\u001b[0m\u001b[0;34m.\u001b[0m\u001b[0mtarinfo\u001b[0m\u001b[0;34m.\u001b[0m\u001b[0mfromtarfile\u001b[0m\u001b[0;34m(\u001b[0m\u001b[0mself\u001b[0m\u001b[0;34m)\u001b[0m\u001b[0;34m\u001b[0m\u001b[0;34m\u001b[0m\u001b[0m\n\u001b[0m\u001b[1;32m   2319\u001b[0m             \u001b[0;32mexcept\u001b[0m \u001b[0mEOFHeaderError\u001b[0m \u001b[0;32mas\u001b[0m \u001b[0me\u001b[0m\u001b[0;34m:\u001b[0m\u001b[0;34m\u001b[0m\u001b[0;34m\u001b[0m\u001b[0m\n",
      "\u001b[0;32m~/opt/anaconda3/lib/python3.8/tarfile.py\u001b[0m in \u001b[0;36mfromtarfile\u001b[0;34m(cls, tarfile)\u001b[0m\n\u001b[1;32m   1104\u001b[0m         \u001b[0mbuf\u001b[0m \u001b[0;34m=\u001b[0m \u001b[0mtarfile\u001b[0m\u001b[0;34m.\u001b[0m\u001b[0mfileobj\u001b[0m\u001b[0;34m.\u001b[0m\u001b[0mread\u001b[0m\u001b[0;34m(\u001b[0m\u001b[0mBLOCKSIZE\u001b[0m\u001b[0;34m)\u001b[0m\u001b[0;34m\u001b[0m\u001b[0;34m\u001b[0m\u001b[0m\n\u001b[0;32m-> 1105\u001b[0;31m         \u001b[0mobj\u001b[0m \u001b[0;34m=\u001b[0m \u001b[0mcls\u001b[0m\u001b[0;34m.\u001b[0m\u001b[0mfrombuf\u001b[0m\u001b[0;34m(\u001b[0m\u001b[0mbuf\u001b[0m\u001b[0;34m,\u001b[0m \u001b[0mtarfile\u001b[0m\u001b[0;34m.\u001b[0m\u001b[0mencoding\u001b[0m\u001b[0;34m,\u001b[0m \u001b[0mtarfile\u001b[0m\u001b[0;34m.\u001b[0m\u001b[0merrors\u001b[0m\u001b[0;34m)\u001b[0m\u001b[0;34m\u001b[0m\u001b[0;34m\u001b[0m\u001b[0m\n\u001b[0m\u001b[1;32m   1106\u001b[0m         \u001b[0mobj\u001b[0m\u001b[0;34m.\u001b[0m\u001b[0moffset\u001b[0m \u001b[0;34m=\u001b[0m \u001b[0mtarfile\u001b[0m\u001b[0;34m.\u001b[0m\u001b[0mfileobj\u001b[0m\u001b[0;34m.\u001b[0m\u001b[0mtell\u001b[0m\u001b[0;34m(\u001b[0m\u001b[0;34m)\u001b[0m \u001b[0;34m-\u001b[0m \u001b[0mBLOCKSIZE\u001b[0m\u001b[0;34m\u001b[0m\u001b[0;34m\u001b[0m\u001b[0m\n",
      "\u001b[0;32m~/opt/anaconda3/lib/python3.8/tarfile.py\u001b[0m in \u001b[0;36mfrombuf\u001b[0;34m(cls, buf, encoding, errors)\u001b[0m\n\u001b[1;32m   1040\u001b[0m         \u001b[0;32mif\u001b[0m \u001b[0mlen\u001b[0m\u001b[0;34m(\u001b[0m\u001b[0mbuf\u001b[0m\u001b[0;34m)\u001b[0m \u001b[0;34m==\u001b[0m \u001b[0;36m0\u001b[0m\u001b[0;34m:\u001b[0m\u001b[0;34m\u001b[0m\u001b[0;34m\u001b[0m\u001b[0m\n\u001b[0;32m-> 1041\u001b[0;31m             \u001b[0;32mraise\u001b[0m \u001b[0mEmptyHeaderError\u001b[0m\u001b[0;34m(\u001b[0m\u001b[0;34m\"empty header\"\u001b[0m\u001b[0;34m)\u001b[0m\u001b[0;34m\u001b[0m\u001b[0;34m\u001b[0m\u001b[0m\n\u001b[0m\u001b[1;32m   1042\u001b[0m         \u001b[0;32mif\u001b[0m \u001b[0mlen\u001b[0m\u001b[0;34m(\u001b[0m\u001b[0mbuf\u001b[0m\u001b[0;34m)\u001b[0m \u001b[0;34m!=\u001b[0m \u001b[0mBLOCKSIZE\u001b[0m\u001b[0;34m:\u001b[0m\u001b[0;34m\u001b[0m\u001b[0;34m\u001b[0m\u001b[0m\n",
      "\u001b[0;31mEmptyHeaderError\u001b[0m: empty header",
      "\nDuring handling of the above exception, another exception occurred:\n",
      "\u001b[0;31mReadError\u001b[0m                                 Traceback (most recent call last)",
      "\u001b[0;32m<ipython-input-70-b02fb389404a>\u001b[0m in \u001b[0;36m<module>\u001b[0;34m\u001b[0m\n\u001b[1;32m     10\u001b[0m \u001b[0mf\u001b[0m\u001b[0;34m.\u001b[0m\u001b[0mwrite\u001b[0m\u001b[0;34m(\u001b[0m\u001b[0mr\u001b[0m\u001b[0;34m.\u001b[0m\u001b[0mcontent\u001b[0m\u001b[0;34m)\u001b[0m\u001b[0;34m\u001b[0m\u001b[0;34m\u001b[0m\u001b[0m\n\u001b[1;32m     11\u001b[0m \u001b[0;34m\u001b[0m\u001b[0m\n\u001b[0;32m---> 12\u001b[0;31m \u001b[0;32mwith\u001b[0m \u001b[0mtarfile\u001b[0m\u001b[0;34m.\u001b[0m\u001b[0mopen\u001b[0m\u001b[0;34m(\u001b[0m\u001b[0mfileobj\u001b[0m\u001b[0;34m=\u001b[0m\u001b[0mf\u001b[0m\u001b[0;34m,\u001b[0m \u001b[0mmode\u001b[0m\u001b[0;34m=\u001b[0m\u001b[0;34m'r:gz'\u001b[0m\u001b[0;34m)\u001b[0m \u001b[0;32mas\u001b[0m \u001b[0mtar\u001b[0m\u001b[0;34m:\u001b[0m\u001b[0;34m\u001b[0m\u001b[0;34m\u001b[0m\u001b[0m\n\u001b[0m\u001b[1;32m     13\u001b[0m     \u001b[0mprint\u001b[0m\u001b[0;34m(\u001b[0m\u001b[0mtar\u001b[0m\u001b[0;34m.\u001b[0m\u001b[0mgetmembers\u001b[0m\u001b[0;34m(\u001b[0m\u001b[0;34m)\u001b[0m\u001b[0;34m)\u001b[0m\u001b[0;34m\u001b[0m\u001b[0;34m\u001b[0m\u001b[0m\n\u001b[1;32m     14\u001b[0m \u001b[0;31m#     with tar.open('setuptools-58.1.0/README.rst') as r:\u001b[0m\u001b[0;34m\u001b[0m\u001b[0;34m\u001b[0m\u001b[0;34m\u001b[0m\u001b[0m\n",
      "\u001b[0;32m~/opt/anaconda3/lib/python3.8/tarfile.py\u001b[0m in \u001b[0;36mopen\u001b[0;34m(cls, name, mode, fileobj, bufsize, **kwargs)\u001b[0m\n\u001b[1;32m   1619\u001b[0m             \u001b[0;32melse\u001b[0m\u001b[0;34m:\u001b[0m\u001b[0;34m\u001b[0m\u001b[0;34m\u001b[0m\u001b[0m\n\u001b[1;32m   1620\u001b[0m                 \u001b[0;32mraise\u001b[0m \u001b[0mCompressionError\u001b[0m\u001b[0;34m(\u001b[0m\u001b[0;34m\"unknown compression type %r\"\u001b[0m \u001b[0;34m%\u001b[0m \u001b[0mcomptype\u001b[0m\u001b[0;34m)\u001b[0m\u001b[0;34m\u001b[0m\u001b[0;34m\u001b[0m\u001b[0m\n\u001b[0;32m-> 1621\u001b[0;31m             \u001b[0;32mreturn\u001b[0m \u001b[0mfunc\u001b[0m\u001b[0;34m(\u001b[0m\u001b[0mname\u001b[0m\u001b[0;34m,\u001b[0m \u001b[0mfilemode\u001b[0m\u001b[0;34m,\u001b[0m \u001b[0mfileobj\u001b[0m\u001b[0;34m,\u001b[0m \u001b[0;34m**\u001b[0m\u001b[0mkwargs\u001b[0m\u001b[0;34m)\u001b[0m\u001b[0;34m\u001b[0m\u001b[0;34m\u001b[0m\u001b[0m\n\u001b[0m\u001b[1;32m   1622\u001b[0m \u001b[0;34m\u001b[0m\u001b[0m\n\u001b[1;32m   1623\u001b[0m         \u001b[0;32melif\u001b[0m \u001b[0;34m\"|\"\u001b[0m \u001b[0;32min\u001b[0m \u001b[0mmode\u001b[0m\u001b[0;34m:\u001b[0m\u001b[0;34m\u001b[0m\u001b[0;34m\u001b[0m\u001b[0m\n",
      "\u001b[0;32m~/opt/anaconda3/lib/python3.8/tarfile.py\u001b[0m in \u001b[0;36mgzopen\u001b[0;34m(cls, name, mode, fileobj, compresslevel, **kwargs)\u001b[0m\n\u001b[1;32m   1672\u001b[0m \u001b[0;34m\u001b[0m\u001b[0m\n\u001b[1;32m   1673\u001b[0m         \u001b[0;32mtry\u001b[0m\u001b[0;34m:\u001b[0m\u001b[0;34m\u001b[0m\u001b[0;34m\u001b[0m\u001b[0m\n\u001b[0;32m-> 1674\u001b[0;31m             \u001b[0mt\u001b[0m \u001b[0;34m=\u001b[0m \u001b[0mcls\u001b[0m\u001b[0;34m.\u001b[0m\u001b[0mtaropen\u001b[0m\u001b[0;34m(\u001b[0m\u001b[0mname\u001b[0m\u001b[0;34m,\u001b[0m \u001b[0mmode\u001b[0m\u001b[0;34m,\u001b[0m \u001b[0mfileobj\u001b[0m\u001b[0;34m,\u001b[0m \u001b[0;34m**\u001b[0m\u001b[0mkwargs\u001b[0m\u001b[0;34m)\u001b[0m\u001b[0;34m\u001b[0m\u001b[0;34m\u001b[0m\u001b[0m\n\u001b[0m\u001b[1;32m   1675\u001b[0m         \u001b[0;32mexcept\u001b[0m \u001b[0mOSError\u001b[0m\u001b[0;34m:\u001b[0m\u001b[0;34m\u001b[0m\u001b[0;34m\u001b[0m\u001b[0m\n\u001b[1;32m   1676\u001b[0m             \u001b[0mfileobj\u001b[0m\u001b[0;34m.\u001b[0m\u001b[0mclose\u001b[0m\u001b[0;34m(\u001b[0m\u001b[0;34m)\u001b[0m\u001b[0;34m\u001b[0m\u001b[0;34m\u001b[0m\u001b[0m\n",
      "\u001b[0;32m~/opt/anaconda3/lib/python3.8/tarfile.py\u001b[0m in \u001b[0;36mtaropen\u001b[0;34m(cls, name, mode, fileobj, **kwargs)\u001b[0m\n\u001b[1;32m   1649\u001b[0m         \u001b[0;32mif\u001b[0m \u001b[0mmode\u001b[0m \u001b[0;32mnot\u001b[0m \u001b[0;32min\u001b[0m \u001b[0;34m(\u001b[0m\u001b[0;34m\"r\"\u001b[0m\u001b[0;34m,\u001b[0m \u001b[0;34m\"a\"\u001b[0m\u001b[0;34m,\u001b[0m \u001b[0;34m\"w\"\u001b[0m\u001b[0;34m,\u001b[0m \u001b[0;34m\"x\"\u001b[0m\u001b[0;34m)\u001b[0m\u001b[0;34m:\u001b[0m\u001b[0;34m\u001b[0m\u001b[0;34m\u001b[0m\u001b[0m\n\u001b[1;32m   1650\u001b[0m             \u001b[0;32mraise\u001b[0m \u001b[0mValueError\u001b[0m\u001b[0;34m(\u001b[0m\u001b[0;34m\"mode must be 'r', 'a', 'w' or 'x'\"\u001b[0m\u001b[0;34m)\u001b[0m\u001b[0;34m\u001b[0m\u001b[0;34m\u001b[0m\u001b[0m\n\u001b[0;32m-> 1651\u001b[0;31m         \u001b[0;32mreturn\u001b[0m \u001b[0mcls\u001b[0m\u001b[0;34m(\u001b[0m\u001b[0mname\u001b[0m\u001b[0;34m,\u001b[0m \u001b[0mmode\u001b[0m\u001b[0;34m,\u001b[0m \u001b[0mfileobj\u001b[0m\u001b[0;34m,\u001b[0m \u001b[0;34m**\u001b[0m\u001b[0mkwargs\u001b[0m\u001b[0;34m)\u001b[0m\u001b[0;34m\u001b[0m\u001b[0;34m\u001b[0m\u001b[0m\n\u001b[0m\u001b[1;32m   1652\u001b[0m \u001b[0;34m\u001b[0m\u001b[0m\n\u001b[1;32m   1653\u001b[0m     \u001b[0;34m@\u001b[0m\u001b[0mclassmethod\u001b[0m\u001b[0;34m\u001b[0m\u001b[0;34m\u001b[0m\u001b[0m\n",
      "\u001b[0;32m~/opt/anaconda3/lib/python3.8/tarfile.py\u001b[0m in \u001b[0;36m__init__\u001b[0;34m(self, name, mode, fileobj, format, tarinfo, dereference, ignore_zeros, encoding, errors, pax_headers, debug, errorlevel, copybufsize)\u001b[0m\n\u001b[1;32m   1512\u001b[0m             \u001b[0;32mif\u001b[0m \u001b[0mself\u001b[0m\u001b[0;34m.\u001b[0m\u001b[0mmode\u001b[0m \u001b[0;34m==\u001b[0m \u001b[0;34m\"r\"\u001b[0m\u001b[0;34m:\u001b[0m\u001b[0;34m\u001b[0m\u001b[0;34m\u001b[0m\u001b[0m\n\u001b[1;32m   1513\u001b[0m                 \u001b[0mself\u001b[0m\u001b[0;34m.\u001b[0m\u001b[0mfirstmember\u001b[0m \u001b[0;34m=\u001b[0m \u001b[0;32mNone\u001b[0m\u001b[0;34m\u001b[0m\u001b[0;34m\u001b[0m\u001b[0m\n\u001b[0;32m-> 1514\u001b[0;31m                 \u001b[0mself\u001b[0m\u001b[0;34m.\u001b[0m\u001b[0mfirstmember\u001b[0m \u001b[0;34m=\u001b[0m \u001b[0mself\u001b[0m\u001b[0;34m.\u001b[0m\u001b[0mnext\u001b[0m\u001b[0;34m(\u001b[0m\u001b[0;34m)\u001b[0m\u001b[0;34m\u001b[0m\u001b[0;34m\u001b[0m\u001b[0m\n\u001b[0m\u001b[1;32m   1515\u001b[0m \u001b[0;34m\u001b[0m\u001b[0m\n\u001b[1;32m   1516\u001b[0m             \u001b[0;32mif\u001b[0m \u001b[0mself\u001b[0m\u001b[0;34m.\u001b[0m\u001b[0mmode\u001b[0m \u001b[0;34m==\u001b[0m \u001b[0;34m\"a\"\u001b[0m\u001b[0;34m:\u001b[0m\u001b[0;34m\u001b[0m\u001b[0;34m\u001b[0m\u001b[0m\n",
      "\u001b[0;32m~/opt/anaconda3/lib/python3.8/tarfile.py\u001b[0m in \u001b[0;36mnext\u001b[0;34m(self)\u001b[0m\n\u001b[1;32m   2331\u001b[0m             \u001b[0;32mexcept\u001b[0m \u001b[0mEmptyHeaderError\u001b[0m\u001b[0;34m:\u001b[0m\u001b[0;34m\u001b[0m\u001b[0;34m\u001b[0m\u001b[0m\n\u001b[1;32m   2332\u001b[0m                 \u001b[0;32mif\u001b[0m \u001b[0mself\u001b[0m\u001b[0;34m.\u001b[0m\u001b[0moffset\u001b[0m \u001b[0;34m==\u001b[0m \u001b[0;36m0\u001b[0m\u001b[0;34m:\u001b[0m\u001b[0;34m\u001b[0m\u001b[0;34m\u001b[0m\u001b[0m\n\u001b[0;32m-> 2333\u001b[0;31m                     \u001b[0;32mraise\u001b[0m \u001b[0mReadError\u001b[0m\u001b[0;34m(\u001b[0m\u001b[0;34m\"empty file\"\u001b[0m\u001b[0;34m)\u001b[0m\u001b[0;34m\u001b[0m\u001b[0;34m\u001b[0m\u001b[0m\n\u001b[0m\u001b[1;32m   2334\u001b[0m             \u001b[0;32mexcept\u001b[0m \u001b[0mTruncatedHeaderError\u001b[0m \u001b[0;32mas\u001b[0m \u001b[0me\u001b[0m\u001b[0;34m:\u001b[0m\u001b[0;34m\u001b[0m\u001b[0;34m\u001b[0m\u001b[0m\n\u001b[1;32m   2335\u001b[0m                 \u001b[0;32mif\u001b[0m \u001b[0mself\u001b[0m\u001b[0;34m.\u001b[0m\u001b[0moffset\u001b[0m \u001b[0;34m==\u001b[0m \u001b[0;36m0\u001b[0m\u001b[0;34m:\u001b[0m\u001b[0;34m\u001b[0m\u001b[0;34m\u001b[0m\u001b[0m\n",
      "\u001b[0;31mReadError\u001b[0m: empty file"
     ]
    }
   ],
   "source": [
    "import io\n",
    "import requests\n",
    "import tarfile\n",
    "import zipfile\n",
    "\n",
    "url = 'https://files.pythonhosted.org/packages/59/b8/adeb445fa6c636f78c532f0dd6f847f0f90e709afa7d41396181d438be5a/setuptools-58.1.0.tar.gz'\n",
    "\n",
    "f = io.BytesIO()\n",
    "r = requests.get(url)\n",
    "f.write(r.content)\n",
    "\n",
    "# Error 발생 Empty?\n",
    "with tarfile.open(fileobj=f, mode='r:gz') as tar:\n",
    "    print(tar.getmembers())\n",
    "#     with tar.open('setuptools-58.1.0/README.rst') as r:\n",
    "#         print(r.read().decode())\n",
    "    \n",
    "\n",
    "# 에시는 Zip 파일\n",
    "# with zipfile.ZipFile(f) as z:\n",
    "#     with z.open('setuptools-58.1.0/README.rst') as r:\n",
    "#         print(r.read().decode())\n"
   ]
  },
  {
   "cell_type": "markdown",
   "id": "d49df91f-4c8c-4219-9ae7-a5fe90ce7144",
   "metadata": {},
   "source": [
    "# 226 collections.ChainMap : 복잡한 Dict 다룰때"
   ]
  },
  {
   "cell_type": "code",
   "execution_count": 73,
   "id": "6f8076b4-ef48-4e74-b3a8-9396b9d1d50f",
   "metadata": {},
   "outputs": [
    {
     "name": "stdout",
     "output_type": "stream",
     "text": [
      "{'a': 'a', 'c': 'c', 'num': 0}\n",
      "{'a': 'a', 'c': 'cc', 'num': 0, 'b': 'b'}\n",
      "{'a': 'a', 'c': 'ccc', 'num': 0, 'b': 'bbb'}\n"
     ]
    }
   ],
   "source": [
    "a = {'a': 'a', 'c':'c', 'num':0}\n",
    "b = {'b': 'b', 'c':'cc'}\n",
    "c = {'b': 'bbb', 'c': 'ccc'}\n",
    "\n",
    "print(a)\n",
    "a.update(b)\n",
    "print(a)\n",
    "a.update(c)\n",
    "print(a)"
   ]
  },
  {
   "cell_type": "code",
   "execution_count": 84,
   "id": "59720a74-92f1-4f5a-9d8d-35df9e096ce8",
   "metadata": {},
   "outputs": [
    {
     "name": "stdout",
     "output_type": "stream",
     "text": [
      "ChainMap({'a': 'a', 'c': 'c', 'num': 0}, {'b': 'b', 'c': 'cc'}, {'b': 'bbb', 'c': 'ccc'})\n",
      "[{'a': 'a', 'c': 'c', 'num': 0}, {'b': 'b', 'c': 'cc'}, {'b': 'bbb', 'c': 'ccc'}]\n",
      "c\n",
      "[{'b': 'bbb', 'c': 'ccc'}, {'b': 'b', 'c': 'cc'}, {'a': 'a', 'c': 'c', 'num': 0}]\n",
      "ccc\n",
      "[{'c': 'ccccc'}, {'b': 'bbb', 'c': 'ccc'}, {'b': 'b', 'c': 'cc'}, {'a': 'a', 'c': 'c', 'num': 0}]\n",
      "ccccc\n",
      "[{'b': 'bbb', 'c': 'ccc'}, {'b': 'b', 'c': 'cc'}, {'a': 'a', 'c': 'c', 'num': 0}]\n",
      "ccc\n",
      "[{'b': 'BBBBBB', 'c': 'ccc'}, {'b': 'b', 'c': 'cc'}, {'a': 'a', 'c': 'c', 'num': 0}]\n"
     ]
    }
   ],
   "source": [
    "import collections\n",
    "\n",
    "a = {'a': 'a', 'c':'c', 'num':0}\n",
    "b = {'b': 'b', 'c':'cc'}\n",
    "c = {'b': 'bbb', 'c': 'ccc'}\n",
    "\n",
    "m = collections.ChainMap(a, b, c)\n",
    "print(m)\n",
    "print(m.maps)\n",
    "print(m['c'])\n",
    "m.maps.reverse()\n",
    "print(m.maps)\n",
    "print(m['c'])\n",
    "m.maps.insert(0, {'c':'ccccc'})\n",
    "print(m.maps)\n",
    "print(m['c'])\n",
    "del m.maps[0]\n",
    "print(m.maps)\n",
    "print(m['c'])\n",
    "m['b'] = 'BBBBBB'\n",
    "print(m.maps)"
   ]
  },
  {
   "cell_type": "code",
   "execution_count": 90,
   "id": "0084b696-37be-461e-a2c3-2a96f30caeba",
   "metadata": {},
   "outputs": [
    {
     "name": "stdout",
     "output_type": "stream",
     "text": [
      "0\n",
      "1\n"
     ]
    }
   ],
   "source": [
    "import collections\n",
    "\n",
    "a = {'a': 'a', 'c':'c', 'num':0}\n",
    "b = {'b': 'b', 'c':'cc'}\n",
    "c = {'b': 'bbb', 'c': 'ccc'}\n",
    "\n",
    "class DeepChainMap(collections.ChainMap):\n",
    "    def __setitem__(self, key, value):\n",
    "        for mapping in self.maps:\n",
    "            if key in mapping:\n",
    "                if type(mapping[key]) is int and mapping[key] < value:\n",
    "                    mapping[key] = value\n",
    "                return\n",
    "        self.maps[0][key] = value\n",
    "        \n",
    "m = DeepChainMap(a, b, c)\n",
    "m['num'] = -1\n",
    "print(m['num'])\n",
    "\n",
    "m['newnum'] = 1\n",
    "print(m['newnum'])\n"
   ]
  },
  {
   "cell_type": "markdown",
   "id": "8c288a5c-7457-40a4-8438-96abb53cd10b",
   "metadata": {},
   "source": [
    "# 227 collections.defaultdict"
   ]
  },
  {
   "cell_type": "code",
   "execution_count": 2,
   "id": "5c457c5e-9d39-4510-9c04-0116330533c4",
   "metadata": {},
   "outputs": [
    {
     "name": "stdout",
     "output_type": "stream",
     "text": [
      "{'a': 3, 'b': 2, 'c': 1}\n"
     ]
    }
   ],
   "source": [
    "d = {}\n",
    "l = ['a', 'a', 'a', 'b', 'b', 'c']\n",
    "for word in l:\n",
    "    if word not in d:\n",
    "        d[word] = 0\n",
    "    d[word] += 1\n",
    "print(d)"
   ]
  },
  {
   "cell_type": "code",
   "execution_count": 5,
   "id": "49c8da65-fb05-4f17-949d-50d8ee5c1f67",
   "metadata": {},
   "outputs": [
    {
     "name": "stdout",
     "output_type": "stream",
     "text": [
      "{'a': 6, 'b': 4, 'c': 2}\n"
     ]
    }
   ],
   "source": [
    "l = ['a', 'a', 'a', 'b', 'b', 'c']\n",
    "for word in l:\n",
    "    d.setdefault(word, 0)\n",
    "    d[word] += 1\n",
    "\n",
    "print(d)"
   ]
  },
  {
   "cell_type": "code",
   "execution_count": 6,
   "id": "e367a094-5b4d-4d87-85c8-561a1b5aaf15",
   "metadata": {},
   "outputs": [
    {
     "name": "stdout",
     "output_type": "stream",
     "text": [
      "defaultdict(<class 'int'>, {'a': 3, 'b': 2, 'c': 1})\n"
     ]
    }
   ],
   "source": [
    "import collections\n",
    "\n",
    "d = collections.defaultdict(int)\n",
    "l = ['a', 'a', 'a', 'b', 'b', 'c']\n",
    "for word in l:\n",
    "    d[word] += 1\n",
    "print(d)"
   ]
  },
  {
   "cell_type": "code",
   "execution_count": 8,
   "id": "abc82f8d-c8ec-4bf9-b454-08b02b68db93",
   "metadata": {},
   "outputs": [
    {
     "name": "stdout",
     "output_type": "stream",
     "text": [
      "defaultdict(<class 'set'>, {'red': {1, 3}, 'blue': {2, 4}})\n"
     ]
    }
   ],
   "source": [
    "import collections\n",
    "\n",
    "d = collections.defaultdict(set)\n",
    "s = [('red', 1), ('blue', 2), ('red', 3), ('blue', 4),\n",
    "     ('red', 1), ('blue', 4)]\n",
    "for k, v in s:\n",
    "    d[k].add(v)\n",
    "\n",
    "print(d)"
   ]
  },
  {
   "cell_type": "markdown",
   "id": "f66f5004-e380-4711-9520-4229311bad67",
   "metadata": {},
   "source": [
    "# 228 collections.Counter"
   ]
  },
  {
   "cell_type": "code",
   "execution_count": 11,
   "id": "7ab59ff8-4c30-4a0a-bd79-c90a3f6240eb",
   "metadata": {},
   "outputs": [
    {
     "name": "stdout",
     "output_type": "stream",
     "text": [
      "Counter({'a': 3, 'b': 2, 'c': 1})\n",
      "[('a', 3), ('b', 2)]\n",
      "dict_values([3, 2, 1])\n",
      "6\n"
     ]
    }
   ],
   "source": [
    "l = ['a', 'a', 'a', 'b', 'b', 'c']\n",
    "c = collections.Counter()\n",
    "for word in l:\n",
    "    c[word] += 1\n",
    "print(c)\n",
    "print(c.most_common(2))\n",
    "print(c.values())\n",
    "print(sum(c.values()))"
   ]
  },
  {
   "cell_type": "code",
   "execution_count": 14,
   "id": "6e6c2229-9d94-4203-91e9-0c60b00a9892",
   "metadata": {},
   "outputs": [
    {
     "name": "stdout",
     "output_type": "stream",
     "text": [
      "[('id', 2), ('name', 2), ('employee', 1), ('111', 1), ('mike', 1), ('222', 1), ('nancy', 1)]\n"
     ]
    }
   ],
   "source": [
    "import re\n",
    "\n",
    "with open('test.json', 'r') as f:\n",
    "    words = re.findall(r'\\w+', f.read().lower())\n",
    "    print(collections.Counter(words).most_common(20))"
   ]
  },
  {
   "cell_type": "markdown",
   "id": "95012f83-f8b5-48d4-afe6-9bed41054717",
   "metadata": {},
   "source": [
    "# 229 collections.deque"
   ]
  },
  {
   "cell_type": "code",
   "execution_count": 18,
   "id": "bf0a140f-c442-4c31-a13b-80d6132e0ed7",
   "metadata": {},
   "outputs": [
    {
     "name": "stdout",
     "output_type": "stream",
     "text": [
      "FIFO queue = 0\n",
      "LIFO queue = 2\n",
      "list.      = 0\n",
      "deque.     = 0\n",
      "\n",
      "FIFO queue = 1\n",
      "LIFO queue = 1\n",
      "list.      = 1\n",
      "deque.     = 1\n",
      "\n",
      "FIFO queue = 2\n",
      "LIFO queue = 0\n",
      "list.      = 2\n",
      "deque.     = 2\n",
      "\n"
     ]
    }
   ],
   "source": [
    "import collections\n",
    "import queue\n",
    "\n",
    "# Double-end queue\n",
    "collections.deque\n",
    "\n",
    "q = queue.Queue()\n",
    "lq = queue.LifoQueue() # [1, 2, 3]\n",
    "l = []\n",
    "d = collections.deque() # \n",
    "\n",
    "for i in range(3):\n",
    "    q.put(i)\n",
    "    lq.put(i)\n",
    "    l.append(i)\n",
    "    d.append(i)\n",
    "    \n",
    "for _ in range(3):\n",
    "    print(f'FIFO queue = {q.get()}')\n",
    "    print(f'LIFO queue = {lq.get()}')\n",
    "    print(f'list.      = {l.pop(0)}')\n",
    "    print(f'deque.     = {d.popleft()}')\n",
    "    print()"
   ]
  },
  {
   "cell_type": "code",
   "execution_count": 23,
   "id": "c7843cec-6dd4-42ee-8deb-38b5d22d9c40",
   "metadata": {},
   "outputs": [
    {
     "name": "stdout",
     "output_type": "stream",
     "text": [
      "deque([0, 1, 2])\n",
      "deque([2, 0, 1])\n",
      "deque([1, 2, 0])\n",
      "deque([0, 1, 2])\n",
      "deque(['x', 0, 1, 2])\n",
      "deque([])\n"
     ]
    }
   ],
   "source": [
    "import collections\n",
    "import queue\n",
    "\n",
    "# Double-end queue\n",
    "collections.deque\n",
    "d = collections.deque() # \n",
    "\n",
    "for i in range(3):\n",
    "    d.append(i)\n",
    "\n",
    "\n",
    "print(d)\n",
    "d.rotate()\n",
    "print(d)\n",
    "d.rotate()\n",
    "print(d)\n",
    "d.rotate()\n",
    "print(d)\n",
    "\n",
    "d.extendleft('x')\n",
    "print(d)\n",
    "\n",
    "d.clear()\n",
    "print(d)"
   ]
  },
  {
   "cell_type": "markdown",
   "id": "31e8be43-fa47-4a10-a0c5-385fc315acd1",
   "metadata": {},
   "source": [
    "# 230 collections.namedtutple"
   ]
  },
  {
   "cell_type": "code",
   "execution_count": 28,
   "id": "1f47c334-6a48-4599-a189-e2d2bd17e196",
   "metadata": {},
   "outputs": [
    {
     "name": "stdout",
     "output_type": "stream",
     "text": [
      "10\n"
     ]
    }
   ],
   "source": [
    "p = (10, 20)\n",
    "print(p[0])\n",
    "# p[0] = 100 error"
   ]
  },
  {
   "cell_type": "code",
   "execution_count": 30,
   "id": "d19d9acd-d6ec-4baf-9055-7a1527e408a9",
   "metadata": {},
   "outputs": [
    {
     "name": "stdout",
     "output_type": "stream",
     "text": [
      "10\n"
     ]
    }
   ],
   "source": [
    "class Point(object):\n",
    "    def __init__(self, x, y):\n",
    "        self.x = x\n",
    "        self.y = y\n",
    "\n",
    "p = Point(10, 20)\n",
    "print(p.x)"
   ]
  },
  {
   "cell_type": "code",
   "execution_count": 38,
   "id": "2984fd21-0c2f-4a0d-a50f-5530c01bb3a6",
   "metadata": {},
   "outputs": [
    {
     "name": "stdout",
     "output_type": "stream",
     "text": [
      "10\n",
      "Point(x=100, y=200)\n",
      "{'x': 100, 'y': 200}\n",
      "Point(x=100, y=200)\n",
      "Point(x=500, y=200)\n"
     ]
    }
   ],
   "source": [
    "Point = collections.namedtuple('Point', ['x', 'y'])\n",
    "p = Point(10, y = 20)\n",
    "print(p.x)\n",
    "# p.x = 100 Error\n",
    "\n",
    "p1 = Point._make([100, 200])\n",
    "print(p1)\n",
    "print(p1._asdict())\n",
    "\n",
    "p1._replace(x=500)\n",
    "print(p1)\n",
    "p2 = p1._replace(x=500)\n",
    "print(p2)"
   ]
  },
  {
   "cell_type": "code",
   "execution_count": 41,
   "id": "44ea3208-11ac-40ef-8091-b56f76a013d7",
   "metadata": {},
   "outputs": [
    {
     "name": "stdout",
     "output_type": "stream",
     "text": [
      "2 3 5\n"
     ]
    }
   ],
   "source": [
    "class SumPoint(collections.namedtuple('Point', ['x', 'y'])):\n",
    "    @property\n",
    "    def total(self):\n",
    "        return self.x + self.y\n",
    "\n",
    "p3 = SumPoint(2, 3)\n",
    "print(p3.x, p3.y, p3.total)"
   ]
  },
  {
   "cell_type": "code",
   "execution_count": 42,
   "id": "b8098bac-e0fb-42e9-be3c-9b53283b1b9c",
   "metadata": {},
   "outputs": [],
   "source": [
    "import csv\n",
    "import collections\n",
    "\n",
    "with open('names.csv', 'w') as csvfile:\n",
    "    fieldnames = ['first', 'last', 'address']\n",
    "    writer = csv.DictWriter(csvfile, fieldnames= fieldnames)\n",
    "    writer.writeheader()\n",
    "    writer.writerow({'first':'Mike', 'last':'Jackson', 'address':'A'})\n",
    "    writer.writerow({'first':'Jun', 'last':'Sakai', 'address':'B'})\n",
    "    writer.writerow({'first':'Nancy', 'last':'Mask', 'address':'C'})"
   ]
  },
  {
   "cell_type": "code",
   "execution_count": 44,
   "id": "14d8f1b5-7b6a-434d-81d2-e1a09fde4cdb",
   "metadata": {},
   "outputs": [
    {
     "name": "stdout",
     "output_type": "stream",
     "text": [
      "Mike Jackson A\n",
      "Jun Sakai B\n",
      "Nancy Mask C\n"
     ]
    }
   ],
   "source": [
    "with open('names.csv', 'r') as f:\n",
    "    csv_reader = csv.reader(f)\n",
    "    Names = collections.namedtuple('Names', next(csv_reader))\n",
    "    for row in csv_reader:\n",
    "        names = Names._make(row)\n",
    "        print(names.first, names. last, names.address)"
   ]
  },
  {
   "cell_type": "markdown",
   "id": "4b73c35c-d4b9-43fe-af16-296749569e18",
   "metadata": {},
   "source": [
    "# 231. collections.OrderedDict, Python 3.6 dict"
   ]
  },
  {
   "cell_type": "code",
   "execution_count": 45,
   "id": "46d1c65c-783f-4206-8076-d80af64fcec0",
   "metadata": {},
   "outputs": [
    {
     "name": "stdout",
     "output_type": "stream",
     "text": [
      "{'banana': 3, 'apple': 4, 'peer': 1, 'orange': 2}\n"
     ]
    }
   ],
   "source": [
    "d = {'banana' : 3, 'apple' : 4, 'peer' : 1 , 'orange' : 2 }\n",
    "print(d)"
   ]
  },
  {
   "cell_type": "code",
   "execution_count": 53,
   "id": "14557661-26e4-45cb-bc1a-d40c4f5bcc20",
   "metadata": {},
   "outputs": [
    {
     "name": "stdout",
     "output_type": "stream",
     "text": [
      "OrderedDict([('banana', 3), ('apple', 4), ('peer', 1), ('orange', 2)])\n",
      "True\n"
     ]
    }
   ],
   "source": [
    "import collections\n",
    "\n",
    "d = {'banana' : 3, 'apple' : 4, 'peer' : 1 , 'orange' : 2 }\n",
    "o = collections.OrderedDict(d)\n",
    "print(o)\n",
    "print(d == o)"
   ]
  },
  {
   "cell_type": "code",
   "execution_count": 55,
   "id": "f9754f4a-3e77-4ca3-9be3-c83ad124290d",
   "metadata": {},
   "outputs": [
    {
     "name": "stdout",
     "output_type": "stream",
     "text": [
      "False\n"
     ]
    }
   ],
   "source": [
    "import collections\n",
    "\n",
    "od1 = collections.OrderedDict({'banana' : 3, 'apple' : 4, 'peer' : 1 , 'orange' : 2 })\n",
    "od2 = collections.OrderedDict({'apple' : 4, 'banana' : 3, 'peer' : 1 , 'orange' : 2 })\n",
    "\n",
    "print(od1 == od2)"
   ]
  },
  {
   "cell_type": "code",
   "execution_count": 59,
   "id": "553dca05-5143-4697-8da1-38b8d8d48471",
   "metadata": {},
   "outputs": [
    {
     "name": "stdout",
     "output_type": "stream",
     "text": [
      "OrderedDict([('apple', 4), ('banana', 3), ('orange', 2), ('peer', 1)])\n",
      "OrderedDict([('peer', 1), ('orange', 2), ('banana', 3), ('apple', 4)])\n",
      "OrderedDict([('peer', 1), ('apple', 4), ('banana', 3), ('orange', 2)])\n"
     ]
    }
   ],
   "source": [
    "import collections\n",
    "\n",
    "d = {'banana' : 3, 'apple' : 4, 'peer' : 1 , 'orange' : 2 }\n",
    "od1 = collections.OrderedDict(sorted(d.items(), key=lambda t: t[0]))\n",
    "print(od1)\n",
    "od2 = collections.OrderedDict(sorted(d.items(), key=lambda t: t[1]))\n",
    "print(od2)\n",
    "od3 = collections.OrderedDict(sorted(d.items(), key=lambda t: len(t[0])))\n",
    "print(od3)"
   ]
  },
  {
   "cell_type": "code",
   "execution_count": 63,
   "id": "027ff547-a5e8-4ce7-a0ab-c68179efd96d",
   "metadata": {},
   "outputs": [
    {
     "name": "stdout",
     "output_type": "stream",
     "text": [
      "OrderedDict([('apple', 4), ('banana', 3), ('orange', 2), ('peer', 1)])\n",
      "OrderedDict([('apple', 4), ('banana', 3), ('orange', 2), ('peer', 1), ('cc', 100)])\n",
      "OrderedDict([('apple', 4), ('banana', 3), ('cc', 100), ('orange', 2), ('peer', 1)])\n"
     ]
    }
   ],
   "source": [
    "import collections\n",
    "\n",
    "d = {'banana' : 3, 'apple' : 4, 'peer' : 1 , 'orange' : 2 }\n",
    "od = collections.OrderedDict(sorted(d.items(), key=lambda t: t[0]))\n",
    "print(od)\n",
    "od['cc'] = 100\n",
    "print(od)\n",
    "od = collections.OrderedDict(sorted(od.items(), key=lambda t: t[0]))\n",
    "print(od)"
   ]
  },
  {
   "cell_type": "markdown",
   "id": "0bd58e58-bf2d-40d6-aa22-3f89d1ca3b39",
   "metadata": {},
   "source": [
    "# 232 정규표현 re\n",
    "\n",
    "https://docs.python.org/3/library/re.html"
   ]
  },
  {
   "cell_type": "code",
   "execution_count": 79,
   "id": "d059c09b-ce67-447b-a0d2-6e9b30f3eb8b",
   "metadata": {},
   "outputs": [
    {
     "name": "stdout",
     "output_type": "stream",
     "text": [
      "<re.Match object; span=(0, 3), match='abc'>\n",
      "abc\n",
      "\n",
      "<re.Match object; span=(5, 8), match='abc'>\n",
      "(5, 8)\n",
      "abc\n",
      "\n",
      "['abc', 'abc']\n",
      "\n",
      "['abc', 'abc']\n"
     ]
    }
   ],
   "source": [
    "import re\n",
    "\"\"\"\n",
    "match()    문자열의 처음부터 정규식과 매치되는지 조사\n",
    "search()   문자열 전체를 검색하여 정규식과 매치되는지 조사\n",
    "findall()  정규식과 매치되는 모든 문자열을 리스트로 리턴\n",
    "finditer() 정규식과 매치되는 모든 문자열을 iterator 객체로 리턴\n",
    "\"\"\"\n",
    "\n",
    "m = re.match('a.c', 'abc')\n",
    "print(m)\n",
    "print(m.group())\n",
    "print()\n",
    "\n",
    "m = re.search('a.c', 'test abc test abc')\n",
    "print(m)\n",
    "print(m.span())\n",
    "print(m.group())\n",
    "print()\n",
    "\n",
    "m = re.findall('a.c', 'test abc test abc')\n",
    "print(m)\n",
    "print()\n",
    "\n",
    "m = re.finditer('a.c', 'test abc test abc')\n",
    "print([w.group() for w in m])\n"
   ]
  },
  {
   "cell_type": "code",
   "execution_count": 88,
   "id": "23ce9e92-4a24-4dbd-b57d-b3f3686d8d2f",
   "metadata": {},
   "outputs": [
    {
     "name": "stdout",
     "output_type": "stream",
     "text": [
      "<re.Match object; span=(0, 2), match='ab'>\n",
      "\n",
      "<re.Match object; span=(0, 3), match='abb'>\n",
      "\n",
      "<re.Match object; span=(0, 4), match='abbb'>\n",
      "\n",
      "<re.Match object; span=(0, 3), match='aaa'>\n",
      "\n",
      "<re.Match object; span=(0, 4), match='aaaa'>\n",
      "\n"
     ]
    }
   ],
   "source": [
    "import re\n",
    "\n",
    "m = re.match('ab?', 'abb')    \n",
    "print(m)\n",
    "print()\n",
    "\n",
    "m = re.match('ab*', 'abb')    \n",
    "print(m)\n",
    "print()\n",
    "\n",
    "m = re.match('ab+', 'abbb')    \n",
    "print(m)\n",
    "print()\n",
    "\n",
    "m = re.match('a{3}', 'aaaaa')    \n",
    "print(m)\n",
    "print()\n",
    "\n",
    "m = re.match('a{2,4}', 'aaaaaa')    \n",
    "print(m)\n",
    "print()"
   ]
  },
  {
   "cell_type": "code",
   "execution_count": 122,
   "id": "687ced29-2790-4e72-b84c-8c3d06d2f2e9",
   "metadata": {},
   "outputs": [
    {
     "name": "stdout",
     "output_type": "stream",
     "text": [
      "<re.Match object; span=(0, 1), match='a'>\n",
      "\n",
      "<re.Match object; span=(0, 1), match='a'>\n",
      "\n",
      "<re.Match object; span=(0, 1), match='1'>\n",
      "\n",
      "<re.Match object; span=(0, 1), match='0'>\n",
      "\n",
      "<re.Match object; span=(0, 1), match='a'>\n",
      "\n",
      "<re.Match object; span=(0, 1), match='a'>\n",
      "\n",
      "<re.Match object; span=(0, 1), match='@'>\n",
      "\n",
      "<re.Match object; span=(0, 1), match='@'>\n",
      "\n",
      "<re.Match object; span=(0, 1), match='b'>\n",
      "\n",
      "<re.Match object; span=(0, 6), match='abcabc'>\n",
      "\n",
      "<re.Match object; span=(0, 1), match=' '>\n",
      "\n",
      "<re.Match object; span=(0, 1), match=' '>\n",
      "\n",
      "<re.Match object; span=(0, 1), match='1'>\n",
      "\n"
     ]
    }
   ],
   "source": [
    "import re\n",
    "\n",
    "m = re.match('[a-c]', 'abc')    \n",
    "print(m)\n",
    "print()\n",
    "\n",
    "m = re.match('[a-zA-Z]', 'abc')    \n",
    "print(m)\n",
    "print()\n",
    "\n",
    "m = re.match('[0-9]', '1')    \n",
    "print(m)\n",
    "print()\n",
    "\n",
    "m = re.match('\\d', '0')\n",
    "print(m)\n",
    "print()\n",
    "\n",
    "m = re.match('\\w', 'arirang@')\n",
    "print(m)\n",
    "print()\n",
    "\n",
    "m = re.match('[a-zA-Z0-9]', 'abc')    \n",
    "print(m)\n",
    "print()\n",
    "\n",
    "m = re.match('\\W', '@')\n",
    "print(m)\n",
    "print()\n",
    "\n",
    "m = re.match('[^a-zA-Z0-9]', '@')    \n",
    "print(m)\n",
    "print()\n",
    "\n",
    "m = re.match('[a|b]', 'b')    \n",
    "print(m)\n",
    "print()\n",
    "\n",
    "m = re.match('(abc)+', 'abcabc')    \n",
    "print(m)\n",
    "print()\n",
    "\n",
    "m = re.match('\\s', ' ')    \n",
    "print(m)\n",
    "print()\n",
    "\n",
    "m = re.match('\\s', ' ')    \n",
    "print(m)\n",
    "print()\n",
    "\n",
    "m = re.match('\\S', '1')    \n",
    "print(m)\n",
    "print()"
   ]
  },
  {
   "cell_type": "code",
   "execution_count": 116,
   "id": "756a53f7-dfe5-430e-bfb2-ee18ac18979f",
   "metadata": {},
   "outputs": [
    {
     "name": "stdout",
     "output_type": "stream",
     "text": [
      "<re.Match object; span=(0, 1), match='*'>\n",
      "\n",
      "<re.Match object; span=(0, 1), match='?'>\n",
      "\n"
     ]
    }
   ],
   "source": [
    "import re\n",
    "\n",
    "m = re.match('\\*', '*')    \n",
    "print(m)\n",
    "print()\n",
    "\n",
    "m = re.match('\\?', '?')    \n",
    "print(m)\n",
    "print()"
   ]
  },
  {
   "cell_type": "code",
   "execution_count": 121,
   "id": "442fe296-2ca3-4678-a857-cead3d1138d3",
   "metadata": {},
   "outputs": [
    {
     "name": "stdout",
     "output_type": "stream",
     "text": [
      "<re.Match object; span=(0, 3), match='abc'>\n",
      "\n",
      "<re.Match object; span=(8, 11), match='abc'>\n",
      "\n"
     ]
    }
   ],
   "source": [
    "import re\n",
    "\n",
    "m = re.search('^abc', 'abctest abc')    \n",
    "print(m)\n",
    "print()\n",
    "\n",
    "m = re.search('abc$', 'abctest abc')    \n",
    "print(m)\n",
    "print()"
   ]
  },
  {
   "cell_type": "markdown",
   "id": "7300d00e-5cc1-466b-9578-ff71078bb5d9",
   "metadata": {},
   "source": [
    "# 233 정규표현의 re.group re.compil, re.VERBOSE"
   ]
  },
  {
   "cell_type": "code",
   "execution_count": 143,
   "id": "4609db96-2053-4183-9ad7-d1d2403d9b31",
   "metadata": {},
   "outputs": [
    {
     "name": "stdout",
     "output_type": "stream",
     "text": [
      "us-east-2\n",
      "123456789012\n",
      "mystack-mynestedstack-sggfrhxhum7w\n"
     ]
    }
   ],
   "source": [
    "import re\n",
    "\n",
    "s = ('arn:aws:cloudformation:us-east-2:123456789012:stack/'\n",
    "     'mystack-mynestedstack-sggfrhxhum7w/f448b250-b969011e0-a185-5081d0136786')\n",
    "\n",
    "m = re.match(r'arn:aws:cloudformation:(?P<region>[\\w-]+):(?P<account_id>[\\d]+):stack/(?P<stack_name>[\\w-]+)/[\\w-]+', s)\n",
    "\n",
    "if m:\n",
    "    print(m.group('region'))\n",
    "    print(m.group('account_id'))\n",
    "    print(m.group('stack_name'))\n",
    "else:\n",
    "    raise Exception('Error')\n",
    "    print(m)"
   ]
  },
  {
   "cell_type": "code",
   "execution_count": 147,
   "id": "7c9ed4d5-870a-424c-ad9d-874097db5bec",
   "metadata": {},
   "outputs": [
    {
     "name": "stdout",
     "output_type": "stream",
     "text": [
      "us-east-2\n",
      "123456789012\n",
      "mystack-mynestedstack-sggfrhxhum7w\n",
      "us-east-2\n",
      "123456789012\n",
      "mystack-mynestedstack-sggfrhxhuaaa\n"
     ]
    }
   ],
   "source": [
    "import re\n",
    "\n",
    "#RE_STACK_ID = re.compile(r'arn:aws:cloudformation:(?P<region>[\\w-]+):(?P<account_id>[\\d]+):stack/(?P<stack_name>[\\w-]+)/[\\w-]+')\n",
    "RE_STACK_ID = re.compile(r\"\"\"\n",
    "    arn:aws:cloudformation:\n",
    "    (?P<region>[\\w-]+):\n",
    "    (?P<account_id>[\\d]+)\n",
    "    :stack/\n",
    "    (?P<stack_name>[\\w-]+)\n",
    "    /[\\w-]+\"\"\", re.VERBOSE)\n",
    "\n",
    "s1 = ('arn:aws:cloudformation:us-east-2:123456789012:stack/'\n",
    "     'mystack-mynestedstack-sggfrhxhum7w/f448b250-b969011e0-a185-5081d0136786')\n",
    "s2 = ('arn:aws:cloudformation:us-east-2:123456789012:stack/'\n",
    "     'mystack-mynestedstack-sggfrhxhuaaa/f448b250-b969011e0-a185-5081d0136786')\n",
    "\n",
    "for s in [s1, s2]:\n",
    "    m = RE_STACK_ID.match(s)\n",
    "    if m:\n",
    "        print(m.group('region'))\n",
    "        print(m.group('account_id'))\n",
    "        print(m.group('stack_name'))"
   ]
  },
  {
   "cell_type": "markdown",
   "id": "9236d5ad-d5bc-4118-9fa1-d1fbc69b5736",
   "metadata": {},
   "source": [
    "# 234 정규표현의 re.split의 분활과 re.compile의 치환"
   ]
  },
  {
   "cell_type": "code",
   "execution_count": 149,
   "id": "0aed79cc-70fa-405a-88d6-bc33b9b1bfba",
   "metadata": {},
   "outputs": [
    {
     "name": "stdout",
     "output_type": "stream",
     "text": [
      "['My', 'name', 'is', '...', 'Mike']\n",
      "['My', 'name', 'is', 'Mike']\n"
     ]
    }
   ],
   "source": [
    "s = 'My name is ... Mike'\n",
    "print(s.split())\n",
    "\n",
    "p = re.compile(r'\\W+')\n",
    "print(p.split(s))"
   ]
  },
  {
   "cell_type": "code",
   "execution_count": 157,
   "id": "1c7fe7b9-5c96-47a1-906e-bc722a955842",
   "metadata": {},
   "outputs": [
    {
     "name": "stdout",
     "output_type": "stream",
     "text": [
      "colour socks and colour shoes\n",
      "colour socks and red shoes\n",
      "('colour socks and colour shoes', 2)\n"
     ]
    }
   ],
   "source": [
    "p = re.compile('(blue|white|red)')\n",
    "\n",
    "print(p.sub('colour', 'blue socks and red shoes'))\n",
    "print(p.sub('colour', 'blue socks and red shoes', count=1))\n",
    "print(p.subn('colour', 'blue socks and red shoes'))"
   ]
  },
  {
   "cell_type": "code",
   "execution_count": 160,
   "id": "d4155339-cfdd-488e-ad37-f7858acf693b",
   "metadata": {},
   "outputs": [
    {
     "name": "stdout",
     "output_type": "stream",
     "text": [
      "0x10x20x30x40x5 0x50x5 0x10x1 test test0x2\n"
     ]
    }
   ],
   "source": [
    "import re\n",
    "\n",
    "def hexrepl(match):\n",
    "    value = int(match.group())\n",
    "    return hex(value)\n",
    "\n",
    "p = re.compile(r'\\d')\n",
    "print(p.sub(hexrepl, '12345 55 11 test test2'))"
   ]
  },
  {
   "cell_type": "markdown",
   "id": "0944bc65-675d-4577-8618-a047f603e9f4",
   "metadata": {},
   "source": [
    "# 235 정규표현의 Greedy"
   ]
  },
  {
   "cell_type": "code",
   "execution_count": 164,
   "id": "69058079-f334-4abd-ba7b-aa58df8784f7",
   "metadata": {},
   "outputs": [
    {
     "name": "stdout",
     "output_type": "stream",
     "text": [
      "<re.Match object; span=(0, 46), match='<html><head><title>Title</title></head></html>'>\n",
      "<re.Match object; span=(0, 6), match='<html>'>\n"
     ]
    }
   ],
   "source": [
    "import re\n",
    "s = '<html><head><title>Title</title></head></html>'\n",
    "\n",
    "print(re.match('<.*>', s))\n",
    "print(re.match('<.*?>', s))"
   ]
  },
  {
   "cell_type": "markdown",
   "id": "99c20aef-6646-4732-a1e8-dd5fda44c716",
   "metadata": {},
   "source": [
    "# 236 format 표기"
   ]
  },
  {
   "cell_type": "code",
   "execution_count": 166,
   "id": "e09e1a5e-a197-4f51-b39e-fa0457d2a9d2",
   "metadata": {},
   "outputs": [
    {
     "data": {
      "text/plain": [
       "'a, b, c'"
      ]
     },
     "execution_count": 166,
     "metadata": {},
     "output_type": "execute_result"
    }
   ],
   "source": [
    "'{}, {}, {}'.format('a', 'b', 'c')"
   ]
  },
  {
   "cell_type": "code",
   "execution_count": 168,
   "id": "2c8b0b7a-4e36-44f1-9243-a2698b59ee06",
   "metadata": {},
   "outputs": [
    {
     "data": {
      "text/plain": [
       "'c, b, a'"
      ]
     },
     "execution_count": 168,
     "metadata": {},
     "output_type": "execute_result"
    }
   ],
   "source": [
    "'{2}, {1}, {0}'.format('a', 'b', 'c')"
   ]
  },
  {
   "cell_type": "code",
   "execution_count": 170,
   "id": "624d7019-3b88-4dcc-aff7-a311f7d1ef21",
   "metadata": {},
   "outputs": [
    {
     "data": {
      "text/plain": [
       "'jun park'"
      ]
     },
     "execution_count": 170,
     "metadata": {},
     "output_type": "execute_result"
    }
   ],
   "source": [
    "'{name} {familiy}'.format(familiy='park', name='jun')"
   ]
  },
  {
   "cell_type": "code",
   "execution_count": 180,
   "id": "ca2d8336-7e41-4e3c-824e-d0711eee8199",
   "metadata": {},
   "outputs": [
    {
     "name": "stdout",
     "output_type": "stream",
     "text": [
      "1 3\n",
      "1 3\n",
      "1 3\n"
     ]
    }
   ],
   "source": [
    "t = (1, 2, 3)\n",
    "\n",
    "print('{0[0]} {0[2]}'.format(t))\n",
    "print('{t[0]} {t[2]}'.format(t=t))\n",
    "print('{0} {2}'.format(*t))"
   ]
  },
  {
   "cell_type": "code",
   "execution_count": 186,
   "id": "fd4d8b65-e610-49b0-931e-c442dea0b220",
   "metadata": {},
   "outputs": [
    {
     "name": "stdout",
     "output_type": "stream",
     "text": [
      "jun park\n",
      "jun park\n"
     ]
    }
   ],
   "source": [
    "d = {'name' : 'jun', 'family' : 'park'}\n",
    "\n",
    "print('{0[name]} {0[family]}'.format(d))\n",
    "print('{name} {family}'.format(**d))"
   ]
  },
  {
   "cell_type": "code",
   "execution_count": 200,
   "id": "90552215-a398-4c46-8981-120eff12cf9a",
   "metadata": {},
   "outputs": [
    {
     "name": "stdout",
     "output_type": "stream",
     "text": [
      "left                          \n",
      "                         right\n",
      "            center            \n",
      "            center            \n",
      "************center************\n",
      "************center************\n",
      "************center************\n"
     ]
    }
   ],
   "source": [
    "print('{:<30}'.format('left'))\n",
    "print('{:>30}'.format('right'))\n",
    "print('{:^30}'.format('center'))\n",
    "print('{0:^30}'.format('center'))\n",
    "print('{0:*^30}'.format('center'))\n",
    "print('{name:*^30}'.format(name='center'))\n",
    "print('{name:{fill}{align}{width}}'.format(name='center', fill='*', align='^', width=30))"
   ]
  },
  {
   "cell_type": "code",
   "execution_count": 202,
   "id": "2e705c10-1bfc-4cc6-b7cf-92db091f87cb",
   "metadata": {},
   "outputs": [
    {
     "name": "stdout",
     "output_type": "stream",
     "text": [
      "123,456,789\n",
      "+3.140000 -3.140000\n",
      "3.140000 -3.140000\n",
      "3.140000 -3.140000\n"
     ]
    }
   ],
   "source": [
    "print('{:,}'.format(123456789))\n",
    "print('{:+f} {:+f}'.format(3.14, -3.14))\n",
    "print('{:f} {:f}'.format(3.14, -3.14))\n",
    "print('{:-f} {:-f}'.format(3.14, -3.14))"
   ]
  },
  {
   "cell_type": "code",
   "execution_count": 205,
   "id": "70ba9507-ce88-4e40-bd0e-99ce3763f5e2",
   "metadata": {},
   "outputs": [
    {
     "name": "stdout",
     "output_type": "stream",
     "text": [
      "86.36%\n",
      "0.8636363636363636\n"
     ]
    }
   ],
   "source": [
    "print('{:.2%}'.format(19/22))\n",
    "print('{}'.format(19/22))"
   ]
  },
  {
   "cell_type": "code",
   "execution_count": 211,
   "id": "83da257f-be94-4c95-ad7a-a40e11ce7ca5",
   "metadata": {},
   "outputs": [
    {
     "name": "stdout",
     "output_type": "stream",
     "text": [
      "100 0x64 0o144\n",
      "100 0x64 0o144 0b1100100\n",
      "100 64 144 1100100\n"
     ]
    }
   ],
   "source": [
    "print(int(100), hex(100), oct(100))\n",
    "print('{0:d} {0:#x} {0:#o} {0:#b}'.format(100))\n",
    "print('{0:d} {0:x} {0:o} {0:b}'.format(100))"
   ]
  },
  {
   "cell_type": "code",
   "execution_count": 214,
   "id": "f68c5ef5-54c3-46b3-a973-8fb0d2a9b9ef",
   "metadata": {},
   "outputs": [
    {
     "name": "stdout",
     "output_type": "stream",
     "text": [
      "    0     0     0 \n",
      "    1     1     1 \n",
      "   10     2     2 \n",
      "   11     3     3 \n",
      "  100     4     4 \n",
      "  101     5     5 \n",
      "  110     6     6 \n",
      "  111     7     7 \n",
      " 1000     8     8 \n",
      " 1001     9     9 \n",
      " 1010    10     A \n",
      " 1011    11     B \n",
      " 1100    12     C \n",
      " 1101    13     D \n",
      " 1110    14     E \n",
      " 1111    15     F \n",
      "10000    16    10 \n",
      "10001    17    11 \n",
      "10010    18    12 \n",
      "10011    19    13 \n"
     ]
    }
   ],
   "source": [
    "for i in range(20):\n",
    "    for base in 'bdX':\n",
    "        print('{:5{base}}'.format(i, base=base), end=' ')\n",
    "    print()"
   ]
  },
  {
   "cell_type": "markdown",
   "id": "503304f0-fac6-4b80-ae28-fd29bc2a22ca",
   "metadata": {},
   "source": [
    "# 237 repr 와 str"
   ]
  },
  {
   "cell_type": "code",
   "execution_count": 219,
   "id": "1531bfcc-e3bc-4857-9789-356f705c6e46",
   "metadata": {},
   "outputs": [
    {
     "name": "stdout",
     "output_type": "stream",
     "text": [
      "s\n",
      "s\n",
      "'s'\n",
      "2021-09-30 14:12:06.964432\n",
      "2021-09-30 14:12:06.964432\n",
      "datetime.datetime(2021, 9, 30, 14, 12, 6, 964432)\n",
      "'test' test1 test2\n"
     ]
    }
   ],
   "source": [
    "print('s')\n",
    "print(str('s'))\n",
    "print(repr('s'))  # Python Object\n",
    "\n",
    "import datetime\n",
    "\n",
    "d = datetime.datetime.now()\n",
    "print(d)\n",
    "print(str(d))\n",
    "print(repr(d))"
   ]
  },
  {
   "cell_type": "code",
   "execution_count": 221,
   "id": "b1e0ea1f-0a93-4c5d-b748-cfe239a09a54",
   "metadata": {},
   "outputs": [
    {
     "name": "stdout",
     "output_type": "stream",
     "text": [
      "'test' test1 test2\n",
      "<__main__.Point object at 0x7fd5b9e9d4f0> <__main__.Point object at 0x7fd5b9e9d4f0> <__main__.Point object at 0x7fd5b9e9d4f0>\n"
     ]
    }
   ],
   "source": [
    "print('{!r} {} {!s}'.format('test', 'test1', 'test2'))\n",
    "\n",
    "class Point(object):\n",
    "    pass\n",
    "\n",
    "p = Point()\n",
    "\n",
    "print('{!r} {} {!s}'.format(p, p, p))"
   ]
  },
  {
   "cell_type": "code",
   "execution_count": 229,
   "id": "bbe6f00b-1c1b-4200-9382-6e1cfd4ef229",
   "metadata": {},
   "outputs": [
    {
     "name": "stdout",
     "output_type": "stream",
     "text": [
      "Point<object>\n",
      "Point (10, 200)\n",
      "Point (10, 200)\n"
     ]
    }
   ],
   "source": [
    "class Point(object):\n",
    "    def __init__(self, x, y):\n",
    "        self.x = x\n",
    "        self.y = y\n",
    "        \n",
    "    def __repr__(self):\n",
    "        return 'Point<object>'\n",
    "\n",
    "    def __str__(self):\n",
    "        return 'Point ({}, {})'.format(self.x, self.y)\n",
    "    \n",
    "\n",
    "p = Point(10, 200)\n",
    "\n",
    "print('{0!r}'.format(p))\n",
    "print('{0}'.format(p))\n",
    "print('{0!s}'.format(p))"
   ]
  },
  {
   "cell_type": "markdown",
   "id": "760660aa-2794-4a34-b97d-0a6dd6c392e7",
   "metadata": {},
   "source": [
    "# 238 pprint vs json.dumps"
   ]
  },
  {
   "cell_type": "code",
   "execution_count": 242,
   "id": "33783197-43ed-463e-979d-4cfee214f9db",
   "metadata": {},
   "outputs": [
    {
     "name": "stdout",
     "output_type": "stream",
     "text": [
      "[[[[['apple', 'orange', 'banana', 'peach', 'mango'], 'apple', 'orange', 'banana', 'peach', 'mango'], ['apple', 'orange', 'banana', 'peach', 'mango'], 'apple', 'orange', 'banana', 'peach', 'mango'], [['apple', 'orange', 'banana', 'peach', 'mango'], 'apple', 'orange', 'banana', 'peach', 'mango'], ['apple', 'orange', 'banana', 'peach', 'mango'], 'apple', 'orange', 'banana', 'peach', 'mango'], [[['apple', 'orange', 'banana', 'peach', 'mango'], 'apple', 'orange', 'banana', 'peach', 'mango'], ['apple', 'orange', 'banana', 'peach', 'mango'], 'apple', 'orange', 'banana', 'peach', 'mango'], [['apple', 'orange', 'banana', 'peach', 'mango'], 'apple', 'orange', 'banana', 'peach', 'mango'], ['apple', 'orange', 'banana', 'peach', 'mango'], 'apple', 'orange', 'banana', 'peach', 'mango']\n",
      "[   [   [   [...], [...], 'apple',\n",
      "            'orange', 'banana', 'peach',\n",
      "            'mango'],\n",
      "        [   [...], 'apple', 'orange',\n",
      "            'banana', 'peach',\n",
      "            'mango'],\n",
      "        [   'apple', 'orange', 'banana',\n",
      "            'peach', 'mango'],\n",
      "        'apple', 'orange', 'banana',\n",
      "        'peach', 'mango'],\n",
      "    [   [   [...], 'apple', 'orange',\n",
      "            'banana', 'peach',\n",
      "            'mango'],\n",
      "        [   'apple', 'orange', 'banana',\n",
      "            'peach', 'mango'],\n",
      "        'apple', 'orange', 'banana',\n",
      "        'peach', 'mango'],\n",
      "    [   [   'apple', 'orange', 'banana',\n",
      "            'peach', 'mango'],\n",
      "        'apple', 'orange', 'banana',\n",
      "        'peach', 'mango'],\n",
      "    [   'apple', 'orange', 'banana',\n",
      "        'peach', 'mango'],\n",
      "    'apple', 'orange', 'banana',\n",
      "    'peach', 'mango']\n"
     ]
    }
   ],
   "source": [
    "import json\n",
    "import pprint #Prety Print\n",
    "\n",
    "l = ['apple', 'orange', 'banana', 'peach', 'mango']\n",
    "l.insert(0, l[:])\n",
    "l.insert(0, l[:])\n",
    "l.insert(0, l[:])\n",
    "l.insert(0, l[:])\n",
    "print(l)\n",
    "\n",
    "pp = pprint.PrettyPrinter(indent=4, width=40, compact=True, depth=3)\n",
    "pp.pprint(l)"
   ]
  },
  {
   "cell_type": "code",
   "execution_count": 251,
   "id": "274894bf-cc4d-4bf5-a695-7d9c04fd64fc",
   "metadata": {},
   "outputs": [
    {
     "name": "stdout",
     "output_type": "stream",
     "text": [
      "{   'a': 'A',\n",
      "    'b': 'B',\n",
      "    'c': {'x': {'y': 'Y'}}}\n",
      "\n",
      "{\n",
      "    \"a\": \"A\",\n",
      "    \"b\": \"B\",\n",
      "    \"c\": {\n",
      "        \"x\": {\n",
      "            \"y\": \"Y\"\n",
      "        }\n",
      "    }\n",
      "}\n"
     ]
    }
   ],
   "source": [
    "import json\n",
    "import pprint #Prety Print\n",
    "\n",
    "d = {'a':'A', 'b':'B', 'c':{'x':{'y': 'Y'}}}\n",
    "     \n",
    "pp = pprint.PrettyPrinter(indent=4, width=40, compact=True, depth=3)\n",
    "pp.pprint(d)\n",
    "print()\n",
    "print(json.dumps(d, indent=4))"
   ]
  },
  {
   "cell_type": "code",
   "execution_count": 257,
   "id": "40777a59-4e54-4c04-9105-d0cb424262fe",
   "metadata": {
    "tags": []
   },
   "outputs": [
    {
     "name": "stdout",
     "output_type": "stream",
     "text": [
      "{ 'author': 'A. Random Developer',\n",
      "  'author_email': 'author@example.com',\n",
      "  'bugtrack_url': None,\n",
      "  'classifiers': [ 'Development Status :: 3 - Alpha',\n",
      "                   'Intended Audience :: Developers',\n",
      "                   'License :: OSI Approved :: MIT License',\n",
      "                   'Programming Language :: Python :: 3',\n",
      "                   'Programming Language :: Python :: 3 :: Only',\n",
      "                   'Programming Language :: Python :: 3.5',\n",
      "                   'Programming Language :: Python :: 3.6',\n",
      "                   'Programming Language :: Python :: 3.7',\n",
      "                   'Programming Language :: Python :: 3.8',\n",
      "                   'Topic :: Software Development :: Build Tools'],\n",
      "  'description': '# A sample Python project\\n'\n",
      "                 '\\n'\n",
      "                 '![Python '\n",
      "                 'Logo](https://www.python.org/static/community_logos/python-logo.png '\n",
      "                 '\"Sample inline image\")\\n'\n",
      "                 '\\n'\n",
      "                 'A sample project that exists as an aid to the [Python '\n",
      "                 'Packaging User\\n'\n",
      "                 \"Guide][packaging guide]'s [Tutorial on Packaging and \"\n",
      "                 'Distributing\\n'\n",
      "                 'Projects][distribution tutorial].\\n'\n",
      "                 '\\n'\n",
      "                 'This project does not aim to cover best practices for Python '\n",
      "                 'project\\n'\n",
      "                 'development as a whole. For example, it does not provide '\n",
      "                 'guidance or tool\\n'\n",
      "                 'recommendations for version control, documentation, or '\n",
      "                 'testing.\\n'\n",
      "                 '\\n'\n",
      "                 '[The source for this project is available here][src].\\n'\n",
      "                 '\\n'\n",
      "                 'Most of the configuration for a Python project is done in '\n",
      "                 'the `setup.py` file,\\n'\n",
      "                 'an example of which is included in this project. You should '\n",
      "                 'edit this file\\n'\n",
      "                 'accordingly to adapt this sample project to your needs.\\n'\n",
      "                 '\\n'\n",
      "                 '----\\n'\n",
      "                 '\\n'\n",
      "                 'This is the README file for the project.\\n'\n",
      "                 '\\n'\n",
      "                 'The file should use UTF-8 encoding and can be written using\\n'\n",
      "                 '[reStructuredText][rst] or [markdown][md use] with the '\n",
      "                 'appropriate [key set][md\\n'\n",
      "                 'use]. It will be used to generate the project webpage on '\n",
      "                 'PyPI and will be\\n'\n",
      "                 'displayed as the project homepage on common code-hosting '\n",
      "                 'services, and should be\\n'\n",
      "                 'written for that purpose.\\n'\n",
      "                 '\\n'\n",
      "                 'Typical contents for this file would include an overview of '\n",
      "                 'the project, basic\\n'\n",
      "                 'usage examples, etc. Generally, including the project '\n",
      "                 'changelog in here is not a\\n'\n",
      "                 \"good idea, although a simple “What's New” section for the \"\n",
      "                 'most recent version\\n'\n",
      "                 'may be appropriate.\\n'\n",
      "                 '\\n'\n",
      "                 '[packaging guide]: https://packaging.python.org\\n'\n",
      "                 '[distribution tutorial]: '\n",
      "                 'https://packaging.python.org/tutorials/packaging-projects/\\n'\n",
      "                 '[src]: https://github.com/pypa/sampleproject\\n'\n",
      "                 '[rst]: http://docutils.sourceforge.net/rst.html\\n'\n",
      "                 '[md]: https://tools.ietf.org/html/rfc7764#section-3.5 '\n",
      "                 '\"CommonMark variant\"\\n'\n",
      "                 '[md use]: '\n",
      "                 'https://packaging.python.org/specifications/core-metadata/#description-content-type-optional\\n'\n",
      "                 '\\n'\n",
      "                 '\\n',\n",
      "  'description_content_type': 'text/markdown',\n",
      "  'docs_url': None,\n",
      "  'download_url': '',\n",
      "  'downloads': {'last_day': -1, 'last_month': -1, 'last_week': -1},\n",
      "  'home_page': 'https://github.com/pypa/sampleproject',\n",
      "  'keywords': 'sample setuptools development',\n",
      "  'license': '',\n",
      "  'maintainer': '',\n",
      "  'maintainer_email': '',\n",
      "  'name': 'sampleproject',\n",
      "  'package_url': 'https://pypi.org/project/sampleproject/',\n",
      "  'platform': '',\n",
      "  'project_url': 'https://pypi.org/project/sampleproject/',\n",
      "  'project_urls': { 'Bug Reports': 'https://github.com/pypa/sampleproject/issues',\n",
      "                    'Funding': 'https://donate.pypi.org',\n",
      "                    'Homepage': 'https://github.com/pypa/sampleproject',\n",
      "                    'Say Thanks!': 'http://saythanks.io/to/example',\n",
      "                    'Source': 'https://github.com/pypa/sampleproject/'},\n",
      "  'release_url': 'https://pypi.org/project/sampleproject/2.0.0/',\n",
      "  'requires_dist': [ 'peppercorn',\n",
      "                     \"check-manifest ; extra == 'dev'\",\n",
      "                     \"coverage ; extra == 'test'\"],\n",
      "  'requires_python': '>=3.5, <4',\n",
      "  'summary': 'A sample Python project',\n",
      "  'version': '2.0.0',\n",
      "  'yanked': False,\n",
      "  'yanked_reason': None}\n",
      "{\n",
      "  \"author\": \"A. Random Developer\",\n",
      "  \"author_email\": \"author@example.com\",\n",
      "  \"bugtrack_url\": null,\n",
      "  \"classifiers\": [\n",
      "    \"Development Status :: 3 - Alpha\",\n",
      "    \"Intended Audience :: Developers\",\n",
      "    \"License :: OSI Approved :: MIT License\",\n",
      "    \"Programming Language :: Python :: 3\",\n",
      "    \"Programming Language :: Python :: 3 :: Only\",\n",
      "    \"Programming Language :: Python :: 3.5\",\n",
      "    \"Programming Language :: Python :: 3.6\",\n",
      "    \"Programming Language :: Python :: 3.7\",\n",
      "    \"Programming Language :: Python :: 3.8\",\n",
      "    \"Topic :: Software Development :: Build Tools\"\n",
      "  ],\n",
      "  \"description\": \"# A sample Python project\\n\\n![Python Logo](https://www.python.org/static/community_logos/python-logo.png \\\"Sample inline image\\\")\\n\\nA sample project that exists as an aid to the [Python Packaging User\\nGuide][packaging guide]'s [Tutorial on Packaging and Distributing\\nProjects][distribution tutorial].\\n\\nThis project does not aim to cover best practices for Python project\\ndevelopment as a whole. For example, it does not provide guidance or tool\\nrecommendations for version control, documentation, or testing.\\n\\n[The source for this project is available here][src].\\n\\nMost of the configuration for a Python project is done in the `setup.py` file,\\nan example of which is included in this project. You should edit this file\\naccordingly to adapt this sample project to your needs.\\n\\n----\\n\\nThis is the README file for the project.\\n\\nThe file should use UTF-8 encoding and can be written using\\n[reStructuredText][rst] or [markdown][md use] with the appropriate [key set][md\\nuse]. It will be used to generate the project webpage on PyPI and will be\\ndisplayed as the project homepage on common code-hosting services, and should be\\nwritten for that purpose.\\n\\nTypical contents for this file would include an overview of the project, basic\\nusage examples, etc. Generally, including the project changelog in here is not a\\ngood idea, although a simple \\u201cWhat's New\\u201d section for the most recent version\\nmay be appropriate.\\n\\n[packaging guide]: https://packaging.python.org\\n[distribution tutorial]: https://packaging.python.org/tutorials/packaging-projects/\\n[src]: https://github.com/pypa/sampleproject\\n[rst]: http://docutils.sourceforge.net/rst.html\\n[md]: https://tools.ietf.org/html/rfc7764#section-3.5 \\\"CommonMark variant\\\"\\n[md use]: https://packaging.python.org/specifications/core-metadata/#description-content-type-optional\\n\\n\\n\",\n",
      "  \"description_content_type\": \"text/markdown\",\n",
      "  \"docs_url\": null,\n",
      "  \"download_url\": \"\",\n",
      "  \"downloads\": {\n",
      "    \"last_day\": -1,\n",
      "    \"last_month\": -1,\n",
      "    \"last_week\": -1\n",
      "  },\n",
      "  \"home_page\": \"https://github.com/pypa/sampleproject\",\n",
      "  \"keywords\": \"sample setuptools development\",\n",
      "  \"license\": \"\",\n",
      "  \"maintainer\": \"\",\n",
      "  \"maintainer_email\": \"\",\n",
      "  \"name\": \"sampleproject\",\n",
      "  \"package_url\": \"https://pypi.org/project/sampleproject/\",\n",
      "  \"platform\": \"\",\n",
      "  \"project_url\": \"https://pypi.org/project/sampleproject/\",\n",
      "  \"project_urls\": {\n",
      "    \"Bug Reports\": \"https://github.com/pypa/sampleproject/issues\",\n",
      "    \"Funding\": \"https://donate.pypi.org\",\n",
      "    \"Homepage\": \"https://github.com/pypa/sampleproject\",\n",
      "    \"Say Thanks!\": \"http://saythanks.io/to/example\",\n",
      "    \"Source\": \"https://github.com/pypa/sampleproject/\"\n",
      "  },\n",
      "  \"release_url\": \"https://pypi.org/project/sampleproject/2.0.0/\",\n",
      "  \"requires_dist\": [\n",
      "    \"peppercorn\",\n",
      "    \"check-manifest ; extra == 'dev'\",\n",
      "    \"coverage ; extra == 'test'\"\n",
      "  ],\n",
      "  \"requires_python\": \">=3.5, <4\",\n",
      "  \"summary\": \"A sample Python project\",\n",
      "  \"version\": \"2.0.0\",\n",
      "  \"yanked\": false,\n",
      "  \"yanked_reason\": null\n",
      "}\n"
     ]
    }
   ],
   "source": [
    "import json\n",
    "import pprint\n",
    "from urllib.request import urlopen\n",
    "with urlopen('https://pypi.org/pypi/sampleproject/json') as resp:\n",
    "    project_info = json.load(resp)['info']\n",
    "\n",
    "pprint.pprint(project_info, indent=2, depth=2)\n",
    "print(json.dumps(project_info, indent=2))"
   ]
  },
  {
   "cell_type": "markdown",
   "id": "35e2dfe1-b730-484e-96e2-1e8024bb5081",
   "metadata": {},
   "source": [
    "# 239 비트연산"
   ]
  },
  {
   "cell_type": "code",
   "execution_count": 259,
   "id": "bdb85055-e894-48ce-9e57-159378e51af3",
   "metadata": {},
   "outputs": [
    {
     "name": "stdout",
     "output_type": "stream",
     "text": [
      "0\n",
      "1\n",
      "1\n",
      "1\n"
     ]
    }
   ],
   "source": [
    "# OR\n",
    "print( 0|0 )\n",
    "print( 0|1 )\n",
    "print( 1|0 )\n",
    "print( 1|1 )"
   ]
  },
  {
   "cell_type": "code",
   "execution_count": 260,
   "id": "e4d06f4d-99f3-4071-8e53-7b2b54da6d8c",
   "metadata": {},
   "outputs": [
    {
     "name": "stdout",
     "output_type": "stream",
     "text": [
      "0\n",
      "0\n",
      "0\n",
      "1\n"
     ]
    }
   ],
   "source": [
    "# AND\n",
    "print( 0&0 )\n",
    "print( 0&1 )\n",
    "print( 1&0 )\n",
    "print( 1&1 )"
   ]
  },
  {
   "cell_type": "code",
   "execution_count": 261,
   "id": "389b8a7d-e0df-4ce2-9255-19620f80603b",
   "metadata": {},
   "outputs": [
    {
     "name": "stdout",
     "output_type": "stream",
     "text": [
      "0\n",
      "1\n",
      "1\n",
      "0\n"
     ]
    }
   ],
   "source": [
    "# XOR\n",
    "print( 0^0 )\n",
    "print( 0^1 )\n",
    "print( 1^0 )\n",
    "print( 1^1 )"
   ]
  },
  {
   "cell_type": "code",
   "execution_count": 270,
   "id": "9e4f7801-08de-4f12-867f-19e55f99848a",
   "metadata": {},
   "outputs": [
    {
     "name": "stdout",
     "output_type": "stream",
     "text": [
      "0b0\n",
      "-0b1\n",
      "0b1\n",
      "-0b10\n",
      "0b1\n"
     ]
    }
   ],
   "source": [
    "# NOT\n",
    "print( bin(0) )\n",
    "print( bin(~0) )\n",
    "print( bin(1) )\n",
    "print( bin(~1) )\n",
    "print( bin(~~1) )"
   ]
  },
  {
   "cell_type": "code",
   "execution_count": 278,
   "id": "94723460-6510-4a91-b060-f2d417ae13a4",
   "metadata": {},
   "outputs": [
    {
     "name": "stdout",
     "output_type": "stream",
     "text": [
      "0b1\n",
      "0b10\n",
      "0b100\n",
      "0b1000\n",
      "\n",
      "0b1\n",
      "0b10\n",
      "0b100\n",
      "0b1000\n",
      "\n",
      "0b101\n",
      "0b10\n",
      "0b10\n"
     ]
    }
   ],
   "source": [
    "# SHIFT\n",
    "print(bin(1 << 0))\n",
    "print(bin(1 << 1))\n",
    "print(bin(1 << 2))\n",
    "print(bin(1 << 3))\n",
    "print()\n",
    "print(bin(1 << 0))\n",
    "print(bin(1 << 1))\n",
    "print(bin(1 << 2))\n",
    "print(bin(1 << 3))\n",
    "print()\n",
    "print(bin(5)) \n",
    "print(bin(5 >> 1)) \n",
    "print(bin(5 >> 1))"
   ]
  },
  {
   "cell_type": "code",
   "execution_count": 286,
   "id": "1ff7a3d1-01ba-46cd-936e-d46683ab1da3",
   "metadata": {},
   "outputs": [
    {
     "name": "stdout",
     "output_type": "stream",
     "text": [
      "192 168 1 0\n",
      "192 168 1 255\n",
      "192 168 1 245\n",
      "0 0 0 10\n"
     ]
    }
   ],
   "source": [
    "# 192.168.1.10 & 255.255.255.0\n",
    "print(192&255, 168&255, 1&255, 10&0)\n",
    "print(192|0, 168|0, 1|0, 10|255)\n",
    "print(192^0, 168^0, 1^0, 10^255)\n",
    "print(192 & ~255, 168 & ~255, 1 & ~255, 10 & ~0)"
   ]
  },
  {
   "cell_type": "markdown",
   "id": "500a06c7-4106-4340-b433-00d661171ea5",
   "metadata": {},
   "source": [
    "# 239 Enum"
   ]
  },
  {
   "cell_type": "code",
   "execution_count": 296,
   "id": "6c737f2b-03a9-46f3-a0b4-998d672c05ca",
   "metadata": {},
   "outputs": [
    {
     "name": "stdout",
     "output_type": "stream",
     "text": [
      "Status.ACTIVE\n",
      "Status.ACTIVE\n",
      "<Status.ACTIVE: 1>\n",
      "ACTIVE\n",
      "1\n",
      "\n",
      "Status.ACTIVE\n",
      "<enum 'Status'>\n",
      "Status.INACTIVE\n",
      "<enum 'Status'>\n",
      "Status.RUNNING\n",
      "<enum 'Status'>\n",
      "\n",
      "Status.ACTIVE\n"
     ]
    }
   ],
   "source": [
    "import enum\n",
    "\n",
    "class Status(enum.Enum):\n",
    "    ACTIVE = 1\n",
    "    RENAME_ACTIVE = 1\n",
    "    INACTIVE = 2\n",
    "    RUNNING = 3\n",
    "    \n",
    "print(Status.ACTIVE)\n",
    "print(Status.RENAME_ACTIVE)\n",
    "\n",
    "print(repr(Status.ACTIVE))\n",
    "print(Status.ACTIVE.name)\n",
    "print(Status.ACTIVE.value)\n",
    "print()\n",
    "for s in Status:\n",
    "    print(s)\n",
    "    print(type(s))\n",
    "print()\n",
    "print(Status(1))"
   ]
  },
  {
   "cell_type": "code",
   "execution_count": 302,
   "id": "5167ecb7-a5dd-4e90-a9be-daa4d55b6e54",
   "metadata": {},
   "outputs": [
    {
     "ename": "ValueError",
     "evalue": "duplicate values found in <enum 'Status'>: RENAME_ACTIVE -> ACTIVE",
     "output_type": "error",
     "traceback": [
      "\u001b[0;31m---------------------------------------------------------------------------\u001b[0m",
      "\u001b[0;31mValueError\u001b[0m                                Traceback (most recent call last)",
      "\u001b[0;32m<ipython-input-302-be2aac1af115>\u001b[0m in \u001b[0;36m<module>\u001b[0;34m\u001b[0m\n\u001b[1;32m      2\u001b[0m \u001b[0;34m\u001b[0m\u001b[0m\n\u001b[1;32m      3\u001b[0m \u001b[0;34m@\u001b[0m\u001b[0menum\u001b[0m\u001b[0;34m.\u001b[0m\u001b[0munique\u001b[0m\u001b[0;34m\u001b[0m\u001b[0;34m\u001b[0m\u001b[0m\n\u001b[0;32m----> 4\u001b[0;31m \u001b[0;32mclass\u001b[0m \u001b[0mStatus\u001b[0m\u001b[0;34m(\u001b[0m\u001b[0menum\u001b[0m\u001b[0;34m.\u001b[0m\u001b[0mEnum\u001b[0m\u001b[0;34m)\u001b[0m\u001b[0;34m:\u001b[0m\u001b[0;34m\u001b[0m\u001b[0;34m\u001b[0m\u001b[0m\n\u001b[0m\u001b[1;32m      5\u001b[0m     \u001b[0mACTIVE\u001b[0m \u001b[0;34m=\u001b[0m \u001b[0;36m1\u001b[0m\u001b[0;34m\u001b[0m\u001b[0;34m\u001b[0m\u001b[0m\n\u001b[1;32m      6\u001b[0m     \u001b[0mRENAME_ACTIVE\u001b[0m \u001b[0;34m=\u001b[0m \u001b[0;36m1\u001b[0m\u001b[0;34m\u001b[0m\u001b[0;34m\u001b[0m\u001b[0m\n",
      "\u001b[0;32m~/opt/anaconda3/lib/python3.8/enum.py\u001b[0m in \u001b[0;36munique\u001b[0;34m(enumeration)\u001b[0m\n\u001b[1;32m    967\u001b[0m         alias_details = ', '.join(\n\u001b[1;32m    968\u001b[0m                 [\"%s -> %s\" % (alias, name) for (alias, name) in duplicates])\n\u001b[0;32m--> 969\u001b[0;31m         raise ValueError('duplicate values found in %r: %s' %\n\u001b[0m\u001b[1;32m    970\u001b[0m                 (enumeration, alias_details))\n\u001b[1;32m    971\u001b[0m     \u001b[0;32mreturn\u001b[0m \u001b[0menumeration\u001b[0m\u001b[0;34m\u001b[0m\u001b[0;34m\u001b[0m\u001b[0m\n",
      "\u001b[0;31mValueError\u001b[0m: duplicate values found in <enum 'Status'>: RENAME_ACTIVE -> ACTIVE"
     ]
    }
   ],
   "source": [
    "import enum\n",
    "\n",
    "@enum.unique\n",
    "class Status(enum.Enum):\n",
    "    ACTIVE = 1\n",
    "    RENAME_ACTIVE = 1\n",
    "    INACTIVE = 2\n",
    "    RUNNING = 3    "
   ]
  },
  {
   "cell_type": "code",
   "execution_count": 306,
   "id": "9655a257-660e-456a-8902-0b50003566c7",
   "metadata": {},
   "outputs": [
    {
     "name": "stdout",
     "output_type": "stream",
     "text": [
      "shutdown\n"
     ]
    }
   ],
   "source": [
    "import enum\n",
    "\n",
    "db = {\n",
    "    'stack1' : 1,\n",
    "    'stack2' : 2,\n",
    "}\n",
    "\n",
    "# STATUS_ACTIVE = 1\n",
    "# STATUS_INACTIVE = 2\n",
    "\n",
    "# if db['stack1'] == STATUS_ACTIVE:\n",
    "#     print('shutdown')\n",
    "# elif db['statck2'] == STATUS_INACTIVE:\n",
    "#     print('terminated')\n",
    "\n",
    "class Status(enum.Enum):\n",
    "    ACTIVE = 1\n",
    "    INACTIVE = 2\n",
    "    RUNNING = 3\n",
    "    \n",
    "if Status(db['stack1']) == Status.ACTIVE:\n",
    "    print('shutdown')\n",
    "elif Status(db['stack2']) == Status.INACTIVE:\n",
    "    print('terminated')"
   ]
  },
  {
   "cell_type": "code",
   "execution_count": 307,
   "id": "2ff16c81-214d-4475-9f4c-cb4fa06a2c87",
   "metadata": {},
   "outputs": [
    {
     "name": "stdout",
     "output_type": "stream",
     "text": [
      "shutdown\n"
     ]
    }
   ],
   "source": [
    "import enum\n",
    "\n",
    "db = {\n",
    "    'stack1' : 1,\n",
    "    'stack2' : 2,\n",
    "}\n",
    "\n",
    "class Status(enum.IntEnum): ###\n",
    "    ACTIVE = 1\n",
    "    INACTIVE = 2\n",
    "    RUNNING = 3\n",
    "    \n",
    "if db['stack1'] == Status.ACTIVE:  ###\n",
    "    print('shutdown')\n",
    "elif db['stack2'] == Status.INACTIVE:\n",
    "    print('terminated')"
   ]
  },
  {
   "cell_type": "code",
   "execution_count": 312,
   "id": "e20a84c2-432d-4f91-b998-b68b6a1bd331",
   "metadata": {},
   "outputs": [
    {
     "name": "stdout",
     "output_type": "stream",
     "text": [
      "Status.ACTIVE\n",
      "<enum 'Status'>\n",
      "True\n"
     ]
    }
   ],
   "source": [
    "import enum\n",
    "\n",
    "db = {\n",
    "    'stack1' : 1,\n",
    "    'stack2' : 2,\n",
    "}\n",
    "\n",
    "class Status(enum.IntEnum):\n",
    "    ACTIVE = 1\n",
    "    INACTIVE = 2\n",
    "    RUNNING = 3\n",
    "    \n",
    "print(Status.ACTIVE)\n",
    "print(type(Status.ACTIVE))\n",
    "print(Status.ACTIVE == 1)"
   ]
  },
  {
   "cell_type": "code",
   "execution_count": 319,
   "id": "3bd4282e-da48-4eea-88a3-885facdd3250",
   "metadata": {},
   "outputs": [
    {
     "name": "stdout",
     "output_type": "stream",
     "text": [
      "Perm.R|W|X\n",
      "<Perm.R|W|X: 7>\n",
      "True\n"
     ]
    }
   ],
   "source": [
    "import enum\n",
    "\n",
    "class Perm(enum.IntFlag):\n",
    "    R = 4\n",
    "    W = 2\n",
    "    X = 1\n",
    "\n",
    "\n",
    "print(Perm.R | Perm.W | Perm.X)\n",
    "print(repr(Perm.R | Perm.W | Perm.X))\n",
    "\n",
    "RWX = Perm.R | Perm.W | Perm.X\n",
    "print (Perm.R in RWX)"
   ]
  },
  {
   "cell_type": "markdown",
   "id": "8545dd37-6525-4b72-ab7e-50350c525205",
   "metadata": {},
   "source": [
    "# 241 functools.lru_cache 와 memoize"
   ]
  },
  {
   "cell_type": "code",
   "execution_count": 326,
   "id": "e6dd6d1c-7b92-44d3-b0ab-2de3c4e9f4ee",
   "metadata": {},
   "outputs": [
    {
     "name": "stdout",
     "output_type": "stream",
     "text": [
      "hit\n",
      "{0: 0}\n",
      "0\n",
      "hit\n",
      "{0: 0, 1: 49999995000000}\n",
      "49999995000000\n",
      "hit\n",
      "{0: 0, 1: 49999995000000, 2: 99999990000000}\n",
      "99999990000000\n",
      "hit\n",
      "{0: 0, 1: 49999995000000, 2: 99999990000000, 3: 149999985000000}\n",
      "149999985000000\n",
      "hit\n",
      "{0: 0, 1: 49999995000000, 2: 99999990000000, 3: 149999985000000, 4: 199999980000000}\n",
      "199999980000000\n",
      "hit\n",
      "{0: 0, 1: 49999995000000, 2: 99999990000000, 3: 149999985000000, 4: 199999980000000, 5: 249999975000000}\n",
      "249999975000000\n",
      "hit\n",
      "{0: 0, 1: 49999995000000, 2: 99999990000000, 3: 149999985000000, 4: 199999980000000, 5: 249999975000000, 6: 299999970000000}\n",
      "299999970000000\n",
      "hit\n",
      "{0: 0, 1: 49999995000000, 2: 99999990000000, 3: 149999985000000, 4: 199999980000000, 5: 249999975000000, 6: 299999970000000, 7: 349999965000000}\n",
      "349999965000000\n",
      "hit\n",
      "{0: 0, 1: 49999995000000, 2: 99999990000000, 3: 149999985000000, 4: 199999980000000, 5: 249999975000000, 6: 299999970000000, 7: 349999965000000, 8: 399999960000000}\n",
      "399999960000000\n",
      "hit\n",
      "{0: 0, 1: 49999995000000, 2: 99999990000000, 3: 149999985000000, 4: 199999980000000, 5: 249999975000000, 6: 299999970000000, 7: 349999965000000, 8: 399999960000000, 9: 449999955000000}\n",
      "449999955000000\n",
      "next run\n",
      "0\n",
      "49999995000000\n",
      "99999990000000\n",
      "149999985000000\n",
      "199999980000000\n",
      "249999975000000\n",
      "299999970000000\n",
      "349999965000000\n",
      "399999960000000\n",
      "449999955000000\n"
     ]
    }
   ],
   "source": [
    "def memorize(f):\n",
    "    memo = {}\n",
    "    def _wrapper(n):\n",
    "        if n not in memo:\n",
    "            memo[n] = f(n)\n",
    "            print('hit')\n",
    "            print(memo)\n",
    "        return memo[n]\n",
    "    return _wrapper\n",
    "\n",
    "@memorize\n",
    "def long_func(n):\n",
    "    r = 0\n",
    "    for i in range(10000000):\n",
    "        r += n * i\n",
    "    return r\n",
    "\n",
    "\n",
    "for i in range(10):\n",
    "    print(long_func(i))\n",
    "    \n",
    "print('next run')\n",
    "for i in range(10):\n",
    "    print(long_func(i))"
   ]
  },
  {
   "cell_type": "code",
   "execution_count": 328,
   "id": "269de5cd-8dbf-4c3d-b515-4b474d51b23d",
   "metadata": {},
   "outputs": [
    {
     "name": "stdout",
     "output_type": "stream",
     "text": [
      "0\n",
      "49999995000000\n",
      "99999990000000\n",
      "149999985000000\n",
      "199999980000000\n",
      "249999975000000\n",
      "299999970000000\n",
      "349999965000000\n",
      "399999960000000\n",
      "449999955000000\n",
      "next run\n",
      "0\n",
      "49999995000000\n",
      "99999990000000\n",
      "149999985000000\n",
      "199999980000000\n",
      "249999975000000\n",
      "299999970000000\n",
      "349999965000000\n",
      "399999960000000\n",
      "449999955000000\n"
     ]
    }
   ],
   "source": [
    "import functools\n",
    "\n",
    "@functools.lru_cache()\n",
    "def long_func(n):\n",
    "    r = 0\n",
    "    for i in range(10000000):\n",
    "        r += n * i\n",
    "    return r\n",
    "\n",
    "\n",
    "for i in range(10):\n",
    "    print(long_func(i))\n",
    "    \n",
    "print('next run')\n",
    "for i in range(10):\n",
    "    print(long_func(i))"
   ]
  },
  {
   "cell_type": "code",
   "execution_count": 333,
   "id": "fe0bf601-9a9b-4452-ab22-acdc1dbdf7d7",
   "metadata": {},
   "outputs": [
    {
     "name": "stdout",
     "output_type": "stream",
     "text": [
      "0\n",
      "49999995000000\n",
      "99999990000000\n",
      "149999985000000\n",
      "199999980000000\n",
      "249999975000000\n",
      "299999970000000\n",
      "349999965000000\n",
      "399999960000000\n",
      "449999955000000\n",
      "next run\n",
      "449999955000000\n",
      "399999960000000\n",
      "349999965000000\n",
      "299999970000000\n",
      "249999975000000\n",
      "199999980000000\n",
      "149999985000000\n",
      "99999990000000\n",
      "49999995000000\n",
      "0\n",
      "CacheInfo(hits=5, misses=15, maxsize=5, currsize=5)\n"
     ]
    }
   ],
   "source": [
    "import functools\n",
    "\n",
    "@functools.lru_cache(maxsize=5)\n",
    "def long_func(n):\n",
    "    r = 0\n",
    "    for i in range(10000000):\n",
    "        r += n * i\n",
    "    return r\n",
    "\n",
    "\n",
    "for i in range(10):\n",
    "    print(long_func(i))\n",
    "\n",
    "print('next run')\n",
    "for i in reversed(range(10)):\n",
    "    print(long_func(i))\n",
    "\n",
    "print(long_func.cache_info())\n",
    "\n",
    "long_func.cache_clear()"
   ]
  },
  {
   "cell_type": "markdown",
   "id": "e418ad64-cc5b-449e-a9bc-4d03b1957af2",
   "metadata": {},
   "source": [
    "# 242 functools.wraps"
   ]
  },
  {
   "cell_type": "code",
   "execution_count": 342,
   "id": "6c5ee04a-2287-447a-bb6b-3f06f6142fa9",
   "metadata": {},
   "outputs": [
    {
     "name": "stdout",
     "output_type": "stream",
     "text": [
      " Wrapper docstirng\n",
      "\n",
      "Help on function w in module __main__:\n",
      "\n",
      "w()\n",
      "    Wrapper docstirng\n",
      "\n"
     ]
    }
   ],
   "source": [
    "def d(f):\n",
    "    def w():\n",
    "        \"\"\" Wrapper docstirng\"\"\"\n",
    "        print('decorator')\n",
    "        return f()\n",
    "    return w\n",
    "\n",
    "@d\n",
    "def example():\n",
    "    \"\"\" Example docstring\"\"\"\n",
    "    print('example')\n",
    "\n",
    "print(example.__doc__)\n",
    "print()\n",
    "help(example)\n"
   ]
  },
  {
   "cell_type": "code",
   "execution_count": 343,
   "id": "29b818ed-2d1b-425a-ab68-dde6c1e1aa58",
   "metadata": {},
   "outputs": [
    {
     "name": "stdout",
     "output_type": "stream",
     "text": [
      " Example docstring\n",
      "\n",
      "Help on function example in module __main__:\n",
      "\n",
      "example()\n",
      "    Example docstring\n",
      "\n"
     ]
    }
   ],
   "source": [
    "import functools\n",
    "\n",
    "def d(f):\n",
    "    @functools.wraps(f)\n",
    "    def w():\n",
    "        \"\"\" Wrapper docstirng\"\"\"\n",
    "        print('decorator')\n",
    "        return f()\n",
    "    return w\n",
    "\n",
    "@d\n",
    "def example():\n",
    "    \"\"\" Example docstring\"\"\"\n",
    "    print('example')\n",
    "\n",
    "print(example.__doc__)\n",
    "print()\n",
    "help(example)\n"
   ]
  },
  {
   "cell_type": "markdown",
   "id": "f0fb5c77-b4aa-4805-9e04-f805196e6f3d",
   "metadata": {},
   "source": [
    "# 243 functools.partial"
   ]
  },
  {
   "cell_type": "code",
   "execution_count": 345,
   "id": "98f46564-adfd-4f2a-b15f-8074fa6469d1",
   "metadata": {},
   "outputs": [
    {
     "name": "stdout",
     "output_type": "stream",
     "text": [
      "start\n",
      "30\n"
     ]
    }
   ],
   "source": [
    "def f(x, y):\n",
    "    return x + y\n",
    "\n",
    "\n",
    "def task(f):\n",
    "    print('start')\n",
    "    print(f(10, 20))\n",
    "    \n",
    "    \n",
    "task(f)"
   ]
  },
  {
   "cell_type": "code",
   "execution_count": 352,
   "id": "b370ca44-63fc-4394-97db-d164b7cde39f",
   "metadata": {},
   "outputs": [
    {
     "name": "stdout",
     "output_type": "stream",
     "text": [
      "start\n",
      "30\n"
     ]
    }
   ],
   "source": [
    "# lambda\n",
    "def task(f):\n",
    "    print('start')\n",
    "    print(f(10, 20))\n",
    "\n",
    "task(lambda x, y : x + y )"
   ]
  },
  {
   "cell_type": "code",
   "execution_count": 353,
   "id": "ff5e4a83-c9a8-4d57-b411-ea08e1e85b6c",
   "metadata": {},
   "outputs": [
    {
     "name": "stdout",
     "output_type": "stream",
     "text": [
      "start\n",
      "30\n"
     ]
    }
   ],
   "source": [
    "# clouser\n",
    "\n",
    "def task(f):\n",
    "    print('start')\n",
    "    print(f())\n",
    "\n",
    "\n",
    "def outer(x, y):\n",
    "    def inner():\n",
    "        return x + y\n",
    "    return inner\n",
    "\n",
    "f = outer(10, 20)\n",
    "task(f)"
   ]
  },
  {
   "cell_type": "code",
   "execution_count": 354,
   "id": "312ff75a-0f11-4def-bcbb-29c6284dfa85",
   "metadata": {},
   "outputs": [
    {
     "name": "stdout",
     "output_type": "stream",
     "text": [
      "start\n",
      "30\n"
     ]
    }
   ],
   "source": [
    "import functools\n",
    "\n",
    "def f(x, y):\n",
    "    return x + y\n",
    "\n",
    "def task(f):\n",
    "    print('start')\n",
    "    print(f())\n",
    "    \n",
    "\n",
    "p = functools.partial(f, 10, 20)\n",
    "task(p)"
   ]
  },
  {
   "cell_type": "code",
   "execution_count": null,
   "id": "d4d6a987-38c0-49ed-9e7b-b848e8603ce7",
   "metadata": {},
   "outputs": [],
   "source": []
  }
 ],
 "metadata": {
  "kernelspec": {
   "display_name": "Python 3",
   "language": "python",
   "name": "python3"
  },
  "language_info": {
   "codemirror_mode": {
    "name": "ipython",
    "version": 3
   },
   "file_extension": ".py",
   "mimetype": "text/x-python",
   "name": "python",
   "nbconvert_exporter": "python",
   "pygments_lexer": "ipython3",
   "version": "3.8.8"
  }
 },
 "nbformat": 4,
 "nbformat_minor": 5
}
