{
 "cells": [
  {
   "cell_type": "code",
   "execution_count": 4,
   "id": "61a106b3-efb6-4393-b50c-4c8413ca306a",
   "metadata": {},
   "outputs": [
    {
     "data": {
      "text/plain": [
       "'\\npip install pep8\\npip install flake8\\npip install pylint\\n'"
      ]
     },
     "execution_count": 4,
     "metadata": {},
     "output_type": "execute_result"
    }
   ],
   "source": [
    "\"\"\"\n",
    "pip install pep8\n",
    "pip install flake8\n",
    "pip install pylint\n",
    "\"\"\"\n",
    "\n",
    "#스타일 체크"
   ]
  },
  {
   "cell_type": "code",
   "execution_count": null,
   "id": "db934d24-24db-47a1-8346-27e43f52c665",
   "metadata": {},
   "outputs": [],
   "source": []
  }
 ],
 "metadata": {
  "kernelspec": {
   "display_name": "Python 3 (ipykernel)",
   "language": "python",
   "name": "python3"
  },
  "language_info": {
   "codemirror_mode": {
    "name": "ipython",
    "version": 3
   },
   "file_extension": ".py",
   "mimetype": "text/x-python",
   "name": "python",
   "nbconvert_exporter": "python",
   "pygments_lexer": "ipython3",
   "version": "3.9.6"
  }
 },
 "nbformat": 4,
 "nbformat_minor": 5
}
