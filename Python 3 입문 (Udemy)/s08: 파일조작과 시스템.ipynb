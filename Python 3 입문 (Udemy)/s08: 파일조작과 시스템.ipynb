{
 "cells": [
  {
   "cell_type": "code",
   "execution_count": 18,
   "id": "61a106b3-efb6-4393-b50c-4c8413ca306a",
   "metadata": {},
   "outputs": [],
   "source": [
    "# 91 파일 생성\n",
    "\n",
    "f = open('text.txt', 'w')\n",
    "f.write('Text\\n')\n",
    "print('My', 'Name', 'is', 'Mike', sep='#', end='!', file=f)\n",
    "\n",
    "f.close()"
   ]
  },
  {
   "cell_type": "code",
   "execution_count": 13,
   "id": "fcdb205f-bd06-4e50-a29a-45a53aa26493",
   "metadata": {},
   "outputs": [],
   "source": [
    "# 92 with 파일 열기, close 없어 더 선호됨\n",
    "\n",
    "with open('text.txt', 'w') as f:\n",
    "    f.write('Text\\n')"
   ]
  },
  {
   "cell_type": "code",
   "execution_count": 23,
   "id": "71ea7ea2-fb77-4085-a1ea-675e0b7a2a3e",
   "metadata": {},
   "outputs": [
    {
     "name": "stdout",
     "output_type": "stream",
     "text": [
      "AAA\n",
      "BBB\n",
      "CCC\n",
      "DDDAA\n",
      "A\n",
      "\n",
      "BB\n",
      "B\n",
      "\n",
      "CC\n",
      "C\n",
      "\n",
      "DD\n",
      "D\n",
      "\n"
     ]
    }
   ],
   "source": [
    "# 93 파일 읽기\n",
    "\n",
    "s = \"\"\"\\\n",
    "AAA\n",
    "BBB\n",
    "CCC\n",
    "DDD\"\"\"\n",
    "\n",
    "with open('text.txt', 'w') as f:\n",
    "    f.write(s)    \n",
    "    \n",
    "with open('text.txt', 'r') as f:\n",
    "#    print(f.read())\n",
    "    while True:\n",
    "        line = f.readline()\n",
    "        print(line, end='')\n",
    "        if not line:\n",
    "            break\n",
    "\n",
    "            \n",
    "with open('text.txt', 'r') as f:\n",
    "#    print(f.read())\n",
    "    while True:\n",
    "        chunk = 2\n",
    "        line = f.read(chunk) ## 2자씩 읽기 (스트림에서 사용\n",
    "        print(line)\n",
    "        if not line:\n",
    "            break\n",
    "\n"
   ]
  },
  {
   "cell_type": "code",
   "execution_count": 31,
   "id": "ec6ac6ef-5b14-462b-b985-40cd83d1b892",
   "metadata": {},
   "outputs": [
    {
     "name": "stdout",
     "output_type": "stream",
     "text": [
      "0\n",
      "A\n",
      "B\n",
      "D\n",
      "B\n"
     ]
    }
   ],
   "source": [
    "# 94 파일 읽기\n",
    "\n",
    "s = \"\"\"\\\n",
    "AAA\n",
    "BBB\n",
    "CCC\n",
    "DDD\"\"\"\n",
    "\n",
    "with open('text.txt', 'w') as f:\n",
    "    f.write(s)    \n",
    "    \n",
    "with open('text.txt', 'r') as f:\n",
    "#     print(f.read())\n",
    "#     while True:\n",
    "#         chunk = 2\n",
    "#         line = f.read(chunk) ## 2자씩 읽기 (스트림에서 사용\n",
    "#         print(line)\n",
    "#         if not line:\n",
    "#             break\n",
    "    print(f.tell()) # 현재 파일 읽어들이는 위치\n",
    "    print(f.read(1))\n",
    "    f.seek(5) \n",
    "    print(f.read(1))\n",
    "    f.seek(14)\n",
    "    print(f.read(1))\n",
    "    f.seek(5) \n",
    "    print(f.read(1))"
   ]
  },
  {
   "cell_type": "code",
   "execution_count": 39,
   "id": "7a6fa6b5-ed42-4e95-b727-155e03ad84e5",
   "metadata": {},
   "outputs": [
    {
     "name": "stdout",
     "output_type": "stream",
     "text": [
      "AAA\n",
      "BBB\n",
      "CCC\n",
      "DDD\n",
      "AAA\n",
      "BBB\n",
      "CCC\n",
      "DDD\n"
     ]
    }
   ],
   "source": [
    "# 94 파일 읽고 쓰기\n",
    "\n",
    "s = \"\"\"\\\n",
    "AAA\n",
    "BBB\n",
    "CCC\n",
    "DDD\"\"\"\n",
    "\n",
    "with open('text.txt', 'w+') as f:\n",
    "    f.write(s)    \n",
    "    f.seek(0)\n",
    "    print(f.read())\n",
    "    \n",
    "    \n",
    "with open('text.txt', 'r+') as f: # 파일이 없으면 에러 발생\n",
    "    print(f.read())\n",
    "    f.seek(0)\n",
    "    f.write(s) "
   ]
  },
  {
   "cell_type": "code",
   "execution_count": 47,
   "id": "9b7807e2-e130-4d4b-a139-8046f8d6f224",
   "metadata": {},
   "outputs": [
    {
     "name": "stdout",
     "output_type": "stream",
     "text": [
      "\n",
      "Hi Mike.\n",
      "\n",
      "How are you?\n",
      "\n",
      "Have a good day\n",
      "\n",
      "#######################\n",
      "\n",
      "Hi Mike.\n",
      "\n",
      "How are you?\n",
      "\n",
      "Have a good day\n",
      "\n"
     ]
    }
   ],
   "source": [
    "# 96 탬플릿\n",
    "\n",
    "import string\n",
    "\n",
    "s = \"\"\"\\\n",
    "\n",
    "Hi $name.\n",
    "\n",
    "$contents\n",
    "\n",
    "Have a good day\n",
    "\"\"\"\n",
    "\n",
    "t = string.Template(s)\n",
    "contents = t.substitute(name = 'Mike', contents = \"How are you?\")\n",
    "print(contents)\n",
    "\n",
    "with open('text.txt', 'w') as f:\n",
    "    f.write(s)\n",
    "\n",
    "print(\"#######################\")\n",
    "\n",
    "with open('text.txt') as f:\n",
    "    t = string.Template(s)\n",
    "    \n",
    "contents = t.substitute(name = 'Mike', contents = \"How are you?\")\n",
    "print(contents)"
   ]
  },
  {
   "cell_type": "code",
   "execution_count": 53,
   "id": "ed13e5cc-f6d4-4c59-9eaf-b2c98eb50dfc",
   "metadata": {},
   "outputs": [
    {
     "name": "stdout",
     "output_type": "stream",
     "text": [
      "A 1\n",
      "B 2\n"
     ]
    }
   ],
   "source": [
    "# 97. csv 파일 읽고 쓰기\n",
    "\n",
    "import csv\n",
    "\n",
    "with open ('test.csv', 'w') as csv_file:\n",
    "    fieldnames = ['Name', 'Count']\n",
    "    writer = csv.DictWriter(csv_file, fieldnames=fieldnames)\n",
    "    writer.writeheader()\n",
    "    writer.writerow({'Name': 'A', 'Count' : 1})\n",
    "    writer.writerow({'Name': 'B', 'Count' : 2})\n",
    "    \n",
    "with open('test.csv', 'r') as csv_file:\n",
    "    reader = csv.DictReader(csv_file)\n",
    "    for row in reader:\n",
    "        print(row['Name'], row['Count'])"
   ]
  },
  {
   "cell_type": "code",
   "execution_count": 98,
   "id": "34c02608-1e8a-4440-8683-997e27e41e44",
   "metadata": {},
   "outputs": [
    {
     "name": "stdout",
     "output_type": "stream",
     "text": [
      "True\n",
      "True\n",
      "False\n",
      "['test_dir3']\n",
      "['test_dir/test_dir3/empty.txt', 'test_dir/test_dir3/empty2.txt']\n",
      "/Users/jspark/Documents/git/0.-potato-chip/Python 3 입문 (Udemy)\n"
     ]
    }
   ],
   "source": [
    "# 98. 파일 조작\n",
    "import os\n",
    "import pathlib\n",
    "import glob\n",
    "import shutil\n",
    "\n",
    "pathlib.Path('text.txt').touch()\n",
    "\n",
    "print(os.path.exists('text.txt'))\n",
    "print(os.path.isfile('text.txt'))\n",
    "print(os.path.isdir('text.txt'))\n",
    "\n",
    "os.rename('text.txt', 'renamed.txt')\n",
    "os.symlink('renamed.txt', 'symlink.txt')\n",
    "os.mkdir('text_dir')\n",
    "\n",
    "pathlib.Path('empty.txt').touch()\n",
    "os.remove('empty.txt')\n",
    "\n",
    "os.mkdir('test_dir')\n",
    "os.mkdir('test_dir/test_dir3')\n",
    "print(os.listdir('test_dir'))\n",
    "pathlib.Path ('test_dir/test_dir3/empty.txt').touch()\n",
    "shutil.copy('test_dir/test_dir3/empty.txt', 'test_dir/test_dir3/empty2.txt')\n",
    "print(glob.glob('test_dir/test_dir3/*'))\n",
    "\n",
    "#shutil.rmtree('test_dir')\n",
    "#shutil.rmtree('text_dir')\n",
    "\n",
    "#os.remove('symlink.txt')\n",
    "#os.remove('renamed.txt')\n",
    "\n",
    "print(os.getcwd())"
   ]
  },
  {
   "cell_type": "code",
   "execution_count": 102,
   "id": "039bd20c-71b7-481d-ace6-9eebe6bde049",
   "metadata": {},
   "outputs": [],
   "source": [
    "# 99. tar 다루기\n",
    "\n",
    "import tarfile\n",
    "\n",
    "with tarfile.open('test.tar.gz', 'w:gz') as tr:\n",
    "    tr.add('test_dir')\n",
    "\n",
    "with tarfile.open('test.tar.gz', 'r:gz') as tr:\n",
    "    tr.extractall(path='test_tar')\n",
    "#    with tr.extractfile('test_dir/sub_dir/sub_test.txt') as f:\n",
    "#        print(f.read())"
   ]
  },
  {
   "cell_type": "code",
   "execution_count": 107,
   "id": "71fc582e-a3c1-4f22-8b52-1b25e582589e",
   "metadata": {},
   "outputs": [
    {
     "name": "stdout",
     "output_type": "stream",
     "text": [
      "test_dir/\n",
      "test_dir/test_dir3\n",
      "test_dir/test_dir3/empty.txt\n",
      "test_dir/test_dir3/empty2.txt\n"
     ]
    }
   ],
   "source": [
    "# 100. zip 다루기\n",
    "import glob\n",
    "import zipfile\n",
    "\n",
    "with zipfile.ZipFile('test.zip', 'w') as z:\n",
    "#    z.write('test_dir')\n",
    "#    z.write('test_dir/test_dir3')\n",
    "    for f in glob.glob('test_dir/**', recursive=True):\n",
    "        print(f)\n",
    "        z.write(f)\n",
    "\n",
    "with zipfile.ZipFile('test.zip', 'r') as z:\n",
    "    z.extractall('zzz2')\n",
    "#    with z.open('test_dir/test.txt') as f:\n",
    "#        print(f.read())"
   ]
  },
  {
   "cell_type": "code",
   "execution_count": 112,
   "id": "45875dcd-2354-48ef-ac6c-68948eac4568",
   "metadata": {},
   "outputs": [
    {
     "name": "stdout",
     "output_type": "stream",
     "text": [
      "hello\n",
      "/var/folders/g0/lxmhvgvj6vvd6r99v8pz5dnm0000gn/T/tmpeohg8x76\n"
     ]
    }
   ],
   "source": [
    "# 101. tempfile\n",
    "\n",
    "import tempfile\n",
    "\n",
    "with tempfile.TemporaryFile(mode='w+') as t:\n",
    "    t.write('hello')\n",
    "    t.seek(0)\n",
    "    print(t.read())\n",
    "\n",
    "# with tempfile.NamedTemporaryFile(delete=False) as t:\n",
    "#     with open(t.name, 'w+') as f:\n",
    "#         f.write('test\\n')\n",
    "#         f.seek(0)\n",
    "#         print(f.read())\n",
    "\n",
    "with tempfile.TemporaryDirectory() as td:\n",
    "    print(td)"
   ]
  },
  {
   "cell_type": "code",
   "execution_count": 127,
   "id": "60833b8c-c34e-40d8-b6f5-8072da29e912",
   "metadata": {},
   "outputs": [
    {
     "name": "stdout",
     "output_type": "stream",
     "text": [
      "####\n",
      "b'drwxr-xr-x@ 10 jspark  staff    320  8 20 13:42 .ipynb_checkpoints\\n-rw-r--r--   1 jspark  staff  17201  8 16 23:22 s03: Python \\xe1\\x84\\x80\\xe1\\x85\\xb5\\xe1\\x84\\x87\\xe1\\x85\\xa9\\xe1\\x86\\xab.ipynb\\n-rw-r--r--   1 jspark  staff   8925  8 18 23:14 s04: \\xeb\\x8d\\xb0\\xec\\x9d\\xb4\\xed\\x84\\xb0 \\xea\\xb5\\xac\\xec\\xa1\\xb0.ipynb\\n-rw-r--r--   1 jspark  staff  17565  8 19 15:05 s05: \\xe1\\x84\\x8c\\xe1\\x85\\xa6\\xe1\\x84\\x8b\\xe1\\x85\\xa5 \\xe1\\x84\\x91\\xe1\\x85\\xb3\\xe1\\x86\\xaf\\xe1\\x84\\x85\\xe1\\x85\\xa9\\xe1\\x84\\x8b\\xe1\\x85\\xaa \\xe1\\x84\\x8f\\xe1\\x85\\xa9\\xe1\\x84\\x83\\xe1\\x85\\xb3 \\xe1\\x84\\x80\\xe1\\x85\\xae\\xe1\\x84\\x8c\\xe1\\x85\\xa9.ipynb\\n-rw-r--r--   1 jspark  staff   6109  8 20 10:15 s06: \\xeb\\xaa\\xa8\\xeb\\x93\\x88\\xea\\xb3\\xbc \\xed\\x8c\\xa8\\xed\\x82\\xa4\\xec\\xa7\\x80.ipynb\\n-rw-r--r--   1 jspark  staff  16315  8 20 13:12 s07: \\xe1\\x84\\x80\\xe1\\x85\\xa2\\xe1\\x86\\xa8\\xe1\\x84\\x8e\\xe1\\x85\\xa6\\xe1\\x84\\x8b\\xe1\\x85\\xaa \\xe1\\x84\\x8f\\xe1\\x85\\xb3\\xe1\\x86\\xaf\\xe1\\x84\\x85\\xe1\\x85\\xa2\\xe1\\x84\\x89\\xe1\\x85\\xb3.ipynb\\n-rw-r--r--   1 jspark  staff  11233  8 20 15:53 s08: \\xe1\\x84\\x91\\xe1\\x85\\xa1\\xe1\\x84\\x8b\\xe1\\x85\\xb5\\xe1\\x86\\xaf\\xe1\\x84\\x8c\\xe1\\x85\\xa9\\xe1\\x84\\x8c\\xe1\\x85\\xa1\\xe1\\x86\\xa8\\xe1\\x84\\x80\\xe1\\x85\\xaa \\xe1\\x84\\x89\\xe1\\x85\\xb5\\xe1\\x84\\x89\\xe1\\x85\\xb3\\xe1\\x84\\x90\\xe1\\x85\\xa6\\xe1\\x86\\xb7.ipynb\\n-rw-r--r--@  1 jspark  staff    604  8 20 10:30 s09: \\xe1\\x84\\x8b\\xe1\\x85\\xb5\\xe1\\x86\\xb8\\xe1\\x84\\x86\\xe1\\x85\\xae\\xe1\\x86\\xab\\xe1\\x84\\x91\\xe1\\x85\\xa7\\xe1\\x86\\xab \\xe1\\x84\\x86\\xe1\\x85\\xa1\\xe1\\x84\\x86\\xe1\\x85\\xae\\xe1\\x84\\x85\\xe1\\x85\\xb5.ipynb\\n-rw-r--r--@  1 jspark  staff    604  8 20 10:30 s0: .ipynb\\n-rw-r--r--   1 jspark  staff    604  8 20 10:30 s10: \\xe1\\x84\\x8f\\xe1\\x85\\xa9\\xe1\\x84\\x83\\xe1\\x85\\xb5\\xe1\\x86\\xbc \\xe1\\x84\\x89\\xe1\\x85\\xb3\\xe1\\x84\\x90\\xe1\\x85\\xa1\\xe1\\x84\\x8b\\xe1\\x85\\xb5\\xe1\\x86\\xaf.ipynb\\n'\n"
     ]
    }
   ],
   "source": [
    "# 102. subprocess 명령어\n",
    "\n",
    "import os\n",
    "os.system('ls') # 요즘은 안쓰임\n",
    "\n",
    "import subprocess\n",
    "subprocess.run(['ls', '-al'])\n",
    "subprocess.run('ls -al | grep test', shell=True)  # Shell을 실행시킴. 보안에 안좋음!\n",
    "\n",
    "r = subprocess.run('ls', shell=True, check=True)\n",
    "print('####')\n",
    "\n",
    "p1 = subprocess.Popen(['ls', '-al'], stdout=subprocess.PIPE)\n",
    "p2 = subprocess.Popen(['grep', 'ipynb'], stdin=p1.stdout, stdout=subprocess.PIPE)\n",
    "p1.stdout.close()\n",
    "\n",
    "output = p2.communicate()[0]\n",
    "print(output)"
   ]
  },
  {
   "cell_type": "code",
   "execution_count": 138,
   "id": "e05b6ca0-58af-44ef-8777-4e55bdf3dfd2",
   "metadata": {},
   "outputs": [
    {
     "name": "stdout",
     "output_type": "stream",
     "text": [
      "2021-08-20 15:58:09.238196\n",
      "2021-08-20T15:58:09.238196\n",
      "20/08/21-15:58:09.238196\n",
      "2021-08-20\n",
      "2021-08-20\n",
      "20/08/21\n",
      "01:10:00.000100\n",
      "01:10:00.000100\n",
      "01:10:00.000100\n"
     ]
    }
   ],
   "source": [
    "# 103. datetime\n",
    "\n",
    "import datetime\n",
    "\n",
    "now = datetime.datetime.now()\n",
    "print(now)\n",
    "print(now.isoformat())\n",
    "print(now.strftime('%d/%m/%y-%H:%M:%S.%f'))\n",
    "\n",
    "today = datetime.date.today()\n",
    "print(today)\n",
    "print(today.isoformat())\n",
    "print(today.strftime('%d/%m/%y'))\n",
    "\n",
    "t = datetime.time(hour=1, minute=10, microsecond=100)\n",
    "print(t)\n",
    "print(t.isoformat())\n",
    "print(t.strftime('%H:%M:%S.%f'))"
   ]
  },
  {
   "cell_type": "code",
   "execution_count": 142,
   "id": "0678c095-93e5-4328-ab84-982691255509",
   "metadata": {},
   "outputs": [
    {
     "name": "stdout",
     "output_type": "stream",
     "text": [
      "2021-08-20 15:58:09.238196\n",
      "2022-08-20 15:58:09.238196\n"
     ]
    }
   ],
   "source": [
    "print(now)\n",
    "d = datetime.timedelta(weeks=-1)\n",
    "d = datetime.timedelta(days=365)\n",
    "print(now+d)"
   ]
  },
  {
   "cell_type": "code",
   "execution_count": 146,
   "id": "3808e788-817a-45b4-8485-706767c121f7",
   "metadata": {},
   "outputs": [
    {
     "name": "stdout",
     "output_type": "stream",
     "text": [
      "###\n",
      "###\n",
      "1629442799.768617\n"
     ]
    }
   ],
   "source": [
    "import time\n",
    "\n",
    "print(\"###\")\n",
    "time.sleep(2)\n",
    "print(\"###\")\n",
    "\n",
    "print(time.time())"
   ]
  },
  {
   "cell_type": "code",
   "execution_count": 148,
   "id": "791c96ff-4d79-4d33-9260-c84ec4e9dc6f",
   "metadata": {},
   "outputs": [],
   "source": [
    "# 백업 파일 만들기\n",
    "import os\n",
    "import shutil\n",
    "\n",
    "file_name = 'test.txt'\n",
    "if os.path.exists(file_name):\n",
    "    shutil.copy(file_name, \"{}.{}\".format(file_name, now.strftime('%Y-%m-%d-%H.%M.%S')))"
   ]
  },
  {
   "cell_type": "code",
   "execution_count": null,
   "id": "3e8a5de8-8317-4395-b2ce-bef111785cc2",
   "metadata": {},
   "outputs": [],
   "source": []
  }
 ],
 "metadata": {
  "kernelspec": {
   "display_name": "Python 3",
   "language": "python",
   "name": "python3"
  },
  "language_info": {
   "codemirror_mode": {
    "name": "ipython",
    "version": 3
   },
   "file_extension": ".py",
   "mimetype": "text/x-python",
   "name": "python",
   "nbconvert_exporter": "python",
   "pygments_lexer": "ipython3",
   "version": "3.8.8"
  }
 },
 "nbformat": 4,
 "nbformat_minor": 5
}
