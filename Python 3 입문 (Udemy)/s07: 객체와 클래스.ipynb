{
 "cells": [
  {
   "cell_type": "code",
   "execution_count": 4,
   "id": "264fe34e-af58-4382-a26e-5d4e2f50070e",
   "metadata": {},
   "outputs": [
    {
     "name": "stdout",
     "output_type": "stream",
     "text": [
      "hello\n"
     ]
    }
   ],
   "source": [
    "# 78. 클래스 정의\n",
    "\n",
    "# python 3.0 이후 object 생략 가능 (상속)\n",
    "class Person(object):\n",
    "    def say_something(self):\n",
    "        print('hello')\n",
    "        \n",
    "person = Person()\n",
    "person.say_something()"
   ]
  },
  {
   "cell_type": "code",
   "execution_count": 11,
   "id": "0786afda-e6ff-41ea-950e-470670591023",
   "metadata": {},
   "outputs": [
    {
     "name": "stdout",
     "output_type": "stream",
     "text": [
      "I am Mike. hello\n",
      "runrunrunrunrunrunrunrunrunrun\n"
     ]
    }
   ],
   "source": [
    "# 79. 클래스의 초기화과 클래스 변수\n",
    "\n",
    "class Person(object):\n",
    "    def __init__(self, name='Default Name'): # 생성자\n",
    "        self.name = name\n",
    "        \n",
    "    def say_something(self):\n",
    "        print('I am {}. hello'.format(self.name))\n",
    "        self.run(10) # 자기 자신을 불름\n",
    "        \n",
    "    def run(self, num):\n",
    "        print('run' * num)\n",
    "        \n",
    "person = Person('Mike')\n",
    "person.say_something()"
   ]
  },
  {
   "cell_type": "code",
   "execution_count": 15,
   "id": "312285ec-9366-4ec8-ba9c-15f118ef4d98",
   "metadata": {},
   "outputs": [
    {
     "name": "stdout",
     "output_type": "stream",
     "text": [
      "I am Mike. hello\n",
      "runrunrunrunrunrunrunrunrunrun\n",
      "good bye\n",
      "###################\n"
     ]
    }
   ],
   "source": [
    "# 80. 생성자와 소멸자\n",
    "\n",
    "class Person(object):\n",
    "    def __init__(self, name='Default Name'): # 생성자\n",
    "        self.name = name\n",
    "        \n",
    "    def say_something(self):\n",
    "        print('I am {}. hello'.format(self.name))\n",
    "        self.run(10) # 자기 자신을 불름\n",
    "        \n",
    "    def run(self, num):\n",
    "        print('run' * num)\n",
    "        \n",
    "    def __del__(self): # 소멸자\n",
    "        print('good bye')\n",
    "        \n",
    "person = Person('Mike')\n",
    "person.say_something()\n",
    "\n",
    "del person # 소멸자 호출\n",
    "\n",
    "print(\"###################\")"
   ]
  },
  {
   "cell_type": "code",
   "execution_count": 21,
   "id": "d8456b40-84b3-4033-be0c-e3d49afb207e",
   "metadata": {},
   "outputs": [
    {
     "name": "stdout",
     "output_type": "stream",
     "text": [
      "run\n",
      "##################\n",
      "run\n",
      "##################\n",
      "run\n",
      "auto run\n"
     ]
    }
   ],
   "source": [
    "# 81. 클래스 상속\n",
    "\n",
    "class Car(object):\n",
    "    def run(self):\n",
    "        print('run')\n",
    "\n",
    "class ToyotaCar(Car): # Car 상속\n",
    "    pass\n",
    "\n",
    "\n",
    "class TeslaCar(Car):\n",
    "    def auto_run(self):\n",
    "        print('auto run')\n",
    "\n",
    "car = Car()\n",
    "car.run()\n",
    "\n",
    "print(\"##################\")\n",
    "\n",
    "toyota_car = ToyotaCar()\n",
    "toyota_car.run() # 상속된 함수\n",
    "\n",
    "print(\"##################\")\n",
    "\n",
    "tesla_car = TeslaCar()\n",
    "tesla_car.run() # 상속\n",
    "tesla_car.auto_run() # 자기 함수"
   ]
  },
  {
   "cell_type": "code",
   "execution_count": 23,
   "id": "0b855bd6-1a48-4a64-bf94-beefd2bb5923",
   "metadata": {},
   "outputs": [
    {
     "name": "stdout",
     "output_type": "stream",
     "text": [
      "run\n",
      "##################\n",
      "Lexus\n",
      "fast\n",
      "##################\n",
      "Model S\n",
      "super fast\n",
      "auto run\n"
     ]
    }
   ],
   "source": [
    "# 82. Method override, super \n",
    "\n",
    "class Car(object):\n",
    "    def __init__(self, model = None):\n",
    "        self.model = model\n",
    "    def run(self):\n",
    "        print('run')\n",
    "\n",
    "class ToyotaCar(Car): # Car 상속\n",
    "    def run(self):\n",
    "        print('fast')\n",
    "\n",
    "class TeslaCar(Car):\n",
    "    def __init__(self, model='Model S', enable_auto_run=False):\n",
    "        # self.model = model\n",
    "        super().__init__(model) ## 기반 클래스의 생성자 \n",
    "        self.enable_auto_run = enable_auto_run\n",
    "    def run(self):\n",
    "        print('super fast')\n",
    "    def auto_run(self):\n",
    "        print('auto run')\n",
    "\n",
    "car = Car()\n",
    "car.run()\n",
    "\n",
    "print(\"##################\")\n",
    "\n",
    "toyota_car = ToyotaCar('Lexus')\n",
    "print(toyota_car.model)\n",
    "toyota_car.run() # 상속된 함수\n",
    "\n",
    "print(\"##################\")\n",
    "\n",
    "tesla_car = TeslaCar()\n",
    "print(tesla_car.model)\n",
    "tesla_car.run() # 상속\n",
    "tesla_car.auto_run() # 자기 함수"
   ]
  },
  {
   "cell_type": "code",
   "execution_count": 40,
   "id": "167862a7-f4b2-4ce5-8059-f5edd04e8ceb",
   "metadata": {},
   "outputs": [
    {
     "name": "stdout",
     "output_type": "stream",
     "text": [
      "False\n",
      "super fast\n",
      "False\n"
     ]
    }
   ],
   "source": [
    "# 83. Property\n",
    "\n",
    "class Car(object):\n",
    "    def __init__(self, model = None):\n",
    "        self.model = model\n",
    "    def run(self):\n",
    "        print('run')\n",
    "\n",
    "class ToyotaCar(Car): # Car 상속\n",
    "    def run(self):\n",
    "        print('fast')\n",
    "\n",
    "class TeslaCar(Car):\n",
    "    def __init__(self, model='Model S', \n",
    "                 enable_auto_run=False,\n",
    "                 passwd = '123'):\n",
    "        # self.model = model\n",
    "        super().__init__(model) ## 기반 클래스의 생성자 \n",
    "        self.__enable_auto_run = enable_auto_run    # _ <- 프로퍼티를 변경 가능 불가 결정\n",
    "        self._passwd = passwd\n",
    "\n",
    "    @property\n",
    "    def enable_auto_run(self):\n",
    "        return self.__enable_auto_run\n",
    "    \n",
    "    @enable_auto_run.setter\n",
    "    def enable_auto_run(self, is_enable):\n",
    "        if self._passwd == '456':\n",
    "            self._enable_auto_run = is_enable\n",
    "        else:\n",
    "            raise ValueError\n",
    "    \n",
    "    def run(self):\n",
    "        print(self.__enable_auto_run)\n",
    "        print('super fast')\n",
    "    def auto_run(self):\n",
    "        print('auto run')\n",
    "\n",
    "tesla_car = TeslaCar('Model S', passwd='111')\n",
    "tesla_car.run()\n",
    "tesla_car.__enable_auto_run = True\n",
    "print(tesla_car.enable_auto_run)"
   ]
  },
  {
   "cell_type": "code",
   "execution_count": 42,
   "id": "17fd6082-c737-4bc0-8ebe-6a4b9caec48b",
   "metadata": {},
   "outputs": [
    {
     "name": "stdout",
     "output_type": "stream",
     "text": [
      "Mike 20\n"
     ]
    }
   ],
   "source": [
    "# 84 클래스 주의점\n",
    "\n",
    "class T(object):\n",
    "    pass\n",
    "\n",
    "t = T()\n",
    "\n",
    "t.name = 'Mike' # 덮어써버린다. 버그도 아님\n",
    "t.age = 20\n",
    "print(t.name, t.age)"
   ]
  },
  {
   "cell_type": "code",
   "execution_count": 49,
   "id": "7e4a5c10-6d15-4646-87d8-a6a4f8509cfe",
   "metadata": {},
   "outputs": [
    {
     "name": "stdout",
     "output_type": "stream",
     "text": [
      "ok\n"
     ]
    }
   ],
   "source": [
    "# 85. 덕타이핑\n",
    "\n",
    "class Person(object):\n",
    "    def __init__(self, age = 1):\n",
    "        self.age = age\n",
    "        \n",
    "    def drive(self):\n",
    "        if self.age >= 18:\n",
    "            print('ok')\n",
    "        else:\n",
    "            raise Exception('No drive')\n",
    "            \n",
    "class Baby(Person):\n",
    "    def __init__(self, age = 1):\n",
    "        if age < 18:\n",
    "            super().__init__(age)\n",
    "        else:\n",
    "            raise ValueError\n",
    "\n",
    "\n",
    "class Adult(Person):\n",
    "    def __init__(self, age = 18):\n",
    "        if age >= 18:\n",
    "            super().__init__(age)\n",
    "        else:\n",
    "            raise ValueError\n",
    "\n",
    "class Car(object):\n",
    "    def __init__(self, model = None):\n",
    "        self.model = model\n",
    "    def run(self):\n",
    "        print('run')\n",
    "    def ride(self, person):\n",
    "        person.drive()\n",
    "\n",
    "\n",
    "baby = Baby()\n",
    "adult = Adult()            \n",
    "\n",
    "car = Car()\n",
    "car.ride(adult)\n",
    "#car.ride(baby)"
   ]
  },
  {
   "cell_type": "code",
   "execution_count": 53,
   "id": "2665af5d-76b3-4880-81f1-4559011d3aab",
   "metadata": {},
   "outputs": [
    {
     "name": "stdout",
     "output_type": "stream",
     "text": [
      "ok\n"
     ]
    }
   ],
   "source": [
    "# 86. 추상클래스\n",
    "\n",
    "import abc\n",
    "\n",
    "# 추상클래스 - 필수가 아닌데... \n",
    "class Person(metaclass=abc.ABCMeta):\n",
    "    def __init__(self, age = 1):\n",
    "        self.age = age\n",
    "    \n",
    "    # 함수를 만들도록 강제함\n",
    "    @abc.abstractclassmethod\n",
    "    def drive(self):\n",
    "        pass\n",
    "            \n",
    "class Baby(Person):\n",
    "    def __init__(self, age = 1):\n",
    "        if age < 18:\n",
    "            super().__init__(age)\n",
    "        else:\n",
    "            raise ValueError\n",
    "    def drive(self):\n",
    "        raise Exception('No drive')\n",
    "\n",
    "\n",
    "class Adult(Person):\n",
    "    def __init__(self, age = 18):\n",
    "        if age >= 18:\n",
    "            super().__init__(age)\n",
    "        else:\n",
    "            raise ValueError\n",
    "    def drive(self):\n",
    "        print(\"ok\")\n",
    "\n",
    "class Car(object):\n",
    "    def __init__(self, model = None):\n",
    "        self.model = model\n",
    "    def run(self):\n",
    "        print('run')\n",
    "    def ride(self, person):\n",
    "        person.drive()\n",
    "\n",
    "\n",
    "baby = Baby()\n",
    "adult = Adult()            \n",
    "\n",
    "car = Car()\n",
    "car.ride(adult)\n",
    "#car.ride(baby)"
   ]
  },
  {
   "cell_type": "code",
   "execution_count": 58,
   "id": "22b142a1-0bbe-4b62-852f-e17db272b613",
   "metadata": {},
   "outputs": [
    {
     "name": "stdout",
     "output_type": "stream",
     "text": [
      "talk\n",
      "person run\n",
      "fly\n"
     ]
    }
   ],
   "source": [
    "# 87 다중 계승  - 개발에 자주 쓰이지 않음\n",
    "\n",
    "class Person(object):\n",
    "    def talk(self):\n",
    "        print('talk')\n",
    "    def run(self): # <- 먼저 실행됨\n",
    "        print('person run')\n",
    "                \n",
    "class Car(object):\n",
    "    def run(self):\n",
    "        print('car run')\n",
    "        \n",
    "class PersonCarRobot(Person, Car): # 다중 상속\n",
    "    def fly(self):\n",
    "        print('fly')\n",
    "\n",
    "        \n",
    "person_car_robot = PersonCarRobot()\n",
    "person_car_robot.talk()\n",
    "person_car_robot.run() # 다중상속, 왼쪽에 있는것이 먼저 실행됨\n",
    "person_car_robot.fly()"
   ]
  },
  {
   "cell_type": "code",
   "execution_count": 67,
   "id": "a456454d-ae7d-43ad-bc2e-5033507c441b",
   "metadata": {},
   "outputs": [
    {
     "name": "stdout",
     "output_type": "stream",
     "text": [
      "A human\n",
      "B human\n",
      "['1', '2', '3', '4']\n",
      "['1', '2', '3', '4']\n",
      "['1', '2']\n",
      "['3', '4']\n"
     ]
    }
   ],
   "source": [
    "# 88. 클래스 변수\n",
    "\n",
    "class Person(object):\n",
    "    \n",
    "    kind = 'human'  # 클래스 변수 - 클래스가 공유\n",
    "    \n",
    "    def __init__(self, name):\n",
    "        self.name = name\n",
    "        \n",
    "    def who_are_you(self):\n",
    "        print(self.name, self.kind)\n",
    "        \n",
    "a = Person('A')\n",
    "a.who_are_you()\n",
    "\n",
    "b = Person('B')\n",
    "b.who_are_you()\n",
    "\n",
    "class T(object):\n",
    "    \n",
    "    words = []\n",
    "    \n",
    "    def add_word(self, word):\n",
    "        self.words.append(word)\n",
    "    \n",
    "c = T()\n",
    "c.add_word('1')\n",
    "c.add_word('2')\n",
    "\n",
    "d = T()\n",
    "d.add_word('3')\n",
    "d.add_word('4')\n",
    "\n",
    "print(c.words) \n",
    "print(d.words) \n",
    "\n",
    "class T(object):\n",
    "\n",
    "    def __init__(self):\n",
    "        self.words = []\n",
    "    \n",
    "    def add_word(self, word):\n",
    "        self.words.append(word)\n",
    "    \n",
    "c = T()\n",
    "c.add_word('1')\n",
    "c.add_word('2')\n",
    "\n",
    "d = T()\n",
    "d.add_word('3')\n",
    "d.add_word('4')\n",
    "\n",
    "print(c.words) \n",
    "print(d.words) "
   ]
  },
  {
   "cell_type": "code",
   "execution_count": 84,
   "id": "e4566948-9868-4795-8662-fe2ff143ff1b",
   "metadata": {},
   "outputs": [
    {
     "name": "stdout",
     "output_type": "stream",
     "text": [
      "<__main__.Person object at 0x7fda782373d0>\n",
      "100\n",
      "human\n",
      "human\n",
      "<class '__main__.Person'>\n",
      "human\n",
      "human\n",
      "human\n",
      "human\n",
      "about human 1995\n"
     ]
    }
   ],
   "source": [
    "# 89 클래스 매소드와 스테틱 메소드\n",
    "\n",
    "class Person(object):\n",
    "    \n",
    "    kind = 'human'\n",
    "    \n",
    "    def __init__(self):\n",
    "        self.x = 100\n",
    "\n",
    "    @classmethod\n",
    "    def what_is_your_kind(cls):\n",
    "        return cls.kind\n",
    "    \n",
    "    @staticmethod\n",
    "    def about(year):\n",
    "        print('about human {}'.format(year))\n",
    "        \n",
    "\n",
    "a = Person()\n",
    "print(a)\n",
    "print(a.x)\n",
    "print(a.kind)\n",
    "print(a.what_is_your_kind())\n",
    "\n",
    "b = Person\n",
    "print(b)\n",
    "# print(b.x) <- Error\n",
    "print(b.kind)\n",
    "print(b.what_is_your_kind()) # class method 실행!\n",
    "\n",
    "print(Person.kind)\n",
    "print(Person.what_is_your_kind())\n",
    "\n",
    "Person.about(1995)  # 별로 쓸일이 없음"
   ]
  },
  {
   "cell_type": "code",
   "execution_count": 96,
   "id": "1d6115f7-9a8b-4496-9d3d-32f91f558032",
   "metadata": {},
   "outputs": [
    {
     "name": "stdout",
     "output_type": "stream",
     "text": [
      "Word!!!!!\n",
      "4\n",
      "test############\n",
      "True\n",
      "False\n"
     ]
    }
   ],
   "source": [
    "# 90 특수메소드 (Python magic method)\n",
    "\n",
    "class Word(object):\n",
    "    \n",
    "    def __init__(self, text):\n",
    "        self.text = text\n",
    "        \n",
    "    def __str__(self):\n",
    "        return \"Word!!!!!\"\n",
    "    \n",
    "    def __len__(self):\n",
    "        return len(self.text)\n",
    "    \n",
    "    def __add__(self, word):\n",
    "        return self.text.lower() + word.text.lower()\n",
    "    \n",
    "    def __eq__(self, word):\n",
    "        return self.text.lower() == word.text.lower()\n",
    "\n",
    "w = Word('test')\n",
    "print(w)\n",
    "print(len(w))\n",
    "\n",
    "w2 = Word('############')\n",
    "print(w + w2)\n",
    "\n",
    "w3 = Word('test')\n",
    "print(w == w3)\n",
    "print(w == w2)"
   ]
  }
 ],
 "metadata": {
  "kernelspec": {
   "display_name": "Python 3 (ipykernel)",
   "language": "python",
   "name": "python3"
  },
  "language_info": {
   "codemirror_mode": {
    "name": "ipython",
    "version": 3
   },
   "file_extension": ".py",
   "mimetype": "text/x-python",
   "name": "python",
   "nbconvert_exporter": "python",
   "pygments_lexer": "ipython3",
   "version": "3.9.6"
  }
 },
 "nbformat": 4,
 "nbformat_minor": 5
}
